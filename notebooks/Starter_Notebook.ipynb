{
  "cells": [
    {
      "cell_type": "markdown",
      "metadata": {
        "id": "QgEc4aC_eHvY"
      },
      "source": [
        "# Telangana Crop Health Challenge\n",
        "\n",
        "---\n",
        "\n",
        "### Can you predict the health status of crops?\n",
        "\n",
        "---\n"
      ]
    },
    {
      "cell_type": "markdown",
      "metadata": {
        "id": "PBbqmfc8egYe"
      },
      "source": [
        "# Setup Notebook\n"
      ]
    },
    {
      "cell_type": "code",
      "execution_count": 64,
      "metadata": {
        "id": "wDC8mC0N2pyp"
      },
      "outputs": [
        {
          "data": {
            "text/html": [
              "\n",
              "            <style>\n",
              "                .geemap-dark {\n",
              "                    --jp-widgets-color: white;\n",
              "                    --jp-widgets-label-color: white;\n",
              "                    --jp-ui-font-color1: white;\n",
              "                    --jp-layout-color2: #454545;\n",
              "                    background-color: #383838;\n",
              "                }\n",
              "\n",
              "                .geemap-dark .jupyter-button {\n",
              "                    --jp-layout-color3: #383838;\n",
              "                }\n",
              "\n",
              "                .geemap-colab {\n",
              "                    background-color: var(--colab-primary-surface-color, white);\n",
              "                }\n",
              "\n",
              "                .geemap-colab .jupyter-button {\n",
              "                    --jp-layout-color3: var(--colab-primary-surface-color, white);\n",
              "                }\n",
              "            </style>\n",
              "            "
            ],
            "text/plain": [
              "<IPython.core.display.HTML object>"
            ]
          },
          "metadata": {},
          "output_type": "display_data"
        }
      ],
      "source": [
        "%%capture\n",
        "!pip install earthengine-api geopandas rasterio rasterstats shapely"
      ]
    },
    {
      "cell_type": "markdown",
      "metadata": {
        "id": "4NxUOE8jfCV9"
      },
      "source": [
        "# Libraries and Modules Import\n"
      ]
    },
    {
      "cell_type": "code",
      "execution_count": null,
      "metadata": {
        "colab": {
          "base_uri": "https://localhost:8080/",
          "height": 138
        },
        "id": "yGg1Cyv02_bQ",
        "outputId": "9a11846e-1320-4c33-b396-9d9d81ad70b8"
      },
      "outputs": [
        {
          "data": {
            "text/html": [
              "\n",
              "            <style>\n",
              "                .geemap-dark {\n",
              "                    --jp-widgets-color: white;\n",
              "                    --jp-widgets-label-color: white;\n",
              "                    --jp-ui-font-color1: white;\n",
              "                    --jp-layout-color2: #454545;\n",
              "                    background-color: #383838;\n",
              "                }\n",
              "\n",
              "                .geemap-dark .jupyter-button {\n",
              "                    --jp-layout-color3: #383838;\n",
              "                }\n",
              "\n",
              "                .geemap-colab {\n",
              "                    background-color: var(--colab-primary-surface-color, white);\n",
              "                }\n",
              "\n",
              "                .geemap-colab .jupyter-button {\n",
              "                    --jp-layout-color3: var(--colab-primary-surface-color, white);\n",
              "                }\n",
              "            </style>\n",
              "            "
            ],
            "text/plain": [
              "<IPython.core.display.HTML object>"
            ]
          },
          "metadata": {},
          "output_type": "display_data"
        }
      ],
      "source": [
        "# Standard Library Imports\n",
        "import logging\n",
        "from concurrent.futures import ThreadPoolExecutor, as_completed\n",
        "from joblib import Parallel, delayed\n",
        "from tqdm import tqdm\n",
        "from datetime import datetime\n",
        "from pathlib import Path\n",
        "import os\n",
        "import random\n",
        "\n",
        "# Third-Party Imports\n",
        "import ee\n",
        "import geemap\n",
        "import matplotlib.pyplot as plt\n",
        "import numpy as np\n",
        "import pandas as pd\n",
        "import rasterio\n",
        "from lightgbm import LGBMClassifier\n",
        "from shapely.affinity import scale, translate\n",
        "from skimage import exposure\n",
        "from sklearn.metrics import classification_report, f1_score\n",
        "from sklearn.model_selection import StratifiedKFold, train_test_split\n",
        "from sklearn.preprocessing import LabelEncoder\n",
        "\n",
        "from shapely import wkt\n",
        "import geopandas as gpd\n",
        "\n",
        "import warnings\n",
        "warnings.filterwarnings('ignore')\n",
        "\n",
        "# Set up a logger to capture Rasterio warnings\n",
        "logging.getLogger(\"rasterio._env\").setLevel(logging.ERROR)"
      ]
    },
    {
      "cell_type": "markdown",
      "metadata": {
        "id": "6Dzgl65yfqYN"
      },
      "source": [
        "# Project Setup and Earth Engine Initialization\n"
      ]
    },
    {
      "cell_type": "code",
      "execution_count": 20,
      "metadata": {
        "colab": {
          "base_uri": "https://localhost:8080/",
          "height": 17
        },
        "id": "8aXKLcU9fvU1",
        "outputId": "3bdd7a2a-b180-4f21-8bb1-2231209b9d6c"
      },
      "outputs": [
        {
          "data": {
            "text/html": [
              "\n",
              "            <style>\n",
              "                .geemap-dark {\n",
              "                    --jp-widgets-color: white;\n",
              "                    --jp-widgets-label-color: white;\n",
              "                    --jp-ui-font-color1: white;\n",
              "                    --jp-layout-color2: #454545;\n",
              "                    background-color: #383838;\n",
              "                }\n",
              "\n",
              "                .geemap-dark .jupyter-button {\n",
              "                    --jp-layout-color3: #383838;\n",
              "                }\n",
              "\n",
              "                .geemap-colab {\n",
              "                    background-color: var(--colab-primary-surface-color, white);\n",
              "                }\n",
              "\n",
              "                .geemap-colab .jupyter-button {\n",
              "                    --jp-layout-color3: var(--colab-primary-surface-color, white);\n",
              "                }\n",
              "            </style>\n",
              "            "
            ],
            "text/plain": [
              "<IPython.core.display.HTML object>"
            ]
          },
          "metadata": {},
          "output_type": "display_data"
        }
      ],
      "source": [
        "# Define the root path for the project\n",
        "root_path = Path(\".\")"
      ]
    },
    {
      "cell_type": "code",
      "execution_count": 66,
      "metadata": {
        "colab": {
          "base_uri": "https://localhost:8080/",
          "height": 17
        },
        "id": "IrqeBjHbenYO",
        "outputId": "c99cebfb-a9a1-4e37-9477-50985da2253f"
      },
      "outputs": [
        {
          "data": {
            "text/html": [
              "\n",
              "            <style>\n",
              "                .geemap-dark {\n",
              "                    --jp-widgets-color: white;\n",
              "                    --jp-widgets-label-color: white;\n",
              "                    --jp-ui-font-color1: white;\n",
              "                    --jp-layout-color2: #454545;\n",
              "                    background-color: #383838;\n",
              "                }\n",
              "\n",
              "                .geemap-dark .jupyter-button {\n",
              "                    --jp-layout-color3: #383838;\n",
              "                }\n",
              "\n",
              "                .geemap-colab {\n",
              "                    background-color: var(--colab-primary-surface-color, white);\n",
              "                }\n",
              "\n",
              "                .geemap-colab .jupyter-button {\n",
              "                    --jp-layout-color3: var(--colab-primary-surface-color, white);\n",
              "                }\n",
              "            </style>\n",
              "            "
            ],
            "text/plain": [
              "<IPython.core.display.HTML object>"
            ]
          },
          "metadata": {},
          "output_type": "display_data"
        }
      ],
      "source": [
        "# Authenticate with Google Earth Engine\n",
        "# This opens a browser prompt for authentication, if not previously authenticated\n",
        "ee.Authenticate()\n",
        "\n",
        "# Initialize Earth Engine with a specific project\n",
        "# Replace \"project\" with your project ID as needed\n",
        "ee.Initialize(project=\"lofty-sonar-387707\")"
      ]
    },
    {
      "cell_type": "markdown",
      "metadata": {
        "id": "FX3ISF5IgMYE"
      },
      "source": [
        "# Data Loading and Preprocessing\n"
      ]
    },
    {
      "cell_type": "markdown",
      "metadata": {
        "id": "o8zjh8xTgNMs"
      },
      "source": [
        "**Load Train and Test**\n"
      ]
    },
    {
      "cell_type": "code",
      "execution_count": 67,
      "metadata": {
        "colab": {
          "base_uri": "https://localhost:8080/",
          "height": 17
        },
        "id": "IY6BGNs_3JfK",
        "outputId": "1e45376c-540d-4523-dcf7-71d31246529a"
      },
      "outputs": [
        {
          "data": {
            "text/html": [
              "\n",
              "            <style>\n",
              "                .geemap-dark {\n",
              "                    --jp-widgets-color: white;\n",
              "                    --jp-widgets-label-color: white;\n",
              "                    --jp-ui-font-color1: white;\n",
              "                    --jp-layout-color2: #454545;\n",
              "                    background-color: #383838;\n",
              "                }\n",
              "\n",
              "                .geemap-dark .jupyter-button {\n",
              "                    --jp-layout-color3: #383838;\n",
              "                }\n",
              "\n",
              "                .geemap-colab {\n",
              "                    background-color: var(--colab-primary-surface-color, white);\n",
              "                }\n",
              "\n",
              "                .geemap-colab .jupyter-button {\n",
              "                    --jp-layout-color3: var(--colab-primary-surface-color, white);\n",
              "                }\n",
              "            </style>\n",
              "            "
            ],
            "text/plain": [
              "<IPython.core.display.HTML object>"
            ]
          },
          "metadata": {},
          "output_type": "display_data"
        }
      ],
      "source": [
        "# Load training and testing datasets from CSV files\n",
        "train = pd.read_csv('Train.csv')\n",
        "test = pd.read_csv('Test.csv')"
      ]
    },
    {
      "cell_type": "markdown",
      "metadata": {
        "id": "0w0j8JXhgcT5"
      },
      "source": [
        "**Convert Geometry Columns to Geospatial Format**\n"
      ]
    },
    {
      "cell_type": "code",
      "execution_count": 68,
      "metadata": {
        "colab": {
          "base_uri": "https://localhost:8080/",
          "height": 17
        },
        "id": "2VMdtK6nPiT-",
        "outputId": "b902d1b2-ab83-4420-8064-74749c652357"
      },
      "outputs": [
        {
          "data": {
            "text/html": [
              "\n",
              "            <style>\n",
              "                .geemap-dark {\n",
              "                    --jp-widgets-color: white;\n",
              "                    --jp-widgets-label-color: white;\n",
              "                    --jp-ui-font-color1: white;\n",
              "                    --jp-layout-color2: #454545;\n",
              "                    background-color: #383838;\n",
              "                }\n",
              "\n",
              "                .geemap-dark .jupyter-button {\n",
              "                    --jp-layout-color3: #383838;\n",
              "                }\n",
              "\n",
              "                .geemap-colab {\n",
              "                    background-color: var(--colab-primary-surface-color, white);\n",
              "                }\n",
              "\n",
              "                .geemap-colab .jupyter-button {\n",
              "                    --jp-layout-color3: var(--colab-primary-surface-color, white);\n",
              "                }\n",
              "            </style>\n",
              "            "
            ],
            "text/plain": [
              "<IPython.core.display.HTML object>"
            ]
          },
          "metadata": {},
          "output_type": "display_data"
        }
      ],
      "source": [
        "# Convert WKT geometry to actual geometry objects in both datasets\n",
        "train['geometry'] = train['geometry'].apply(wkt.loads)\n",
        "test['geometry'] = test['geometry'].apply(wkt.loads)"
      ]
    },
    {
      "cell_type": "markdown",
      "metadata": {
        "id": "4PePPSBsgqGN"
      },
      "source": [
        "**Convert DataFrames to GeoDataFrames**\n"
      ]
    },
    {
      "cell_type": "code",
      "execution_count": 69,
      "metadata": {
        "colab": {
          "base_uri": "https://localhost:8080/",
          "height": 17
        },
        "id": "bNT00SHOgp-d",
        "outputId": "f4f92c96-89f6-43d3-a141-0bd1f4aed2c5"
      },
      "outputs": [
        {
          "data": {
            "text/html": [
              "\n",
              "            <style>\n",
              "                .geemap-dark {\n",
              "                    --jp-widgets-color: white;\n",
              "                    --jp-widgets-label-color: white;\n",
              "                    --jp-ui-font-color1: white;\n",
              "                    --jp-layout-color2: #454545;\n",
              "                    background-color: #383838;\n",
              "                }\n",
              "\n",
              "                .geemap-dark .jupyter-button {\n",
              "                    --jp-layout-color3: #383838;\n",
              "                }\n",
              "\n",
              "                .geemap-colab {\n",
              "                    background-color: var(--colab-primary-surface-color, white);\n",
              "                }\n",
              "\n",
              "                .geemap-colab .jupyter-button {\n",
              "                    --jp-layout-color3: var(--colab-primary-surface-color, white);\n",
              "                }\n",
              "            </style>\n",
              "            "
            ],
            "text/plain": [
              "<IPython.core.display.HTML object>"
            ]
          },
          "metadata": {},
          "output_type": "display_data"
        }
      ],
      "source": [
        "# Convert pandas DataFrames to GeoDataFrames with CRS set to 'epsg:4326'\n",
        "train = gpd.GeoDataFrame(train, crs='epsg:4326')\n",
        "test = gpd.GeoDataFrame(test, crs='epsg:4326')"
      ]
    },
    {
      "cell_type": "markdown",
      "metadata": {
        "id": "RsHE4ZpYg25J"
      },
      "source": [
        "**Concatenate Train and Test Data for Unified Processing**\n"
      ]
    },
    {
      "cell_type": "code",
      "execution_count": 70,
      "metadata": {
        "colab": {
          "base_uri": "https://localhost:8080/",
          "height": 17
        },
        "id": "1Oq15hAGgp7l",
        "outputId": "1058b8c9-31bf-48a7-d67b-8dd64be05e6c"
      },
      "outputs": [
        {
          "data": {
            "text/html": [
              "\n",
              "            <style>\n",
              "                .geemap-dark {\n",
              "                    --jp-widgets-color: white;\n",
              "                    --jp-widgets-label-color: white;\n",
              "                    --jp-ui-font-color1: white;\n",
              "                    --jp-layout-color2: #454545;\n",
              "                    background-color: #383838;\n",
              "                }\n",
              "\n",
              "                .geemap-dark .jupyter-button {\n",
              "                    --jp-layout-color3: #383838;\n",
              "                }\n",
              "\n",
              "                .geemap-colab {\n",
              "                    background-color: var(--colab-primary-surface-color, white);\n",
              "                }\n",
              "\n",
              "                .geemap-colab .jupyter-button {\n",
              "                    --jp-layout-color3: var(--colab-primary-surface-color, white);\n",
              "                }\n",
              "            </style>\n",
              "            "
            ],
            "text/plain": [
              "<IPython.core.display.HTML object>"
            ]
          },
          "metadata": {},
          "output_type": "display_data"
        }
      ],
      "source": [
        "# Concatenate train and test datasets into a single DataFrame for consistent processing\n",
        "# 'dataset' column distinguishes between train and test rows\n",
        "data = pd.concat(\n",
        "    [train.assign(dataset='train'), test.assign(dataset='test')]\n",
        ").reset_index(drop=True)"
      ]
    },
    {
      "cell_type": "markdown",
      "metadata": {
        "id": "q68bgnq2hJoM"
      },
      "source": [
        "**Scale Geometry Objects**\n"
      ]
    },
    {
      "cell_type": "code",
      "execution_count": 71,
      "metadata": {
        "colab": {
          "base_uri": "https://localhost:8080/",
          "height": 17
        },
        "id": "WZPQN9JQgp3r",
        "outputId": "df618687-be52-4f6d-f1cb-e22810570a22"
      },
      "outputs": [
        {
          "data": {
            "text/html": [
              "\n",
              "            <style>\n",
              "                .geemap-dark {\n",
              "                    --jp-widgets-color: white;\n",
              "                    --jp-widgets-label-color: white;\n",
              "                    --jp-ui-font-color1: white;\n",
              "                    --jp-layout-color2: #454545;\n",
              "                    background-color: #383838;\n",
              "                }\n",
              "\n",
              "                .geemap-dark .jupyter-button {\n",
              "                    --jp-layout-color3: #383838;\n",
              "                }\n",
              "\n",
              "                .geemap-colab {\n",
              "                    background-color: var(--colab-primary-surface-color, white);\n",
              "                }\n",
              "\n",
              "                .geemap-colab .jupyter-button {\n",
              "                    --jp-layout-color3: var(--colab-primary-surface-color, white);\n",
              "                }\n",
              "            </style>\n",
              "            "
            ],
            "text/plain": [
              "<IPython.core.display.HTML object>"
            ]
          },
          "metadata": {},
          "output_type": "display_data"
        }
      ],
      "source": [
        "# Function to scale each geometry around its centroid\n",
        "def scale_geometry(geometry, scale_factor):\n",
        "    \"\"\"\n",
        "    Scale a geometry object around its centroid.\n",
        "\n",
        "    Parameters:\n",
        "        geometry (shapely.geometry.base.BaseGeometry): Geometry to scale.\n",
        "        scale_factor (float): Factor by which to scale the geometry.\n",
        "\n",
        "    Returns:\n",
        "        shapely.geometry.base.BaseGeometry: Scaled geometry object.\n",
        "    \"\"\"\n",
        "    # Calculate centroid\n",
        "    centroid = geometry.centroid\n",
        "    # Translate geometry to origin\n",
        "    translated_geometry = translate(geometry, -centroid.x, -centroid.y)\n",
        "    # Scale geometry\n",
        "    scaled_geometry = scale(\n",
        "        translated_geometry, xfact=scale_factor, yfact=scale_factor, origin=(0, 0))\n",
        "    # Translate back to the original centroid\n",
        "    return translate(scaled_geometry, centroid.x, centroid.y)"
      ]
    },
    {
      "cell_type": "code",
      "execution_count": 73,
      "metadata": {
        "colab": {
          "base_uri": "https://localhost:8080/",
          "height": 17
        },
        "id": "U8jtkV5qgp1d",
        "outputId": "7a124ec5-5c66-4719-fbcf-4a807695b554"
      },
      "outputs": [
        {
          "data": {
            "text/html": [
              "\n",
              "            <style>\n",
              "                .geemap-dark {\n",
              "                    --jp-widgets-color: white;\n",
              "                    --jp-widgets-label-color: white;\n",
              "                    --jp-ui-font-color1: white;\n",
              "                    --jp-layout-color2: #454545;\n",
              "                    background-color: #383838;\n",
              "                }\n",
              "\n",
              "                .geemap-dark .jupyter-button {\n",
              "                    --jp-layout-color3: #383838;\n",
              "                }\n",
              "\n",
              "                .geemap-colab {\n",
              "                    background-color: var(--colab-primary-surface-color, white);\n",
              "                }\n",
              "\n",
              "                .geemap-colab .jupyter-button {\n",
              "                    --jp-layout-color3: var(--colab-primary-surface-color, white);\n",
              "                }\n",
              "            </style>\n",
              "            "
            ],
            "text/plain": [
              "<IPython.core.display.HTML object>"
            ]
          },
          "metadata": {},
          "output_type": "display_data"
        }
      ],
      "source": [
        "# Set the scaling factor\n",
        "scale_factor = 5\n",
        "\n",
        "# Apply the scaling function to each geometry in the data\n",
        "# This modifies each geometry in place by the defined scale factor\n",
        "data['geometry'] = data['geometry'].apply(\n",
        "    scale_geometry, scale_factor=scale_factor)"
      ]
    },
    {
      "cell_type": "markdown",
      "metadata": {
        "id": "eCqHijZBhiCI"
      },
      "source": [
        "# Download Image Data\n"
      ]
    },
    {
      "cell_type": "markdown",
      "metadata": {
        "id": "RKoadIsZhouN"
      },
      "source": [
        "**Utils**\n"
      ]
    },
    {
      "cell_type": "code",
      "execution_count": 28,
      "metadata": {
        "colab": {
          "base_uri": "https://localhost:8080/",
          "height": 17
        },
        "id": "ya4Ncfoghmfg",
        "outputId": "b574e539-0e26-407b-e8cd-61de0f9416c7"
      },
      "outputs": [
        {
          "data": {
            "text/html": [
              "\n",
              "            <style>\n",
              "                .geemap-dark {\n",
              "                    --jp-widgets-color: white;\n",
              "                    --jp-widgets-label-color: white;\n",
              "                    --jp-ui-font-color1: white;\n",
              "                    --jp-layout-color2: #454545;\n",
              "                    background-color: #383838;\n",
              "                }\n",
              "\n",
              "                .geemap-dark .jupyter-button {\n",
              "                    --jp-layout-color3: #383838;\n",
              "                }\n",
              "\n",
              "                .geemap-colab {\n",
              "                    background-color: var(--colab-primary-surface-color, white);\n",
              "                }\n",
              "\n",
              "                .geemap-colab .jupyter-button {\n",
              "                    --jp-layout-color3: var(--colab-primary-surface-color, white);\n",
              "                }\n",
              "            </style>\n",
              "            "
            ],
            "text/plain": [
              "<IPython.core.display.HTML object>"
            ]
          },
          "metadata": {},
          "output_type": "display_data"
        }
      ],
      "source": [
        "# Function to ensure date format is correct\n",
        "def format_date(date_str):\n",
        "    \"\"\"Convert date string to 'YYYY-MM-DD' format.\"\"\"\n",
        "    try:\n",
        "        return datetime.strptime(date_str, '%Y-%m-%d %H:%M:%S').strftime('%Y-%m-%d')\n",
        "    except ValueError:\n",
        "        print(f\"Error: Invalid date format for {\n",
        "              date_str}. Expected 'DD-MM-YYYY'.\")\n",
        "        return None"
      ]
    },
    {
      "cell_type": "markdown",
      "metadata": {
        "id": "O_o7YLCdh0EP"
      },
      "source": [
        "**Convert GeoDataFrame to Earth Engine FeatureCollection**\n"
      ]
    },
    {
      "cell_type": "code",
      "execution_count": 74,
      "metadata": {
        "colab": {
          "base_uri": "https://localhost:8080/",
          "height": 17
        },
        "id": "NfE6u6x2hmdR",
        "outputId": "bce9a3b9-3666-44f5-f79b-712f2b5129d0"
      },
      "outputs": [
        {
          "data": {
            "text/html": [
              "\n",
              "            <style>\n",
              "                .geemap-dark {\n",
              "                    --jp-widgets-color: white;\n",
              "                    --jp-widgets-label-color: white;\n",
              "                    --jp-ui-font-color1: white;\n",
              "                    --jp-layout-color2: #454545;\n",
              "                    background-color: #383838;\n",
              "                }\n",
              "\n",
              "                .geemap-dark .jupyter-button {\n",
              "                    --jp-layout-color3: #383838;\n",
              "                }\n",
              "\n",
              "                .geemap-colab {\n",
              "                    background-color: var(--colab-primary-surface-color, white);\n",
              "                }\n",
              "\n",
              "                .geemap-colab .jupyter-button {\n",
              "                    --jp-layout-color3: var(--colab-primary-surface-color, white);\n",
              "                }\n",
              "            </style>\n",
              "            "
            ],
            "text/plain": [
              "<IPython.core.display.HTML object>"
            ]
          },
          "metadata": {},
          "output_type": "display_data"
        }
      ],
      "source": [
        "# Function to convert a GeoDataFrame to Google Earth Engine FeatureCollection\n",
        "def gdf_to_gee(gdf):\n",
        "    \"\"\"Converts a GeoDataFrame to an Earth Engine FeatureCollection.\"\"\"\n",
        "    features = []\n",
        "    for _, row in gdf.iterrows():\n",
        "        # Convert geometry to GeoJSON format\n",
        "        geom = row['geometry'].__geo_interface__\n",
        "        # Create an EE Feature\n",
        "        feature = ee.Feature(ee.Geometry(geom), row.to_dict())\n",
        "        features.append(feature)\n",
        "    return ee.FeatureCollection(features)\n",
        "\n",
        "\n",
        "# Convert the entire dataset GeoDataFrame to a FeatureCollection for GEE\n",
        "gee_feature_collection = gdf_to_gee(data)"
      ]
    },
    {
      "cell_type": "markdown",
      "metadata": {
        "id": "cGz3vnHdh8qk"
      },
      "source": [
        "**Initialize Earth Engine and Set Up Directories**\n"
      ]
    },
    {
      "cell_type": "code",
      "execution_count": 75,
      "metadata": {
        "colab": {
          "base_uri": "https://localhost:8080/",
          "height": 17
        },
        "id": "U-R1CIGthmat",
        "outputId": "e7a0235e-2330-474f-92a1-62ac19f851d7"
      },
      "outputs": [
        {
          "data": {
            "text/html": [
              "\n",
              "            <style>\n",
              "                .geemap-dark {\n",
              "                    --jp-widgets-color: white;\n",
              "                    --jp-widgets-label-color: white;\n",
              "                    --jp-ui-font-color1: white;\n",
              "                    --jp-layout-color2: #454545;\n",
              "                    background-color: #383838;\n",
              "                }\n",
              "\n",
              "                .geemap-dark .jupyter-button {\n",
              "                    --jp-layout-color3: #383838;\n",
              "                }\n",
              "\n",
              "                .geemap-colab {\n",
              "                    background-color: var(--colab-primary-surface-color, white);\n",
              "                }\n",
              "\n",
              "                .geemap-colab .jupyter-button {\n",
              "                    --jp-layout-color3: var(--colab-primary-surface-color, white);\n",
              "                }\n",
              "            </style>\n",
              "            "
            ],
            "text/plain": [
              "<IPython.core.display.HTML object>"
            ]
          },
          "metadata": {},
          "output_type": "display_data"
        },
        {
          "data": {
            "text/plain": [
              "\" \\n# if you already downloaded the data.\\n\\n# Initialize Earth Engine\\nee.Initialize()\\n\\n# Remove existing 'downloads' folder if it exists\\nif os.path.exists('downloads'):\\n    os.system('rm -rf downloads')\\n\\n# Ensure the output directory exists\\noutput_folder = 'downloads'\\nos.makedirs(output_folder, exist_ok=True) \\n\""
            ]
          },
          "execution_count": 75,
          "metadata": {},
          "output_type": "execute_result"
        }
      ],
      "source": [
        "donwload = False\n",
        "output_folder = 'downloads'\n",
        "\"\"\" \n",
        "# if you already downloaded the data.\n",
        "\n",
        "# Initialize Earth Engine\n",
        "ee.Initialize()\n",
        "\n",
        "# Remove existing 'downloads' folder if it exists\n",
        "if os.path.exists('downloads'):\n",
        "    os.system('rm -rf downloads')\n",
        "\n",
        "# Ensure the output directory exists\n",
        "output_folder = 'downloads'\n",
        "os.makedirs(output_folder, exist_ok=True) \n",
        "\"\"\""
      ]
    },
    {
      "cell_type": "markdown",
      "metadata": {
        "id": "SbyHxksmiBDA"
      },
      "source": [
        "**Download from Earth Engine**\n"
      ]
    },
    {
      "cell_type": "code",
      "execution_count": 34,
      "metadata": {
        "colab": {
          "base_uri": "https://localhost:8080/",
          "height": 17
        },
        "id": "QSJYTlGgh6--",
        "outputId": "e4ca6f84-c66a-4b6b-e7c4-c759908b69a9"
      },
      "outputs": [
        {
          "data": {
            "text/html": [
              "\n",
              "            <style>\n",
              "                .geemap-dark {\n",
              "                    --jp-widgets-color: white;\n",
              "                    --jp-widgets-label-color: white;\n",
              "                    --jp-ui-font-color1: white;\n",
              "                    --jp-layout-color2: #454545;\n",
              "                    background-color: #383838;\n",
              "                }\n",
              "\n",
              "                .geemap-dark .jupyter-button {\n",
              "                    --jp-layout-color3: #383838;\n",
              "                }\n",
              "\n",
              "                .geemap-colab {\n",
              "                    background-color: var(--colab-primary-surface-color, white);\n",
              "                }\n",
              "\n",
              "                .geemap-colab .jupyter-button {\n",
              "                    --jp-layout-color3: var(--colab-primary-surface-color, white);\n",
              "                }\n",
              "            </style>\n",
              "            "
            ],
            "text/plain": [
              "<IPython.core.display.HTML object>"
            ]
          },
          "metadata": {},
          "output_type": "display_data"
        }
      ],
      "source": [
        "# Function to download RGB images from Earth Engine\n",
        "def download_rgb_image(collection_name, bands, start_date, end_date, region, output_folder='downloads'):\n",
        "    \"\"\"Download RGB bands from a GEE collection filtered by date and region.\"\"\"\n",
        "    # Load the image collection, filter by date, and clip to region\n",
        "    collection = ee.ImageCollection(collection_name).filterDate(\n",
        "        start_date, end_date).filterBounds(region)\n",
        "    image = collection.sort('system:time_start', False).first().select(\n",
        "        bands).clip(region)  # Most recent image\n",
        "\n",
        "    # Define unique filename based on image dates\n",
        "    image_id = image.id().getInfo() or f'image_{start_date}_{end_date}'\n",
        "    image_name = f'{output_folder}/{image_id}_RGB_{start_date}_{end_date}.tif'\n",
        "\n",
        "    # Export the image to a GeoTIFF file\n",
        "    geemap.ee_export_image(\n",
        "        image,\n",
        "        filename=image_name,\n",
        "        scale=10,  # Sentinel-2 resolution in meters\n",
        "        region=region,\n",
        "        file_per_band=False,  # Save as a multi-band TIFF\n",
        "        crs='EPSG:4326'\n",
        "    )\n",
        "    print(f\"Downloaded: {image_name}\")\n",
        "    return image_name"
      ]
    },
    {
      "cell_type": "code",
      "execution_count": 35,
      "metadata": {
        "colab": {
          "base_uri": "https://localhost:8080/",
          "height": 17
        },
        "id": "VePFJ8GQh68G",
        "outputId": "d0387619-4bef-44be-9780-d6f8188f7067"
      },
      "outputs": [
        {
          "data": {
            "text/html": [
              "\n",
              "            <style>\n",
              "                .geemap-dark {\n",
              "                    --jp-widgets-color: white;\n",
              "                    --jp-widgets-label-color: white;\n",
              "                    --jp-ui-font-color1: white;\n",
              "                    --jp-layout-color2: #454545;\n",
              "                    background-color: #383838;\n",
              "                }\n",
              "\n",
              "                .geemap-dark .jupyter-button {\n",
              "                    --jp-layout-color3: #383838;\n",
              "                }\n",
              "\n",
              "                .geemap-colab {\n",
              "                    background-color: var(--colab-primary-surface-color, white);\n",
              "                }\n",
              "\n",
              "                .geemap-colab .jupyter-button {\n",
              "                    --jp-layout-color3: var(--colab-primary-surface-color, white);\n",
              "                }\n",
              "            </style>\n",
              "            "
            ],
            "text/plain": [
              "<IPython.core.display.HTML object>"
            ]
          },
          "metadata": {},
          "output_type": "display_data"
        }
      ],
      "source": [
        "# Function to process each row in the dataset for image download\n",
        "def process_row(index, row):\n",
        "    # Format start and end dates\n",
        "    start_date = format_date(row['SDate'])\n",
        "    end_date = format_date(row['HDate'])\n",
        "\n",
        "    # Skip rows with invalid dates\n",
        "    if not start_date or not end_date:\n",
        "        print(f\"Skipping entry due to invalid dates: SDate={\n",
        "              row['SDate']}, HDate={row['HDate']}\")\n",
        "        return index, None\n",
        "\n",
        "    # Extract and check geometry\n",
        "    region_geometry = row['geometry']\n",
        "    district = row['District']\n",
        "\n",
        "    # Verify valid geometry and convert it to EE format\n",
        "    if region_geometry.is_empty:\n",
        "        print(f\"Skipping entry due to empty geometry for District: {district}\")\n",
        "        return index, None\n",
        "\n",
        "    # Convert geometry type to EE compatible format\n",
        "    if region_geometry.geom_type == 'Polygon':\n",
        "        region = ee.Geometry.Polygon(\n",
        "            region_geometry.__geo_interface__['coordinates'])\n",
        "    elif region_geometry.geom_type == 'MultiPolygon':\n",
        "        coords = [polygon.exterior.coords[:]\n",
        "                  for polygon in region_geometry.geoms]\n",
        "        region = ee.Geometry.MultiPolygon(coords)\n",
        "    else:\n",
        "        print(f\"Skipping unsupported geometry type: {\n",
        "              region_geometry.geom_type} for District: {district}\")\n",
        "        return index, None\n",
        "\n",
        "    # Define Sentinel-2 collection and bands\n",
        "    image_collection_name = 'COPERNICUS/S2'\n",
        "    bands = ['B4', 'B3', 'B2', 'B8', 'B5', 'B6', 'B7', 'B8A', 'B11', 'B12']\n",
        "\n",
        "    # Attempt to download the image\n",
        "    try:\n",
        "        image_file = download_rgb_image(\n",
        "            image_collection_name, bands, start_date, end_date, region, output_folder)\n",
        "        return index, image_file\n",
        "    except Exception as e:\n",
        "        print(f\"Error processing entry for District {district}: {e}\")\n",
        "        return index, None"
      ]
    },
    {
      "cell_type": "code",
      "execution_count": 78,
      "metadata": {
        "colab": {
          "base_uri": "https://localhost:8080/",
          "height": 17
        },
        "id": "wk2LzuPmh63-",
        "outputId": "b31c66f1-512c-443d-d1bc-f86b9c095047"
      },
      "outputs": [
        {
          "data": {
            "text/html": [
              "\n",
              "            <style>\n",
              "                .geemap-dark {\n",
              "                    --jp-widgets-color: white;\n",
              "                    --jp-widgets-label-color: white;\n",
              "                    --jp-ui-font-color1: white;\n",
              "                    --jp-layout-color2: #454545;\n",
              "                    background-color: #383838;\n",
              "                }\n",
              "\n",
              "                .geemap-dark .jupyter-button {\n",
              "                    --jp-layout-color3: #383838;\n",
              "                }\n",
              "\n",
              "                .geemap-colab {\n",
              "                    background-color: var(--colab-primary-surface-color, white);\n",
              "                }\n",
              "\n",
              "                .geemap-colab .jupyter-button {\n",
              "                    --jp-layout-color3: var(--colab-primary-surface-color, white);\n",
              "                }\n",
              "            </style>\n",
              "            "
            ],
            "text/plain": [
              "<IPython.core.display.HTML object>"
            ]
          },
          "metadata": {},
          "output_type": "display_data"
        },
        {
          "name": "stderr",
          "output_type": "stream",
          "text": [
            "cp: impossible d'évaluer '/content/drive/MyDrive/EarthEngineImages/downloads': Aucun fichier ou dossier de ce nom\n"
          ]
        }
      ],
      "source": [
        "if donwload:\n",
        "    # Execute image downloads for each row in parallel to improve performance\n",
        "    # Adjust the number of workers as needed\n",
        "    with ThreadPoolExecutor(max_workers=4) as executor:\n",
        "        futures = [executor.submit(process_row, index, row)\n",
        "                   for index, row in data.iterrows()]\n",
        "        for future in as_completed(futures):\n",
        "            index, image_file = future.result()\n",
        "            if image_file:\n",
        "                # Store the downloaded file path\n",
        "                data.at[index, 'tif_path'] = image_file\n",
        "else:\n",
        "    # Load existing data with image paths if downloads are not required\n",
        "    os.system('cp -r /content/drive/MyDrive/EarthEngineImages/downloads .')\n",
        "    data_path = \"/content/drive/MyDrive/EarthEngineImages/data.csv\"\n",
        "    data_path = os.path.join(\"data.csv\")\n",
        "    data = pd.read_csv(data_path)"
      ]
    },
    {
      "cell_type": "code",
      "execution_count": null,
      "metadata": {
        "colab": {
          "base_uri": "https://localhost:8080/",
          "height": 446
        },
        "id": "ImSp8720h61q",
        "outputId": "1a045601-7812-4d7e-c624-9f61a3f4d37a"
      },
      "outputs": [
        {
          "data": {
            "text/html": [
              "\n",
              "            <style>\n",
              "                .geemap-dark {\n",
              "                    --jp-widgets-color: white;\n",
              "                    --jp-widgets-label-color: white;\n",
              "                    --jp-ui-font-color1: white;\n",
              "                    --jp-layout-color2: #454545;\n",
              "                    background-color: #383838;\n",
              "                }\n",
              "\n",
              "                .geemap-dark .jupyter-button {\n",
              "                    --jp-layout-color3: #383838;\n",
              "                }\n",
              "\n",
              "                .geemap-colab {\n",
              "                    background-color: var(--colab-primary-surface-color, white);\n",
              "                }\n",
              "\n",
              "                .geemap-colab .jupyter-button {\n",
              "                    --jp-layout-color3: var(--colab-primary-surface-color, white);\n",
              "                }\n",
              "            </style>\n",
              "            "
            ],
            "text/plain": [
              "<IPython.core.display.HTML object>"
            ]
          },
          "metadata": {},
          "output_type": "display_data"
        },
        {
          "data": {
            "text/html": [
              "<div>\n",
              "<style scoped>\n",
              "    .dataframe tbody tr th:only-of-type {\n",
              "        vertical-align: middle;\n",
              "    }\n",
              "\n",
              "    .dataframe tbody tr th {\n",
              "        vertical-align: top;\n",
              "    }\n",
              "\n",
              "    .dataframe thead th {\n",
              "        text-align: right;\n",
              "    }\n",
              "</style>\n",
              "<table border=\"1\" class=\"dataframe\">\n",
              "  <thead>\n",
              "    <tr style=\"text-align: right;\">\n",
              "      <th></th>\n",
              "      <th>Unnamed: 0</th>\n",
              "      <th>FarmID</th>\n",
              "      <th>category</th>\n",
              "      <th>Crop</th>\n",
              "      <th>State</th>\n",
              "      <th>District</th>\n",
              "      <th>Sub-District</th>\n",
              "      <th>SDate</th>\n",
              "      <th>HDate</th>\n",
              "      <th>CropCoveredArea</th>\n",
              "      <th>...</th>\n",
              "      <th>Season</th>\n",
              "      <th>geometry</th>\n",
              "      <th>dataset</th>\n",
              "      <th>tif_path</th>\n",
              "      <th>ndvi</th>\n",
              "      <th>evi</th>\n",
              "      <th>ndwi</th>\n",
              "      <th>gndvi</th>\n",
              "      <th>savi</th>\n",
              "      <th>msavi</th>\n",
              "    </tr>\n",
              "  </thead>\n",
              "  <tbody>\n",
              "    <tr>\n",
              "      <th>0</th>\n",
              "      <td>0</td>\n",
              "      <td>1326576</td>\n",
              "      <td>Healthy</td>\n",
              "      <td>Paddy</td>\n",
              "      <td>Telangana</td>\n",
              "      <td>Medak</td>\n",
              "      <td>Kulcharam</td>\n",
              "      <td>2023-11-25 0:00:00</td>\n",
              "      <td>2024-04-14 0:00:00</td>\n",
              "      <td>97</td>\n",
              "      <td>...</td>\n",
              "      <td>Rabi</td>\n",
              "      <td>POLYGON ((78.18079255482755 17.978971746424413...</td>\n",
              "      <td>train</td>\n",
              "      <td>downloads/20240412T050649_20240412T051727_T43Q...</td>\n",
              "      <td>0.100756</td>\n",
              "      <td>-0.793684</td>\n",
              "      <td>8.488031</td>\n",
              "      <td>0.127153</td>\n",
              "      <td>0.151125</td>\n",
              "      <td>4232.596191</td>\n",
              "    </tr>\n",
              "    <tr>\n",
              "      <th>1</th>\n",
              "      <td>1</td>\n",
              "      <td>1326577</td>\n",
              "      <td>Healthy</td>\n",
              "      <td>Paddy</td>\n",
              "      <td>Telangana</td>\n",
              "      <td>Medak</td>\n",
              "      <td>Kulcharam</td>\n",
              "      <td>2023-11-13 0:00:00</td>\n",
              "      <td>2024-04-26 0:00:00</td>\n",
              "      <td>82</td>\n",
              "      <td>...</td>\n",
              "      <td>Rabi</td>\n",
              "      <td>POLYGON ((78.17483419891283 17.981508840879556...</td>\n",
              "      <td>train</td>\n",
              "      <td>downloads/20240425T051649_20240425T052817_T43Q...</td>\n",
              "      <td>0.188090</td>\n",
              "      <td>0.564248</td>\n",
              "      <td>11.493762</td>\n",
              "      <td>0.187815</td>\n",
              "      <td>0.282110</td>\n",
              "      <td>3249.392822</td>\n",
              "    </tr>\n",
              "    <tr>\n",
              "      <th>2</th>\n",
              "      <td>2</td>\n",
              "      <td>1326578</td>\n",
              "      <td>Healthy</td>\n",
              "      <td>Paddy</td>\n",
              "      <td>Telangana</td>\n",
              "      <td>Medak</td>\n",
              "      <td>Kulcharam</td>\n",
              "      <td>2023-12-19 0:00:00</td>\n",
              "      <td>2024-04-28 0:00:00</td>\n",
              "      <td>92</td>\n",
              "      <td>...</td>\n",
              "      <td>Rabi</td>\n",
              "      <td>POLYGON ((78.16888476438905 17.976727511659835...</td>\n",
              "      <td>train</td>\n",
              "      <td>downloads/20240427T050651_20240427T051439_T43Q...</td>\n",
              "      <td>0.206596</td>\n",
              "      <td>-1.456745</td>\n",
              "      <td>10.166884</td>\n",
              "      <td>0.206553</td>\n",
              "      <td>0.309869</td>\n",
              "      <td>3741.956055</td>\n",
              "    </tr>\n",
              "    <tr>\n",
              "      <th>3</th>\n",
              "      <td>3</td>\n",
              "      <td>1331836</td>\n",
              "      <td>Diseased</td>\n",
              "      <td>Paddy</td>\n",
              "      <td>Telangana</td>\n",
              "      <td>Medak</td>\n",
              "      <td>Kulcharam</td>\n",
              "      <td>2023-02-11 0:00:00</td>\n",
              "      <td>2024-11-04 0:00:00</td>\n",
              "      <td>91</td>\n",
              "      <td>...</td>\n",
              "      <td>Rabi</td>\n",
              "      <td>POLYGON ((78.16821795882959 17.974690113471414...</td>\n",
              "      <td>train</td>\n",
              "      <td>downloads/20241103T050951_20241103T052004_T43Q...</td>\n",
              "      <td>0.206250</td>\n",
              "      <td>2.206184</td>\n",
              "      <td>10.446196</td>\n",
              "      <td>0.220995</td>\n",
              "      <td>0.309350</td>\n",
              "      <td>3673.396729</td>\n",
              "    </tr>\n",
              "    <tr>\n",
              "      <th>4</th>\n",
              "      <td>4</td>\n",
              "      <td>1326579</td>\n",
              "      <td>Diseased</td>\n",
              "      <td>Paddy</td>\n",
              "      <td>Telangana</td>\n",
              "      <td>Medak</td>\n",
              "      <td>Kulcharam</td>\n",
              "      <td>2023-12-12 0:00:00</td>\n",
              "      <td>2024-05-19 0:00:00</td>\n",
              "      <td>94</td>\n",
              "      <td>...</td>\n",
              "      <td>Rabi</td>\n",
              "      <td>POLYGON ((78.17244459940454 17.969620948965225...</td>\n",
              "      <td>train</td>\n",
              "      <td>downloads/20240517T050651_20240517T051655_T43Q...</td>\n",
              "      <td>0.179721</td>\n",
              "      <td>-0.743638</td>\n",
              "      <td>8.665929</td>\n",
              "      <td>0.160657</td>\n",
              "      <td>0.269563</td>\n",
              "      <td>4227.338379</td>\n",
              "    </tr>\n",
              "  </tbody>\n",
              "</table>\n",
              "<p>5 rows × 29 columns</p>\n",
              "</div>"
            ],
            "text/plain": [
              "   Unnamed: 0   FarmID  category   Crop      State District Sub-District  \\\n",
              "0           0  1326576   Healthy  Paddy  Telangana    Medak    Kulcharam   \n",
              "1           1  1326577   Healthy  Paddy  Telangana    Medak    Kulcharam   \n",
              "2           2  1326578   Healthy  Paddy  Telangana    Medak    Kulcharam   \n",
              "3           3  1331836  Diseased  Paddy  Telangana    Medak    Kulcharam   \n",
              "4           4  1326579  Diseased  Paddy  Telangana    Medak    Kulcharam   \n",
              "\n",
              "                SDate               HDate  CropCoveredArea  ...  Season  \\\n",
              "0  2023-11-25 0:00:00  2024-04-14 0:00:00               97  ...    Rabi   \n",
              "1  2023-11-13 0:00:00  2024-04-26 0:00:00               82  ...    Rabi   \n",
              "2  2023-12-19 0:00:00  2024-04-28 0:00:00               92  ...    Rabi   \n",
              "3  2023-02-11 0:00:00  2024-11-04 0:00:00               91  ...    Rabi   \n",
              "4  2023-12-12 0:00:00  2024-05-19 0:00:00               94  ...    Rabi   \n",
              "\n",
              "                                            geometry dataset  \\\n",
              "0  POLYGON ((78.18079255482755 17.978971746424413...   train   \n",
              "1  POLYGON ((78.17483419891283 17.981508840879556...   train   \n",
              "2  POLYGON ((78.16888476438905 17.976727511659835...   train   \n",
              "3  POLYGON ((78.16821795882959 17.974690113471414...   train   \n",
              "4  POLYGON ((78.17244459940454 17.969620948965225...   train   \n",
              "\n",
              "                                            tif_path      ndvi       evi  \\\n",
              "0  downloads/20240412T050649_20240412T051727_T43Q...  0.100756 -0.793684   \n",
              "1  downloads/20240425T051649_20240425T052817_T43Q...  0.188090  0.564248   \n",
              "2  downloads/20240427T050651_20240427T051439_T43Q...  0.206596 -1.456745   \n",
              "3  downloads/20241103T050951_20241103T052004_T43Q...  0.206250  2.206184   \n",
              "4  downloads/20240517T050651_20240517T051655_T43Q...  0.179721 -0.743638   \n",
              "\n",
              "        ndwi     gndvi      savi        msavi  \n",
              "0   8.488031  0.127153  0.151125  4232.596191  \n",
              "1  11.493762  0.187815  0.282110  3249.392822  \n",
              "2  10.166884  0.206553  0.309869  3741.956055  \n",
              "3  10.446196  0.220995  0.309350  3673.396729  \n",
              "4   8.665929  0.160657  0.269563  4227.338379  \n",
              "\n",
              "[5 rows x 29 columns]"
            ]
          },
          "execution_count": 79,
          "metadata": {},
          "output_type": "execute_result"
        }
      ],
      "source": [
        "data.head()\n",
        "# data.to_csv('data.csv', index=True)"
      ]
    },
    {
      "cell_type": "markdown",
      "metadata": {
        "id": "x3G_3P6FjjLD"
      },
      "source": [
        "# Visualization\n"
      ]
    },
    {
      "cell_type": "code",
      "execution_count": 80,
      "metadata": {
        "colab": {
          "base_uri": "https://localhost:8080/",
          "height": 17
        },
        "id": "QZTI_3tA9LbG",
        "outputId": "69448b71-9a60-459f-aa0f-8f59957b155e"
      },
      "outputs": [
        {
          "data": {
            "text/html": [
              "\n",
              "            <style>\n",
              "                .geemap-dark {\n",
              "                    --jp-widgets-color: white;\n",
              "                    --jp-widgets-label-color: white;\n",
              "                    --jp-ui-font-color1: white;\n",
              "                    --jp-layout-color2: #454545;\n",
              "                    background-color: #383838;\n",
              "                }\n",
              "\n",
              "                .geemap-dark .jupyter-button {\n",
              "                    --jp-layout-color3: #383838;\n",
              "                }\n",
              "\n",
              "                .geemap-colab {\n",
              "                    background-color: var(--colab-primary-surface-color, white);\n",
              "                }\n",
              "\n",
              "                .geemap-colab .jupyter-button {\n",
              "                    --jp-layout-color3: var(--colab-primary-surface-color, white);\n",
              "                }\n",
              "            </style>\n",
              "            "
            ],
            "text/plain": [
              "<IPython.core.display.HTML object>"
            ]
          },
          "metadata": {},
          "output_type": "display_data"
        }
      ],
      "source": [
        "# Function to scale pixel values to the 0–255 range for better visualization\n",
        "def scale_band(band):\n",
        "    \"\"\"\n",
        "    Scales pixel values of a single band to the 0-255 range.\n",
        "\n",
        "    Parameters:\n",
        "    - band: np.array, pixel values of the band\n",
        "\n",
        "    Returns:\n",
        "    - np.array, scaled pixel values in the 0-255 range\n",
        "    \"\"\"\n",
        "    band = band.astype(np.float32)  # Ensure values are in float for scaling\n",
        "    # Scale to 0–255\n",
        "    return 255 * (band - np.min(band)) / (np.max(band) - np.min(band))\n",
        "\n",
        "# Function to visualize RGB image with scaling, contrast adjustments, and optional gamma correction\n",
        "\n",
        "\n",
        "def visualize_rgb_image(file_path, gamma=0.6, contrast_stretch=True):\n",
        "    \"\"\"\n",
        "    Visualize an RGB image using matplotlib with scaling, optional gamma correction, and contrast stretching.\n",
        "\n",
        "    Parameters:\n",
        "    - file_path: str, path to the RGB image file (GeoTIFF)\n",
        "    - gamma: float, gamma correction factor (default=0.6)\n",
        "    - contrast_stretch: bool, whether to apply contrast stretching (default=True)\n",
        "    \"\"\"\n",
        "    # Open the image file\n",
        "    with rasterio.open(file_path) as src:\n",
        "        # Read RGB bands (assuming Sentinel-2 band order: Red=B4, Green=B3, Blue=B2)\n",
        "        red = src.read(3)  # Band 4 for Red\n",
        "        green = src.read(2)  # Band 3 for Green\n",
        "        blue = src.read(1)  # Band 2 for Blue\n",
        "\n",
        "        # Scale each band to the 0–255 range for better visualization\n",
        "        red_scaled = scale_band(red)\n",
        "        green_scaled = scale_band(green)\n",
        "        blue_scaled = scale_band(blue)\n",
        "\n",
        "        # Stack the scaled RGB bands into a single image\n",
        "        rgb = np.dstack((red_scaled, green_scaled, blue_scaled)\n",
        "                        ).astype(np.uint8)\n",
        "\n",
        "        # Apply contrast stretching if specified\n",
        "        if contrast_stretch:\n",
        "            # Calculate 2nd and 98th percentiles for stretching\n",
        "            p2, p98 = np.percentile(rgb, (2, 98))\n",
        "            rgb = exposure.rescale_intensity(rgb, in_range=(p2, p98))\n",
        "\n",
        "        # Apply gamma correction to adjust brightness\n",
        "        rgb = exposure.adjust_gamma(rgb, gamma=gamma)\n",
        "\n",
        "        # Display the processed image using matplotlib\n",
        "        plt.figure(figsize=(5, 5))\n",
        "        plt.imshow(rgb)\n",
        "        plt.axis('off')  # Hide axes for a cleaner look\n",
        "        plt.title(\n",
        "            \"RGB Composite (Red-Green-Blue) with Scaling, Contrast Stretch, and Gamma Correction\")\n",
        "        plt.show()\n",
        "\n",
        "    return rgb"
      ]
    },
    {
      "cell_type": "code",
      "execution_count": 81,
      "metadata": {
        "colab": {
          "base_uri": "https://localhost:8080/",
          "height": 432
        },
        "id": "aw9eJrrVCgF1",
        "outputId": "f61af7e7-bdd7-4c0c-cf37-363766729f73"
      },
      "outputs": [
        {
          "data": {
            "text/html": [
              "\n",
              "            <style>\n",
              "                .geemap-dark {\n",
              "                    --jp-widgets-color: white;\n",
              "                    --jp-widgets-label-color: white;\n",
              "                    --jp-ui-font-color1: white;\n",
              "                    --jp-layout-color2: #454545;\n",
              "                    background-color: #383838;\n",
              "                }\n",
              "\n",
              "                .geemap-dark .jupyter-button {\n",
              "                    --jp-layout-color3: #383838;\n",
              "                }\n",
              "\n",
              "                .geemap-colab {\n",
              "                    background-color: var(--colab-primary-surface-color, white);\n",
              "                }\n",
              "\n",
              "                .geemap-colab .jupyter-button {\n",
              "                    --jp-layout-color3: var(--colab-primary-surface-color, white);\n",
              "                }\n",
              "            </style>\n",
              "            "
            ],
            "text/plain": [
              "<IPython.core.display.HTML object>"
            ]
          },
          "metadata": {},
          "output_type": "display_data"
        },
        {
          "data": {
            "image/png": "[encoded data removed]",
            "text/plain": [
              "<Figure size 500x500 with 1 Axes>"
            ]
          },
          "metadata": {},
          "output_type": "display_data"
        }
      ],
      "source": [
        "# Select a random image file from the dataset and visualize it\n",
        "path = random.choice(data['tif_path'].values)\n",
        "image = visualize_rgb_image(\"\"+path)"
      ]
    },
    {
      "cell_type": "markdown",
      "metadata": {
        "id": "VGg3sw58k9Tm"
      },
      "source": [
        "# Feature Engineering\n"
      ]
    },
    {
      "cell_type": "markdown",
      "metadata": {
        "id": "qK123fUVlA3w"
      },
      "source": [
        "**Utils**\n"
      ]
    },
    {
      "cell_type": "code",
      "execution_count": 82,
      "metadata": {
        "colab": {
          "base_uri": "https://localhost:8080/",
          "height": 17
        },
        "id": "cifndNYWOB9D",
        "outputId": "9d77b91f-8f19-47df-94db-ffbbdbde3a40"
      },
      "outputs": [
        {
          "data": {
            "text/html": [
              "\n",
              "            <style>\n",
              "                .geemap-dark {\n",
              "                    --jp-widgets-color: white;\n",
              "                    --jp-widgets-label-color: white;\n",
              "                    --jp-ui-font-color1: white;\n",
              "                    --jp-layout-color2: #454545;\n",
              "                    background-color: #383838;\n",
              "                }\n",
              "\n",
              "                .geemap-dark .jupyter-button {\n",
              "                    --jp-layout-color3: #383838;\n",
              "                }\n",
              "\n",
              "                .geemap-colab {\n",
              "                    background-color: var(--colab-primary-surface-color, white);\n",
              "                }\n",
              "\n",
              "                .geemap-colab .jupyter-button {\n",
              "                    --jp-layout-color3: var(--colab-primary-surface-color, white);\n",
              "                }\n",
              "            </style>\n",
              "            "
            ],
            "text/plain": [
              "<IPython.core.display.HTML object>"
            ]
          },
          "metadata": {},
          "output_type": "display_data"
        }
      ],
      "source": [
        "# Example feature calculation functions\n",
        "def calculate_ndvi(nir_band, red_band):\n",
        "    \"\"\"Calculate NDVI (Normalized Difference Vegetation Index).\"\"\"\n",
        "    ndvi = (nir_band - red_band) / (nir_band + red_band)\n",
        "    return np.nanmean(ndvi)\n",
        "\n",
        "\n",
        "def calculate_evi(nir_band, red_band, blue_band):\n",
        "    \"\"\"Calculate EVI (Enhanced Vegetation Index).\"\"\"\n",
        "    evi = 2.5 * (nir_band - red_band) / (nir_band +\n",
        "                                         6 * red_band - 7.5 * blue_band + 1)\n",
        "    return np.nanmean(evi)\n",
        "\n",
        "\n",
        "def calculate_ndwi(nir_band, green_band):\n",
        "    \"\"\"Calculate NDWI (Normalized Difference Water Index).\"\"\"\n",
        "    ndwi = (green_band - nir_band) / (green_band + nir_band)\n",
        "    return np.nanmean(ndwi)\n",
        "\n",
        "\n",
        "def calculate_gndvi(nir_band, green_band):\n",
        "    \"\"\"Calculate GNDVI (Green Normalized Difference Vegetation Index).\"\"\"\n",
        "    gndvi = (nir_band - green_band) / (nir_band + green_band)\n",
        "    return np.nanmean(gndvi)\n",
        "\n",
        "\n",
        "def calculate_savi(nir_band, red_band, L=0.5):\n",
        "    \"\"\"Calculate SAVI (Soil Adjusted Vegetation Index).\"\"\"\n",
        "    savi = ((nir_band - red_band) / (nir_band + red_band + L)) * (1 + L)\n",
        "    return np.nanmean(savi)\n",
        "\n",
        "\n",
        "def calculate_msavi(nir_band, red_band):\n",
        "    \"\"\"Calculate MSAVI (Modified Soil Adjusted Vegetation Index).\"\"\"\n",
        "    msavi = (2 * nir_band + 1 - np.sqrt((2 * nir_band + 1)\n",
        "             ** 2 - 8 * (nir_band - red_band))) / 2\n",
        "    return np.nanmean(msavi)"
      ]
    },
    {
      "cell_type": "code",
      "execution_count": 83,
      "metadata": {
        "colab": {
          "base_uri": "https://localhost:8080/",
          "height": 17
        },
        "id": "ijS4DecElDO9",
        "outputId": "7cf9cfdf-fe41-4d67-8ea0-b1254f17d3b3"
      },
      "outputs": [
        {
          "data": {
            "text/html": [
              "\n",
              "            <style>\n",
              "                .geemap-dark {\n",
              "                    --jp-widgets-color: white;\n",
              "                    --jp-widgets-label-color: white;\n",
              "                    --jp-ui-font-color1: white;\n",
              "                    --jp-layout-color2: #454545;\n",
              "                    background-color: #383838;\n",
              "                }\n",
              "\n",
              "                .geemap-dark .jupyter-button {\n",
              "                    --jp-layout-color3: #383838;\n",
              "                }\n",
              "\n",
              "                .geemap-colab {\n",
              "                    background-color: var(--colab-primary-surface-color, white);\n",
              "                }\n",
              "\n",
              "                .geemap-colab .jupyter-button {\n",
              "                    --jp-layout-color3: var(--colab-primary-surface-color, white);\n",
              "                }\n",
              "            </style>\n",
              "            "
            ],
            "text/plain": [
              "<IPython.core.display.HTML object>"
            ]
          },
          "metadata": {},
          "output_type": "display_data"
        }
      ],
      "source": [
        "# Function to calculate features for each row in the data\n",
        "def process_row_for_features(index, row):\n",
        "    features = {'index': index}\n",
        "\n",
        "    # Retrieve the TIFF file path and check if it's valid\n",
        "    tif_path = row['tif_path']\n",
        "    if not isinstance(tif_path, str):\n",
        "        print(f\"Skipping entry due to missing tif_path for index {index}\")\n",
        "        # Add NaN for all features if path is missing\n",
        "        features.update({\n",
        "            'ndvi': np.nan,\n",
        "            'evi': np.nan,\n",
        "            'ndwi': np.nan,\n",
        "            'gndvi': np.nan,\n",
        "            'savi': np.nan,\n",
        "            'msavi': np.nan\n",
        "        })\n",
        "        return features\n",
        "\n",
        "    # Open the TIFF file and read bands for feature calculation\n",
        "    with rasterio.open(tif_path) as src:\n",
        "        red = src.read(3)    # B4 for Red\n",
        "        green = src.read(2)  # B3 for Green\n",
        "        blue = src.read(1)   # B2 for Blue\n",
        "        nir = src.read(4)    # B8 for NIR\n",
        "\n",
        "        # Calculate each feature\n",
        "        features['ndvi'] = calculate_ndvi(nir, red)\n",
        "        features['evi'] = calculate_evi(nir, red, blue)\n",
        "        features['ndwi'] = calculate_ndwi(nir, green)\n",
        "        features['gndvi'] = calculate_gndvi(nir, green)\n",
        "        features['savi'] = calculate_savi(nir, red)\n",
        "        features['msavi'] = calculate_msavi(nir, red)\n",
        "\n",
        "    return features"
      ]
    },
    {
      "cell_type": "markdown",
      "metadata": {
        "id": "AiWAB-c9lTzs"
      },
      "source": [
        "**Calculate Features**\n"
      ]
    },
    {
      "cell_type": "code",
      "execution_count": 84,
      "metadata": {
        "colab": {
          "base_uri": "https://localhost:8080/",
          "height": 34
        },
        "id": "28PEFdMblDLd",
        "outputId": "c08142c7-9939-42f7-95ed-b5d26fbee738"
      },
      "outputs": [
        {
          "data": {
            "text/html": [
              "\n",
              "            <style>\n",
              "                .geemap-dark {\n",
              "                    --jp-widgets-color: white;\n",
              "                    --jp-widgets-label-color: white;\n",
              "                    --jp-ui-font-color1: white;\n",
              "                    --jp-layout-color2: #454545;\n",
              "                    background-color: #383838;\n",
              "                }\n",
              "\n",
              "                .geemap-dark .jupyter-button {\n",
              "                    --jp-layout-color3: #383838;\n",
              "                }\n",
              "\n",
              "                .geemap-colab {\n",
              "                    background-color: var(--colab-primary-surface-color, white);\n",
              "                }\n",
              "\n",
              "                .geemap-colab .jupyter-button {\n",
              "                    --jp-layout-color3: var(--colab-primary-surface-color, white);\n",
              "                }\n",
              "            </style>\n",
              "            "
            ],
            "text/plain": [
              "<IPython.core.display.HTML object>"
            ]
          },
          "metadata": {},
          "output_type": "display_data"
        },
        {
          "name": "stderr",
          "output_type": "stream",
          "text": [
            "  0%|          | 32/10606 [00:01<06:01, 29.26it/s]/tmp/ipykernel_53436/1428392064.py:9: RuntimeWarning: divide by zero encountered in divide\n",
            "  1%|          | 64/10606 [00:01<02:40, 65.79it/s]/tmp/ipykernel_53436/1428392064.py:9: RuntimeWarning: divide by zero encountered in divide\n",
            "/tmp/ipykernel_53436/1428392064.py:4: RuntimeWarning: invalid value encountered in divide\n",
            "/tmp/ipykernel_53436/1428392064.py:14: RuntimeWarning: invalid value encountered in divide\n",
            "/tmp/ipykernel_53436/1428392064.py:19: RuntimeWarning: invalid value encountered in divide\n",
            "/tmp/ipykernel_53436/1428392064.py:4: RuntimeWarning: invalid value encountered in divide\n",
            "/tmp/ipykernel_53436/1428392064.py:14: RuntimeWarning: invalid value encountered in divide\n",
            "/tmp/ipykernel_53436/1428392064.py:19: RuntimeWarning: invalid value encountered in divide\n",
            "/tmp/ipykernel_53436/1428392064.py:9: RuntimeWarning: divide by zero encountered in divide\n",
            "/tmp/ipykernel_53436/1428392064.py:9: RuntimeWarning: divide by zero encountered in divide\n",
            "/tmp/ipykernel_53436/1428392064.py:9: RuntimeWarning: divide by zero encountered in divide\n",
            "/tmp/ipykernel_53436/1428392064.py:9: RuntimeWarning: divide by zero encountered in divide\n",
            "/tmp/ipykernel_53436/1428392064.py:9: RuntimeWarning: divide by zero encountered in divide\n",
            "  1%|▏         | 144/10606 [00:01<01:00, 172.10it/s]/tmp/ipykernel_53436/1428392064.py:9: RuntimeWarning: divide by zero encountered in divide\n",
            "/tmp/ipykernel_53436/1428392064.py:9: RuntimeWarning: divide by zero encountered in divide\n",
            "/tmp/ipykernel_53436/1428392064.py:9: RuntimeWarning: divide by zero encountered in divide\n",
            "/tmp/ipykernel_53436/1428392064.py:9: RuntimeWarning: divide by zero encountered in divide\n",
            "/tmp/ipykernel_53436/1428392064.py:9: RuntimeWarning: divide by zero encountered in divide\n",
            "/tmp/ipykernel_53436/1428392064.py:9: RuntimeWarning: divide by zero encountered in divide\n",
            "/tmp/ipykernel_53436/1428392064.py:9: RuntimeWarning: divide by zero encountered in divide\n",
            "/tmp/ipykernel_53436/1428392064.py:9: RuntimeWarning: divide by zero encountered in divide\n",
            "/tmp/ipykernel_53436/1428392064.py:9: RuntimeWarning: divide by zero encountered in divide\n",
            "/tmp/ipykernel_53436/1428392064.py:9: RuntimeWarning: divide by zero encountered in divide\n",
            "/tmp/ipykernel_53436/1428392064.py:9: RuntimeWarning: divide by zero encountered in divide\n",
            "/tmp/ipykernel_53436/1428392064.py:9: RuntimeWarning: divide by zero encountered in divide\n",
            "/tmp/ipykernel_53436/1428392064.py:9: RuntimeWarning: divide by zero encountered in divide\n",
            "/tmp/ipykernel_53436/1428392064.py:9: RuntimeWarning: divide by zero encountered in divide\n",
            "/tmp/ipykernel_53436/1428392064.py:9: RuntimeWarning: divide by zero encountered in divide\n",
            "/tmp/ipykernel_53436/1428392064.py:9: RuntimeWarning: divide by zero encountered in divide\n",
            "/tmp/ipykernel_53436/1428392064.py:9: RuntimeWarning: divide by zero encountered in divide\n",
            "/tmp/ipykernel_53436/1428392064.py:9: RuntimeWarning: divide by zero encountered in divide\n",
            "/tmp/ipykernel_53436/1428392064.py:9: RuntimeWarning: divide by zero encountered in divide\n",
            "/tmp/ipykernel_53436/1428392064.py:9: RuntimeWarning: divide by zero encountered in divide\n",
            "/tmp/ipykernel_53436/1428392064.py:9: RuntimeWarning: divide by zero encountered in divide\n",
            "/tmp/ipykernel_53436/1428392064.py:9: RuntimeWarning: divide by zero encountered in divide\n",
            "/tmp/ipykernel_53436/1428392064.py:9: RuntimeWarning: divide by zero encountered in divide\n",
            "/tmp/ipykernel_53436/1428392064.py:4: RuntimeWarning: invalid value encountered in divide\n",
            "/tmp/ipykernel_53436/1428392064.py:14: RuntimeWarning: invalid value encountered in divide\n",
            "/tmp/ipykernel_53436/1428392064.py:19: RuntimeWarning: invalid value encountered in divide\n",
            "/tmp/ipykernel_53436/1428392064.py:9: RuntimeWarning: divide by zero encountered in divide\n",
            "/tmp/ipykernel_53436/1428392064.py:9: RuntimeWarning: divide by zero encountered in divide\n",
            "/tmp/ipykernel_53436/1428392064.py:9: RuntimeWarning: divide by zero encountered in divide\n",
            "/tmp/ipykernel_53436/1428392064.py:9: RuntimeWarning: divide by zero encountered in divide\n",
            "/tmp/ipykernel_53436/1428392064.py:9: RuntimeWarning: divide by zero encountered in divide\n",
            "  4%|▍         | 400/10606 [00:01<00:18, 557.21it/s]/tmp/ipykernel_53436/1428392064.py:9: RuntimeWarning: divide by zero encountered in divide\n",
            "/tmp/ipykernel_53436/1428392064.py:9: RuntimeWarning: divide by zero encountered in divide\n",
            "/tmp/ipykernel_53436/1428392064.py:9: RuntimeWarning: divide by zero encountered in divide\n",
            "/tmp/ipykernel_53436/1428392064.py:9: RuntimeWarning: divide by zero encountered in divide\n",
            "/tmp/ipykernel_53436/1428392064.py:9: RuntimeWarning: divide by zero encountered in divide\n",
            "/tmp/ipykernel_53436/1428392064.py:4: RuntimeWarning: invalid value encountered in divide\n",
            "/tmp/ipykernel_53436/1428392064.py:14: RuntimeWarning: invalid value encountered in divide\n",
            "/tmp/ipykernel_53436/1428392064.py:19: RuntimeWarning: invalid value encountered in divide\n",
            "/tmp/ipykernel_53436/1428392064.py:9: RuntimeWarning: divide by zero encountered in divide\n",
            "/tmp/ipykernel_53436/1428392064.py:9: RuntimeWarning: divide by zero encountered in divide\n",
            "/tmp/ipykernel_53436/1428392064.py:9: RuntimeWarning: divide by zero encountered in divide\n",
            "/tmp/ipykernel_53436/1428392064.py:9: RuntimeWarning: divide by zero encountered in divide\n",
            "/tmp/ipykernel_53436/1428392064.py:4: RuntimeWarning: invalid value encountered in divide\n",
            "/tmp/ipykernel_53436/1428392064.py:14: RuntimeWarning: invalid value encountered in divide\n",
            "/tmp/ipykernel_53436/1428392064.py:19: RuntimeWarning: invalid value encountered in divide\n",
            "/tmp/ipykernel_53436/1428392064.py:9: RuntimeWarning: divide by zero encountered in divide\n",
            "/tmp/ipykernel_53436/1428392064.py:9: RuntimeWarning: divide by zero encountered in divide\n",
            "/tmp/ipykernel_53436/1428392064.py:9: RuntimeWarning: divide by zero encountered in divide\n",
            "/tmp/ipykernel_53436/1428392064.py:9: RuntimeWarning: divide by zero encountered in divide\n",
            "/tmp/ipykernel_53436/1428392064.py:9: RuntimeWarning: divide by zero encountered in divide\n",
            "/tmp/ipykernel_53436/1428392064.py:9: RuntimeWarning: divide by zero encountered in divide\n",
            "/tmp/ipykernel_53436/1428392064.py:9: RuntimeWarning: divide by zero encountered in divide\n",
            "/tmp/ipykernel_53436/1428392064.py:4: RuntimeWarning: invalid value encountered in divide\n",
            "/tmp/ipykernel_53436/1428392064.py:14: RuntimeWarning: invalid value encountered in divide\n",
            "/tmp/ipykernel_53436/1428392064.py:19: RuntimeWarning: invalid value encountered in divide\n",
            "/tmp/ipykernel_53436/1428392064.py:9: RuntimeWarning: divide by zero encountered in divide\n",
            "/tmp/ipykernel_53436/1428392064.py:9: RuntimeWarning: divide by zero encountered in divide\n",
            "/tmp/ipykernel_53436/1428392064.py:9: RuntimeWarning: divide by zero encountered in divide\n",
            "/tmp/ipykernel_53436/1428392064.py:9: RuntimeWarning: divide by zero encountered in divide\n",
            "/tmp/ipykernel_53436/1428392064.py:9: RuntimeWarning: divide by zero encountered in divide\n",
            "/tmp/ipykernel_53436/1428392064.py:9: RuntimeWarning: divide by zero encountered in divide\n",
            "/tmp/ipykernel_53436/1428392064.py:9: RuntimeWarning: divide by zero encountered in divide\n",
            "/tmp/ipykernel_53436/1428392064.py:9: RuntimeWarning: divide by zero encountered in divide\n",
            "/tmp/ipykernel_53436/1428392064.py:9: RuntimeWarning: divide by zero encountered in divide\n",
            "/tmp/ipykernel_53436/1428392064.py:9: RuntimeWarning: divide by zero encountered in divide\n",
            "/tmp/ipykernel_53436/1428392064.py:9: RuntimeWarning: divide by zero encountered in divide\n",
            "  7%|▋         | 784/10606 [00:01<00:09, 1047.51it/s]/tmp/ipykernel_53436/1428392064.py:9: RuntimeWarning: divide by zero encountered in divide\n"
          ]
        },
        {
          "name": "stdout",
          "output_type": "stream",
          "text": [
            "Skipping entry due to missing tif_path for index 275\n"
          ]
        },
        {
          "name": "stderr",
          "output_type": "stream",
          "text": [
            "/tmp/ipykernel_53436/1428392064.py:9: RuntimeWarning: divide by zero encountered in divide\n",
            "/tmp/ipykernel_53436/1428392064.py:9: RuntimeWarning: divide by zero encountered in divide\n",
            "/tmp/ipykernel_53436/1428392064.py:9: RuntimeWarning: divide by zero encountered in divide\n",
            "/tmp/ipykernel_53436/1428392064.py:9: RuntimeWarning: divide by zero encountered in divide\n",
            "/tmp/ipykernel_53436/1428392064.py:9: RuntimeWarning: divide by zero encountered in divide\n",
            "/tmp/ipykernel_53436/1428392064.py:9: RuntimeWarning: divide by zero encountered in divide\n",
            "/tmp/ipykernel_53436/1428392064.py:9: RuntimeWarning: divide by zero encountered in divide\n",
            "/tmp/ipykernel_53436/1428392064.py:9: RuntimeWarning: divide by zero encountered in divide\n",
            "/tmp/ipykernel_53436/1428392064.py:9: RuntimeWarning: divide by zero encountered in divide\n",
            "/tmp/ipykernel_53436/1428392064.py:9: RuntimeWarning: divide by zero encountered in divide\n",
            "/tmp/ipykernel_53436/1428392064.py:9: RuntimeWarning: divide by zero encountered in divide\n",
            "/tmp/ipykernel_53436/1428392064.py:4: RuntimeWarning: invalid value encountered in divide\n",
            "/tmp/ipykernel_53436/1428392064.py:14: RuntimeWarning: invalid value encountered in divide\n",
            "/tmp/ipykernel_53436/1428392064.py:19: RuntimeWarning: invalid value encountered in divide\n",
            "/tmp/ipykernel_53436/1428392064.py:9: RuntimeWarning: divide by zero encountered in divide\n",
            "/tmp/ipykernel_53436/1428392064.py:9: RuntimeWarning: divide by zero encountered in divide\n",
            "/tmp/ipykernel_53436/1428392064.py:9: RuntimeWarning: divide by zero encountered in divide\n",
            "/tmp/ipykernel_53436/1428392064.py:9: RuntimeWarning: divide by zero encountered in divide\n",
            "/tmp/ipykernel_53436/1428392064.py:9: RuntimeWarning: divide by zero encountered in divide\n",
            "/tmp/ipykernel_53436/1428392064.py:9: RuntimeWarning: divide by zero encountered in divide\n",
            "/tmp/ipykernel_53436/1428392064.py:9: RuntimeWarning: divide by zero encountered in divide\n",
            "/tmp/ipykernel_53436/1428392064.py:9: RuntimeWarning: divide by zero encountered in divide\n",
            " 15%|█▍        | 1552/10606 [00:03<00:18, 493.87it/s]/tmp/ipykernel_53436/1428392064.py:9: RuntimeWarning: divide by zero encountered in divide\n",
            "/tmp/ipykernel_53436/1428392064.py:4: RuntimeWarning: invalid value encountered in divide\n",
            "/tmp/ipykernel_53436/1428392064.py:14: RuntimeWarning: invalid value encountered in divide\n",
            "/tmp/ipykernel_53436/1428392064.py:19: RuntimeWarning: invalid value encountered in divide\n",
            "/tmp/ipykernel_53436/1428392064.py:9: RuntimeWarning: divide by zero encountered in divide\n",
            "/tmp/ipykernel_53436/1428392064.py:4: RuntimeWarning: invalid value encountered in divide\n",
            "/tmp/ipykernel_53436/1428392064.py:14: RuntimeWarning: invalid value encountered in divide\n",
            "/tmp/ipykernel_53436/1428392064.py:19: RuntimeWarning: invalid value encountered in divide\n",
            "/tmp/ipykernel_53436/1428392064.py:9: RuntimeWarning: divide by zero encountered in divide\n",
            "/tmp/ipykernel_53436/1428392064.py:9: RuntimeWarning: divide by zero encountered in divide\n",
            "/tmp/ipykernel_53436/1428392064.py:4: RuntimeWarning: invalid value encountered in divide\n",
            "/tmp/ipykernel_53436/1428392064.py:14: RuntimeWarning: invalid value encountered in divide\n",
            "/tmp/ipykernel_53436/1428392064.py:19: RuntimeWarning: invalid value encountered in divide\n",
            "/tmp/ipykernel_53436/1428392064.py:9: RuntimeWarning: divide by zero encountered in divide\n",
            "/tmp/ipykernel_53436/1428392064.py:4: RuntimeWarning: invalid value encountered in divide\n",
            "/tmp/ipykernel_53436/1428392064.py:14: RuntimeWarning: invalid value encountered in divide\n",
            "/tmp/ipykernel_53436/1428392064.py:19: RuntimeWarning: invalid value encountered in divide\n",
            "/tmp/ipykernel_53436/1428392064.py:9: RuntimeWarning: divide by zero encountered in divide\n",
            "/tmp/ipykernel_53436/1428392064.py:9: RuntimeWarning: divide by zero encountered in divide\n",
            "/tmp/ipykernel_53436/1428392064.py:9: RuntimeWarning: divide by zero encountered in divide\n",
            "/tmp/ipykernel_53436/1428392064.py:4: RuntimeWarning: invalid value encountered in divide\n",
            "/tmp/ipykernel_53436/1428392064.py:9: RuntimeWarning: divide by zero encountered in divide\n",
            "/tmp/ipykernel_53436/1428392064.py:14: RuntimeWarning: invalid value encountered in divide\n",
            "/tmp/ipykernel_53436/1428392064.py:19: RuntimeWarning: invalid value encountered in divide\n",
            "/tmp/ipykernel_53436/1428392064.py:4: RuntimeWarning: invalid value encountered in divide\n",
            "/tmp/ipykernel_53436/1428392064.py:14: RuntimeWarning: invalid value encountered in divide\n",
            "/tmp/ipykernel_53436/1428392064.py:19: RuntimeWarning: invalid value encountered in divide\n",
            "/tmp/ipykernel_53436/1428392064.py:4: RuntimeWarning: invalid value encountered in divide\n",
            "/tmp/ipykernel_53436/1428392064.py:14: RuntimeWarning: invalid value encountered in divide\n",
            "/tmp/ipykernel_53436/1428392064.py:19: RuntimeWarning: invalid value encountered in divide\n",
            "/tmp/ipykernel_53436/1428392064.py:9: RuntimeWarning: divide by zero encountered in divide\n",
            "/tmp/ipykernel_53436/1428392064.py:9: RuntimeWarning: divide by zero encountered in divide\n",
            "/tmp/ipykernel_53436/1428392064.py:4: RuntimeWarning: invalid value encountered in divide\n",
            "/tmp/ipykernel_53436/1428392064.py:14: RuntimeWarning: invalid value encountered in divide\n",
            "/tmp/ipykernel_53436/1428392064.py:19: RuntimeWarning: invalid value encountered in divide\n",
            "/tmp/ipykernel_53436/1428392064.py:9: RuntimeWarning: divide by zero encountered in divide\n",
            "/tmp/ipykernel_53436/1428392064.py:9: RuntimeWarning: divide by zero encountered in divide\n",
            "/tmp/ipykernel_53436/1428392064.py:4: RuntimeWarning: invalid value encountered in divide\n",
            "/tmp/ipykernel_53436/1428392064.py:14: RuntimeWarning: invalid value encountered in divide\n",
            "/tmp/ipykernel_53436/1428392064.py:19: RuntimeWarning: invalid value encountered in divide\n",
            " 19%|█▉        | 2064/10606 [00:03<00:12, 685.30it/s]/tmp/ipykernel_53436/1428392064.py:9: RuntimeWarning: divide by zero encountered in divide\n",
            "/tmp/ipykernel_53436/1428392064.py:9: RuntimeWarning: divide by zero encountered in divide\n",
            "/tmp/ipykernel_53436/1428392064.py:9: RuntimeWarning: divide by zero encountered in divide\n",
            "/tmp/ipykernel_53436/1428392064.py:9: RuntimeWarning: divide by zero encountered in divide\n",
            "/tmp/ipykernel_53436/1428392064.py:9: RuntimeWarning: divide by zero encountered in divide\n",
            "/tmp/ipykernel_53436/1428392064.py:9: RuntimeWarning: divide by zero encountered in divide\n",
            "/tmp/ipykernel_53436/1428392064.py:9: RuntimeWarning: divide by zero encountered in divide\n",
            "/tmp/ipykernel_53436/1428392064.py:9: RuntimeWarning: divide by zero encountered in divide\n",
            "/tmp/ipykernel_53436/1428392064.py:9: RuntimeWarning: divide by zero encountered in divide\n",
            "/tmp/ipykernel_53436/1428392064.py:9: RuntimeWarning: divide by zero encountered in divide\n",
            "/tmp/ipykernel_53436/1428392064.py:9: RuntimeWarning: divide by zero encountered in divide\n",
            "/tmp/ipykernel_53436/1428392064.py:9: RuntimeWarning: divide by zero encountered in divide\n",
            "/tmp/ipykernel_53436/1428392064.py:4: RuntimeWarning: invalid value encountered in divide\n",
            "/tmp/ipykernel_53436/1428392064.py:14: RuntimeWarning: invalid value encountered in divide\n",
            "/tmp/ipykernel_53436/1428392064.py:19: RuntimeWarning: invalid value encountered in divide\n",
            "/tmp/ipykernel_53436/1428392064.py:4: RuntimeWarning: invalid value encountered in divide\n",
            "/tmp/ipykernel_53436/1428392064.py:14: RuntimeWarning: invalid value encountered in divide\n",
            "/tmp/ipykernel_53436/1428392064.py:19: RuntimeWarning: invalid value encountered in divide\n",
            "/tmp/ipykernel_53436/1428392064.py:4: RuntimeWarning: invalid value encountered in divide\n",
            "/tmp/ipykernel_53436/1428392064.py:14: RuntimeWarning: invalid value encountered in divide\n",
            "/tmp/ipykernel_53436/1428392064.py:19: RuntimeWarning: invalid value encountered in divide\n",
            "/tmp/ipykernel_53436/1428392064.py:9: RuntimeWarning: invalid value encountered in divide\n",
            "/tmp/ipykernel_53436/1428392064.py:4: RuntimeWarning: invalid value encountered in divide\n",
            "/tmp/ipykernel_53436/1428392064.py:14: RuntimeWarning: invalid value encountered in divide\n",
            "/tmp/ipykernel_53436/1428392064.py:19: RuntimeWarning: invalid value encountered in divide\n",
            "/tmp/ipykernel_53436/1428392064.py:9: RuntimeWarning: divide by zero encountered in divide\n",
            "/tmp/ipykernel_53436/1428392064.py:9: RuntimeWarning: divide by zero encountered in divide\n",
            "/tmp/ipykernel_53436/1428392064.py:4: RuntimeWarning: invalid value encountered in divide\n",
            "/tmp/ipykernel_53436/1428392064.py:14: RuntimeWarning: invalid value encountered in divide\n",
            "/tmp/ipykernel_53436/1428392064.py:19: RuntimeWarning: invalid value encountered in divide\n",
            "/tmp/ipykernel_53436/1428392064.py:4: RuntimeWarning: invalid value encountered in divide\n",
            "/tmp/ipykernel_53436/1428392064.py:9: RuntimeWarning: divide by zero encountered in divide\n",
            "/tmp/ipykernel_53436/1428392064.py:14: RuntimeWarning: invalid value encountered in divide\n",
            "/tmp/ipykernel_53436/1428392064.py:19: RuntimeWarning: invalid value encountered in divide\n",
            "/tmp/ipykernel_53436/1428392064.py:9: RuntimeWarning: divide by zero encountered in divide\n",
            "/tmp/ipykernel_53436/1428392064.py:9: RuntimeWarning: divide by zero encountered in divide\n",
            "/tmp/ipykernel_53436/1428392064.py:9: RuntimeWarning: divide by zero encountered in divide\n",
            "/tmp/ipykernel_53436/1428392064.py:4: RuntimeWarning: invalid value encountered in divide\n",
            "/tmp/ipykernel_53436/1428392064.py:14: RuntimeWarning: invalid value encountered in divide\n",
            "/tmp/ipykernel_53436/1428392064.py:19: RuntimeWarning: invalid value encountered in divide\n",
            "/tmp/ipykernel_53436/1428392064.py:9: RuntimeWarning: divide by zero encountered in divide\n",
            "/tmp/ipykernel_53436/1428392064.py:9: RuntimeWarning: divide by zero encountered in divide\n",
            "/tmp/ipykernel_53436/1428392064.py:4: RuntimeWarning: invalid value encountered in divide\n",
            "/tmp/ipykernel_53436/1428392064.py:14: RuntimeWarning: invalid value encountered in divide\n",
            "/tmp/ipykernel_53436/1428392064.py:19: RuntimeWarning: invalid value encountered in divide\n",
            " 21%|██        | 2196/10606 [00:04<00:13, 627.49it/s]/tmp/ipykernel_53436/1428392064.py:9: RuntimeWarning: divide by zero encountered in divide\n",
            "/tmp/ipykernel_53436/1428392064.py:9: RuntimeWarning: divide by zero encountered in divide\n",
            "/tmp/ipykernel_53436/1428392064.py:9: RuntimeWarning: divide by zero encountered in divide\n",
            "/tmp/ipykernel_53436/1428392064.py:9: RuntimeWarning: divide by zero encountered in divide\n",
            "/tmp/ipykernel_53436/1428392064.py:9: RuntimeWarning: divide by zero encountered in divide\n",
            "/tmp/ipykernel_53436/1428392064.py:9: RuntimeWarning: divide by zero encountered in divide\n",
            "/tmp/ipykernel_53436/1428392064.py:9: RuntimeWarning: divide by zero encountered in divide\n",
            "/tmp/ipykernel_53436/1428392064.py:4: RuntimeWarning: invalid value encountered in divide\n",
            "/tmp/ipykernel_53436/1428392064.py:14: RuntimeWarning: invalid value encountered in divide\n",
            "/tmp/ipykernel_53436/1428392064.py:19: RuntimeWarning: invalid value encountered in divide\n",
            "/tmp/ipykernel_53436/1428392064.py:9: RuntimeWarning: divide by zero encountered in divide\n",
            "/tmp/ipykernel_53436/1428392064.py:9: RuntimeWarning: divide by zero encountered in divide\n",
            "/tmp/ipykernel_53436/1428392064.py:9: RuntimeWarning: divide by zero encountered in divide\n",
            "/tmp/ipykernel_53436/1428392064.py:9: RuntimeWarning: divide by zero encountered in divide\n",
            "/tmp/ipykernel_53436/1428392064.py:9: RuntimeWarning: divide by zero encountered in divide\n",
            "/tmp/ipykernel_53436/1428392064.py:9: RuntimeWarning: divide by zero encountered in divide\n",
            "/tmp/ipykernel_53436/1428392064.py:4: RuntimeWarning: invalid value encountered in divide\n",
            "/tmp/ipykernel_53436/1428392064.py:14: RuntimeWarning: invalid value encountered in divide\n",
            "/tmp/ipykernel_53436/1428392064.py:19: RuntimeWarning: invalid value encountered in divide\n",
            "/tmp/ipykernel_53436/1428392064.py:9: RuntimeWarning: divide by zero encountered in divide\n",
            "/tmp/ipykernel_53436/1428392064.py:9: RuntimeWarning: divide by zero encountered in divide\n",
            "/tmp/ipykernel_53436/1428392064.py:9: RuntimeWarning: divide by zero encountered in divide\n",
            "/tmp/ipykernel_53436/1428392064.py:9: RuntimeWarning: divide by zero encountered in divide\n",
            "/tmp/ipykernel_53436/1428392064.py:9: RuntimeWarning: divide by zero encountered in divide\n",
            "/tmp/ipykernel_53436/1428392064.py:9: RuntimeWarning: divide by zero encountered in divide\n",
            "/tmp/ipykernel_53436/1428392064.py:9: RuntimeWarning: divide by zero encountered in divide\n",
            "/tmp/ipykernel_53436/1428392064.py:4: RuntimeWarning: invalid value encountered in divide\n",
            "/tmp/ipykernel_53436/1428392064.py:14: RuntimeWarning: invalid value encountered in divide\n",
            "/tmp/ipykernel_53436/1428392064.py:19: RuntimeWarning: invalid value encountered in divide\n",
            "/tmp/ipykernel_53436/1428392064.py:9: RuntimeWarning: divide by zero encountered in divide\n",
            "/tmp/ipykernel_53436/1428392064.py:9: RuntimeWarning: divide by zero encountered in divide\n",
            "/tmp/ipykernel_53436/1428392064.py:9: RuntimeWarning: divide by zero encountered in divide\n",
            "/tmp/ipykernel_53436/1428392064.py:4: RuntimeWarning: invalid value encountered in divide\n",
            "/tmp/ipykernel_53436/1428392064.py:14: RuntimeWarning: invalid value encountered in divide\n",
            "/tmp/ipykernel_53436/1428392064.py:19: RuntimeWarning: invalid value encountered in divide\n",
            "/tmp/ipykernel_53436/1428392064.py:9: RuntimeWarning: divide by zero encountered in divide\n",
            "/tmp/ipykernel_53436/1428392064.py:4: RuntimeWarning: invalid value encountered in divide\n",
            "/tmp/ipykernel_53436/1428392064.py:14: RuntimeWarning: invalid value encountered in divide\n",
            "/tmp/ipykernel_53436/1428392064.py:19: RuntimeWarning: invalid value encountered in divide\n",
            "/tmp/ipykernel_53436/1428392064.py:9: RuntimeWarning: divide by zero encountered in divide\n",
            " 22%|██▏       | 2299/10606 [00:04<00:12, 656.59it/s]/tmp/ipykernel_53436/1428392064.py:9: RuntimeWarning: divide by zero encountered in divide\n",
            "/tmp/ipykernel_53436/1428392064.py:9: RuntimeWarning: divide by zero encountered in divide\n",
            "/tmp/ipykernel_53436/1428392064.py:9: RuntimeWarning: divide by zero encountered in divide\n",
            "/tmp/ipykernel_53436/1428392064.py:9: RuntimeWarning: divide by zero encountered in divide\n",
            "/tmp/ipykernel_53436/1428392064.py:9: RuntimeWarning: divide by zero encountered in divide\n",
            "/tmp/ipykernel_53436/1428392064.py:9: RuntimeWarning: divide by zero encountered in divide\n",
            "/tmp/ipykernel_53436/1428392064.py:9: RuntimeWarning: divide by zero encountered in divide\n",
            "/tmp/ipykernel_53436/1428392064.py:9: RuntimeWarning: divide by zero encountered in divide\n",
            "/tmp/ipykernel_53436/1428392064.py:9: RuntimeWarning: divide by zero encountered in divide\n",
            "/tmp/ipykernel_53436/1428392064.py:9: RuntimeWarning: divide by zero encountered in divide\n",
            "/tmp/ipykernel_53436/1428392064.py:9: RuntimeWarning: divide by zero encountered in divide\n",
            "/tmp/ipykernel_53436/1428392064.py:9: RuntimeWarning: divide by zero encountered in divide\n",
            "/tmp/ipykernel_53436/1428392064.py:9: RuntimeWarning: divide by zero encountered in divide\n",
            "/tmp/ipykernel_53436/1428392064.py:9: RuntimeWarning: divide by zero encountered in divide\n",
            "/tmp/ipykernel_53436/1428392064.py:9: RuntimeWarning: divide by zero encountered in divide\n",
            "/tmp/ipykernel_53436/1428392064.py:9: RuntimeWarning: divide by zero encountered in divide\n",
            "/tmp/ipykernel_53436/1428392064.py:9: RuntimeWarning: divide by zero encountered in divide\n",
            "/tmp/ipykernel_53436/1428392064.py:9: RuntimeWarning: divide by zero encountered in divide\n",
            "/tmp/ipykernel_53436/1428392064.py:9: RuntimeWarning: divide by zero encountered in divide\n",
            "/tmp/ipykernel_53436/1428392064.py:9: RuntimeWarning: divide by zero encountered in divide\n",
            "/tmp/ipykernel_53436/1428392064.py:9: RuntimeWarning: divide by zero encountered in divide\n",
            "/tmp/ipykernel_53436/1428392064.py:9: RuntimeWarning: divide by zero encountered in divide\n",
            "/tmp/ipykernel_53436/1428392064.py:4: RuntimeWarning: invalid value encountered in divide\n",
            "/tmp/ipykernel_53436/1428392064.py:14: RuntimeWarning: invalid value encountered in divide\n",
            "/tmp/ipykernel_53436/1428392064.py:19: RuntimeWarning: invalid value encountered in divide\n",
            "/tmp/ipykernel_53436/1428392064.py:9: RuntimeWarning: divide by zero encountered in divide\n",
            " 23%|██▎       | 2448/10606 [00:04<00:11, 733.00it/s]/tmp/ipykernel_53436/1428392064.py:9: RuntimeWarning: divide by zero encountered in divide\n",
            "/tmp/ipykernel_53436/1428392064.py:4: RuntimeWarning: invalid value encountered in divide\n",
            "/tmp/ipykernel_53436/1428392064.py:14: RuntimeWarning: invalid value encountered in divide\n",
            "/tmp/ipykernel_53436/1428392064.py:19: RuntimeWarning: invalid value encountered in divide\n",
            "/tmp/ipykernel_53436/1428392064.py:9: RuntimeWarning: divide by zero encountered in divide\n",
            "/tmp/ipykernel_53436/1428392064.py:9: RuntimeWarning: divide by zero encountered in divide\n",
            "/tmp/ipykernel_53436/1428392064.py:9: RuntimeWarning: divide by zero encountered in divide\n",
            "/tmp/ipykernel_53436/1428392064.py:4: RuntimeWarning: invalid value encountered in divide\n",
            "/tmp/ipykernel_53436/1428392064.py:14: RuntimeWarning: invalid value encountered in divide\n",
            "/tmp/ipykernel_53436/1428392064.py:19: RuntimeWarning: invalid value encountered in divide\n",
            "/tmp/ipykernel_53436/1428392064.py:9: RuntimeWarning: divide by zero encountered in divide\n",
            "/tmp/ipykernel_53436/1428392064.py:4: RuntimeWarning: invalid value encountered in divide\n",
            "/tmp/ipykernel_53436/1428392064.py:14: RuntimeWarning: invalid value encountered in divide\n",
            "/tmp/ipykernel_53436/1428392064.py:19: RuntimeWarning: invalid value encountered in divide\n",
            "/tmp/ipykernel_53436/1428392064.py:9: RuntimeWarning: divide by zero encountered in divide\n",
            "/tmp/ipykernel_53436/1428392064.py:9: RuntimeWarning: divide by zero encountered in divide\n",
            "/tmp/ipykernel_53436/1428392064.py:9: RuntimeWarning: divide by zero encountered in divide\n",
            "/tmp/ipykernel_53436/1428392064.py:9: RuntimeWarning: divide by zero encountered in divide\n",
            "/tmp/ipykernel_53436/1428392064.py:9: RuntimeWarning: divide by zero encountered in divide\n",
            "/tmp/ipykernel_53436/1428392064.py:4: RuntimeWarning: invalid value encountered in divide\n",
            "/tmp/ipykernel_53436/1428392064.py:14: RuntimeWarning: invalid value encountered in divide\n",
            "/tmp/ipykernel_53436/1428392064.py:19: RuntimeWarning: invalid value encountered in divide\n",
            "/tmp/ipykernel_53436/1428392064.py:9: RuntimeWarning: divide by zero encountered in divide\n",
            "/tmp/ipykernel_53436/1428392064.py:9: RuntimeWarning: divide by zero encountered in divide\n",
            " 27%|██▋       | 2832/10606 [00:04<00:07, 1078.72it/s]/tmp/ipykernel_53436/1428392064.py:9: RuntimeWarning: divide by zero encountered in divide\n",
            "/tmp/ipykernel_53436/1428392064.py:9: RuntimeWarning: divide by zero encountered in divide\n",
            "/tmp/ipykernel_53436/1428392064.py:4: RuntimeWarning: invalid value encountered in divide\n",
            "/tmp/ipykernel_53436/1428392064.py:14: RuntimeWarning: invalid value encountered in divide\n",
            "/tmp/ipykernel_53436/1428392064.py:19: RuntimeWarning: invalid value encountered in divide\n",
            " 31%|███       | 3285/10606 [00:04<00:04, 1578.96it/s]/tmp/ipykernel_53436/1428392064.py:9: RuntimeWarning: divide by zero encountered in divide\n",
            "/tmp/ipykernel_53436/1428392064.py:9: RuntimeWarning: divide by zero encountered in divide\n",
            "/tmp/ipykernel_53436/1428392064.py:5: RuntimeWarning: Mean of empty slice\n",
            "/tmp/ipykernel_53436/1428392064.py:15: RuntimeWarning: Mean of empty slice\n",
            "/tmp/ipykernel_53436/1428392064.py:20: RuntimeWarning: Mean of empty slice\n",
            "/tmp/ipykernel_53436/1428392064.py:9: RuntimeWarning: divide by zero encountered in divide\n",
            "/tmp/ipykernel_53436/1428392064.py:9: RuntimeWarning: divide by zero encountered in divide\n",
            "/tmp/ipykernel_53436/1428392064.py:4: RuntimeWarning: invalid value encountered in divide\n",
            "/tmp/ipykernel_53436/1428392064.py:14: RuntimeWarning: invalid value encountered in divide\n",
            "/tmp/ipykernel_53436/1428392064.py:19: RuntimeWarning: invalid value encountered in divide\n",
            "/tmp/ipykernel_53436/1428392064.py:9: RuntimeWarning: divide by zero encountered in divide\n",
            "/tmp/ipykernel_53436/1428392064.py:9: RuntimeWarning: divide by zero encountered in divide\n",
            "/tmp/ipykernel_53436/1428392064.py:9: RuntimeWarning: divide by zero encountered in divide\n",
            "/tmp/ipykernel_53436/1428392064.py:9: RuntimeWarning: divide by zero encountered in divide\n",
            "/tmp/ipykernel_53436/1428392064.py:9: RuntimeWarning: divide by zero encountered in divide\n",
            "/tmp/ipykernel_53436/1428392064.py:4: RuntimeWarning: invalid value encountered in divide\n",
            "/tmp/ipykernel_53436/1428392064.py:14: RuntimeWarning: invalid value encountered in divide\n",
            "/tmp/ipykernel_53436/1428392064.py:19: RuntimeWarning: invalid value encountered in divide\n",
            "/tmp/ipykernel_53436/1428392064.py:9: RuntimeWarning: divide by zero encountered in divide\n",
            "/tmp/ipykernel_53436/1428392064.py:9: RuntimeWarning: divide by zero encountered in divide\n",
            "/tmp/ipykernel_53436/1428392064.py:9: RuntimeWarning: divide by zero encountered in divide\n",
            "/tmp/ipykernel_53436/1428392064.py:9: RuntimeWarning: divide by zero encountered in divide\n",
            "/tmp/ipykernel_53436/1428392064.py:4: RuntimeWarning: invalid value encountered in divide\n",
            "/tmp/ipykernel_53436/1428392064.py:14: RuntimeWarning: invalid value encountered in divide\n",
            "/tmp/ipykernel_53436/1428392064.py:19: RuntimeWarning: invalid value encountered in divide\n",
            "/tmp/ipykernel_53436/1428392064.py:9: RuntimeWarning: divide by zero encountered in divide\n",
            "/tmp/ipykernel_53436/1428392064.py:9: RuntimeWarning: divide by zero encountered in divide\n",
            "/tmp/ipykernel_53436/1428392064.py:9: RuntimeWarning: divide by zero encountered in divide\n",
            "/tmp/ipykernel_53436/1428392064.py:9: RuntimeWarning: divide by zero encountered in divide\n",
            "/tmp/ipykernel_53436/1428392064.py:9: RuntimeWarning: divide by zero encountered in divide\n",
            "/tmp/ipykernel_53436/1428392064.py:9: RuntimeWarning: divide by zero encountered in divide\n",
            " 34%|███▍      | 3600/10606 [00:04<00:03, 1754.28it/s]/tmp/ipykernel_53436/1428392064.py:4: RuntimeWarning: invalid value encountered in divide\n",
            "/tmp/ipykernel_53436/1428392064.py:14: RuntimeWarning: invalid value encountered in divide\n",
            "/tmp/ipykernel_53436/1428392064.py:19: RuntimeWarning: invalid value encountered in divide\n",
            "/tmp/ipykernel_53436/1428392064.py:9: RuntimeWarning: divide by zero encountered in divide\n",
            "/tmp/ipykernel_53436/1428392064.py:9: RuntimeWarning: divide by zero encountered in divide\n",
            "/tmp/ipykernel_53436/1428392064.py:4: RuntimeWarning: invalid value encountered in divide\n",
            "/tmp/ipykernel_53436/1428392064.py:14: RuntimeWarning: invalid value encountered in divide\n",
            "/tmp/ipykernel_53436/1428392064.py:19: RuntimeWarning: invalid value encountered in divide\n",
            "/tmp/ipykernel_53436/1428392064.py:9: RuntimeWarning: divide by zero encountered in divide\n",
            "/tmp/ipykernel_53436/1428392064.py:9: RuntimeWarning: divide by zero encountered in divide\n",
            "/tmp/ipykernel_53436/1428392064.py:4: RuntimeWarning: invalid value encountered in divide\n",
            "/tmp/ipykernel_53436/1428392064.py:14: RuntimeWarning: invalid value encountered in divide\n",
            "/tmp/ipykernel_53436/1428392064.py:19: RuntimeWarning: invalid value encountered in divide\n",
            "/tmp/ipykernel_53436/1428392064.py:9: RuntimeWarning: divide by zero encountered in divide\n",
            "/tmp/ipykernel_53436/1428392064.py:9: RuntimeWarning: divide by zero encountered in divide\n",
            "/tmp/ipykernel_53436/1428392064.py:9: RuntimeWarning: divide by zero encountered in divide\n",
            "/tmp/ipykernel_53436/1428392064.py:9: RuntimeWarning: divide by zero encountered in divide\n",
            "/tmp/ipykernel_53436/1428392064.py:9: RuntimeWarning: divide by zero encountered in divide\n",
            "/tmp/ipykernel_53436/1428392064.py:9: RuntimeWarning: divide by zero encountered in divide\n",
            "/tmp/ipykernel_53436/1428392064.py:9: RuntimeWarning: divide by zero encountered in divide\n",
            "/tmp/ipykernel_53436/1428392064.py:4: RuntimeWarning: invalid value encountered in divide\n",
            "/tmp/ipykernel_53436/1428392064.py:14: RuntimeWarning: invalid value encountered in divide\n",
            "/tmp/ipykernel_53436/1428392064.py:19: RuntimeWarning: invalid value encountered in divide\n",
            "/tmp/ipykernel_53436/1428392064.py:9: RuntimeWarning: divide by zero encountered in divide\n",
            "/tmp/ipykernel_53436/1428392064.py:9: RuntimeWarning: divide by zero encountered in divide\n",
            "/tmp/ipykernel_53436/1428392064.py:9: RuntimeWarning: divide by zero encountered in divide\n",
            "/tmp/ipykernel_53436/1428392064.py:9: RuntimeWarning: divide by zero encountered in divide\n",
            "/tmp/ipykernel_53436/1428392064.py:9: RuntimeWarning: divide by zero encountered in divide\n",
            " 39%|███▉      | 4112/10606 [00:05<00:03, 1740.67it/s]"
          ]
        },
        {
          "name": "stdout",
          "output_type": "stream",
          "text": [
            "Skipping entry due to missing tif_path for index 3482\n"
          ]
        },
        {
          "name": "stderr",
          "output_type": "stream",
          "text": [
            "/tmp/ipykernel_53436/1428392064.py:9: RuntimeWarning: divide by zero encountered in divide\n",
            "/tmp/ipykernel_53436/1428392064.py:9: RuntimeWarning: divide by zero encountered in divide\n",
            "/tmp/ipykernel_53436/1428392064.py:9: RuntimeWarning: divide by zero encountered in divide\n",
            "/tmp/ipykernel_53436/1428392064.py:9: RuntimeWarning: divide by zero encountered in divide\n",
            "/tmp/ipykernel_53436/1428392064.py:9: RuntimeWarning: divide by zero encountered in divide\n",
            "/tmp/ipykernel_53436/1428392064.py:9: RuntimeWarning: divide by zero encountered in divide\n",
            "/tmp/ipykernel_53436/1428392064.py:9: RuntimeWarning: divide by zero encountered in divide\n",
            "/tmp/ipykernel_53436/1428392064.py:9: RuntimeWarning: divide by zero encountered in divide\n",
            "/tmp/ipykernel_53436/1428392064.py:4: RuntimeWarning: invalid value encountered in divide\n",
            "/tmp/ipykernel_53436/1428392064.py:14: RuntimeWarning: invalid value encountered in divide\n",
            "/tmp/ipykernel_53436/1428392064.py:19: RuntimeWarning: invalid value encountered in divide\n",
            "/tmp/ipykernel_53436/1428392064.py:9: RuntimeWarning: divide by zero encountered in divide\n",
            "/tmp/ipykernel_53436/1428392064.py:9: RuntimeWarning: divide by zero encountered in divide\n",
            "/tmp/ipykernel_53436/1428392064.py:9: RuntimeWarning: divide by zero encountered in divide\n",
            "/tmp/ipykernel_53436/1428392064.py:9: RuntimeWarning: divide by zero encountered in divide\n",
            "/tmp/ipykernel_53436/1428392064.py:9: RuntimeWarning: divide by zero encountered in divide\n",
            "/tmp/ipykernel_53436/1428392064.py:9: RuntimeWarning: divide by zero encountered in divide\n",
            " 44%|████▎     | 4624/10606 [00:05<00:03, 1805.18it/s]/tmp/ipykernel_53436/1428392064.py:9: RuntimeWarning: divide by zero encountered in divide\n",
            "/tmp/ipykernel_53436/1428392064.py:9: RuntimeWarning: divide by zero encountered in divide\n",
            "/tmp/ipykernel_53436/1428392064.py:4: RuntimeWarning: invalid value encountered in divide\n",
            "/tmp/ipykernel_53436/1428392064.py:14: RuntimeWarning: invalid value encountered in divide\n",
            "/tmp/ipykernel_53436/1428392064.py:19: RuntimeWarning: invalid value encountered in divide\n",
            "/tmp/ipykernel_53436/1428392064.py:4: RuntimeWarning: invalid value encountered in divide\n",
            "/tmp/ipykernel_53436/1428392064.py:4: RuntimeWarning: invalid value encountered in divide\n",
            "/tmp/ipykernel_53436/1428392064.py:9: RuntimeWarning: divide by zero encountered in divide\n",
            "/tmp/ipykernel_53436/1428392064.py:14: RuntimeWarning: invalid value encountered in divide\n",
            "/tmp/ipykernel_53436/1428392064.py:14: RuntimeWarning: invalid value encountered in divide\n",
            "/tmp/ipykernel_53436/1428392064.py:19: RuntimeWarning: invalid value encountered in divide\n",
            "/tmp/ipykernel_53436/1428392064.py:19: RuntimeWarning: invalid value encountered in divide\n",
            "/tmp/ipykernel_53436/1428392064.py:9: RuntimeWarning: divide by zero encountered in divide\n",
            "/tmp/ipykernel_53436/1428392064.py:9: RuntimeWarning: divide by zero encountered in divide\n",
            "/tmp/ipykernel_53436/1428392064.py:9: RuntimeWarning: divide by zero encountered in divide\n",
            "/tmp/ipykernel_53436/1428392064.py:9: RuntimeWarning: divide by zero encountered in divide\n",
            "/tmp/ipykernel_53436/1428392064.py:4: RuntimeWarning: invalid value encountered in divide\n",
            "/tmp/ipykernel_53436/1428392064.py:14: RuntimeWarning: invalid value encountered in divide\n",
            "/tmp/ipykernel_53436/1428392064.py:19: RuntimeWarning: invalid value encountered in divide\n",
            "/tmp/ipykernel_53436/1428392064.py:9: RuntimeWarning: divide by zero encountered in divide\n",
            "/tmp/ipykernel_53436/1428392064.py:9: RuntimeWarning: divide by zero encountered in divide\n",
            "/tmp/ipykernel_53436/1428392064.py:9: RuntimeWarning: divide by zero encountered in divide\n",
            "/tmp/ipykernel_53436/1428392064.py:9: RuntimeWarning: divide by zero encountered in divide\n",
            "/tmp/ipykernel_53436/1428392064.py:4: RuntimeWarning: invalid value encountered in divide\n",
            "/tmp/ipykernel_53436/1428392064.py:14: RuntimeWarning: invalid value encountered in divide\n",
            "/tmp/ipykernel_53436/1428392064.py:19: RuntimeWarning: invalid value encountered in divide\n",
            "/tmp/ipykernel_53436/1428392064.py:9: RuntimeWarning: divide by zero encountered in divide\n",
            "/tmp/ipykernel_53436/1428392064.py:4: RuntimeWarning: invalid value encountered in divide\n",
            "/tmp/ipykernel_53436/1428392064.py:14: RuntimeWarning: invalid value encountered in divide\n",
            "/tmp/ipykernel_53436/1428392064.py:19: RuntimeWarning: invalid value encountered in divide\n",
            " 48%|████▊     | 5136/10606 [00:05<00:02, 1824.49it/s]/tmp/ipykernel_53436/1428392064.py:9: RuntimeWarning: divide by zero encountered in divide\n",
            "/tmp/ipykernel_53436/1428392064.py:4: RuntimeWarning: invalid value encountered in divide\n",
            "/tmp/ipykernel_53436/1428392064.py:14: RuntimeWarning: invalid value encountered in divide\n",
            "/tmp/ipykernel_53436/1428392064.py:19: RuntimeWarning: invalid value encountered in divide\n",
            "/tmp/ipykernel_53436/1428392064.py:9: RuntimeWarning: divide by zero encountered in divide\n",
            "/tmp/ipykernel_53436/1428392064.py:9: RuntimeWarning: divide by zero encountered in divide\n",
            "/tmp/ipykernel_53436/1428392064.py:4: RuntimeWarning: invalid value encountered in divide\n",
            "/tmp/ipykernel_53436/1428392064.py:14: RuntimeWarning: invalid value encountered in divide\n",
            "/tmp/ipykernel_53436/1428392064.py:19: RuntimeWarning: invalid value encountered in divide\n",
            "/tmp/ipykernel_53436/1428392064.py:9: RuntimeWarning: divide by zero encountered in divide\n",
            "/tmp/ipykernel_53436/1428392064.py:4: RuntimeWarning: invalid value encountered in divide\n",
            "/tmp/ipykernel_53436/1428392064.py:14: RuntimeWarning: invalid value encountered in divide\n",
            "/tmp/ipykernel_53436/1428392064.py:19: RuntimeWarning: invalid value encountered in divide\n",
            "/tmp/ipykernel_53436/1428392064.py:9: RuntimeWarning: divide by zero encountered in divide\n",
            "/tmp/ipykernel_53436/1428392064.py:5: RuntimeWarning: Mean of empty slice\n",
            "/tmp/ipykernel_53436/1428392064.py:15: RuntimeWarning: Mean of empty slice\n",
            "/tmp/ipykernel_53436/1428392064.py:20: RuntimeWarning: Mean of empty slice\n",
            "/tmp/ipykernel_53436/1428392064.py:9: RuntimeWarning: divide by zero encountered in divide\n",
            "/tmp/ipykernel_53436/1428392064.py:9: RuntimeWarning: divide by zero encountered in divide\n",
            "/tmp/ipykernel_53436/1428392064.py:5: RuntimeWarning: Mean of empty slice\n",
            "/tmp/ipykernel_53436/1428392064.py:15: RuntimeWarning: Mean of empty slice\n",
            "/tmp/ipykernel_53436/1428392064.py:20: RuntimeWarning: Mean of empty slice\n",
            "/tmp/ipykernel_53436/1428392064.py:9: RuntimeWarning: divide by zero encountered in divide\n",
            "/tmp/ipykernel_53436/1428392064.py:9: RuntimeWarning: divide by zero encountered in divide\n",
            "/tmp/ipykernel_53436/1428392064.py:9: RuntimeWarning: divide by zero encountered in divide\n",
            "/tmp/ipykernel_53436/1428392064.py:9: RuntimeWarning: divide by zero encountered in divide\n",
            "/tmp/ipykernel_53436/1428392064.py:4: RuntimeWarning: invalid value encountered in divide\n",
            "/tmp/ipykernel_53436/1428392064.py:14: RuntimeWarning: invalid value encountered in divide\n",
            "/tmp/ipykernel_53436/1428392064.py:19: RuntimeWarning: invalid value encountered in divide\n",
            "/tmp/ipykernel_53436/1428392064.py:9: RuntimeWarning: divide by zero encountered in divide\n",
            "/tmp/ipykernel_53436/1428392064.py:4: RuntimeWarning: invalid value encountered in divide\n",
            "/tmp/ipykernel_53436/1428392064.py:5: RuntimeWarning: Mean of empty slice\n",
            "/tmp/ipykernel_53436/1428392064.py:14: RuntimeWarning: invalid value encountered in divide\n",
            "/tmp/ipykernel_53436/1428392064.py:15: RuntimeWarning: Mean of empty slice\n",
            "/tmp/ipykernel_53436/1428392064.py:19: RuntimeWarning: invalid value encountered in divide\n",
            "/tmp/ipykernel_53436/1428392064.py:20: RuntimeWarning: Mean of empty slice\n",
            "/tmp/ipykernel_53436/1428392064.py:4: RuntimeWarning: invalid value encountered in divide\n",
            "/tmp/ipykernel_53436/1428392064.py:5: RuntimeWarning: Mean of empty slice\n",
            "/tmp/ipykernel_53436/1428392064.py:14: RuntimeWarning: invalid value encountered in divide\n",
            "/tmp/ipykernel_53436/1428392064.py:15: RuntimeWarning: Mean of empty slice\n",
            "/tmp/ipykernel_53436/1428392064.py:19: RuntimeWarning: invalid value encountered in divide\n",
            "/tmp/ipykernel_53436/1428392064.py:20: RuntimeWarning: Mean of empty slice\n",
            "/tmp/ipykernel_53436/1428392064.py:9: RuntimeWarning: divide by zero encountered in divide\n",
            "/tmp/ipykernel_53436/1428392064.py:9: RuntimeWarning: divide by zero encountered in divide\n",
            "/tmp/ipykernel_53436/1428392064.py:9: RuntimeWarning: divide by zero encountered in divide\n"
          ]
        },
        {
          "name": "stdout",
          "output_type": "stream",
          "text": [
            "Skipping entry due to missing tif_path for index 4359\n"
          ]
        },
        {
          "name": "stderr",
          "output_type": "stream",
          "text": [
            "/tmp/ipykernel_53436/1428392064.py:9: RuntimeWarning: divide by zero encountered in divide\n",
            "/tmp/ipykernel_53436/1428392064.py:9: RuntimeWarning: divide by zero encountered in divide\n",
            "/tmp/ipykernel_53436/1428392064.py:9: RuntimeWarning: divide by zero encountered in divide\n",
            "/tmp/ipykernel_53436/1428392064.py:9: RuntimeWarning: divide by zero encountered in divide\n",
            "/tmp/ipykernel_53436/1428392064.py:9: RuntimeWarning: divide by zero encountered in divide\n",
            "/tmp/ipykernel_53436/1428392064.py:4: RuntimeWarning: invalid value encountered in divide\n",
            "/tmp/ipykernel_53436/1428392064.py:14: RuntimeWarning: invalid value encountered in divide\n",
            "/tmp/ipykernel_53436/1428392064.py:19: RuntimeWarning: invalid value encountered in divide\n",
            " 53%|█████▎    | 5648/10606 [00:05<00:02, 1787.29it/s]/tmp/ipykernel_53436/1428392064.py:9: RuntimeWarning: divide by zero encountered in divide\n",
            "/tmp/ipykernel_53436/1428392064.py:9: RuntimeWarning: divide by zero encountered in divide\n",
            "/tmp/ipykernel_53436/1428392064.py:9: RuntimeWarning: divide by zero encountered in divide\n",
            "/tmp/ipykernel_53436/1428392064.py:9: RuntimeWarning: divide by zero encountered in divide\n",
            "/tmp/ipykernel_53436/1428392064.py:9: RuntimeWarning: divide by zero encountered in divide\n",
            "/tmp/ipykernel_53436/1428392064.py:9: RuntimeWarning: divide by zero encountered in divide\n",
            "/tmp/ipykernel_53436/1428392064.py:4: RuntimeWarning: invalid value encountered in divide\n",
            "/tmp/ipykernel_53436/1428392064.py:14: RuntimeWarning: invalid value encountered in divide\n",
            "/tmp/ipykernel_53436/1428392064.py:19: RuntimeWarning: invalid value encountered in divide\n",
            "/tmp/ipykernel_53436/1428392064.py:4: RuntimeWarning: invalid value encountered in divide\n",
            "/tmp/ipykernel_53436/1428392064.py:14: RuntimeWarning: invalid value encountered in divide\n",
            "/tmp/ipykernel_53436/1428392064.py:19: RuntimeWarning: invalid value encountered in divide\n",
            "/tmp/ipykernel_53436/1428392064.py:9: RuntimeWarning: divide by zero encountered in divide\n",
            "/tmp/ipykernel_53436/1428392064.py:9: RuntimeWarning: divide by zero encountered in divide\n",
            "/tmp/ipykernel_53436/1428392064.py:9: RuntimeWarning: divide by zero encountered in divide\n",
            "/tmp/ipykernel_53436/1428392064.py:9: RuntimeWarning: divide by zero encountered in divide\n",
            "/tmp/ipykernel_53436/1428392064.py:9: RuntimeWarning: divide by zero encountered in divide\n",
            "/tmp/ipykernel_53436/1428392064.py:4: RuntimeWarning: invalid value encountered in divide\n",
            "/tmp/ipykernel_53436/1428392064.py:14: RuntimeWarning: invalid value encountered in divide\n",
            "/tmp/ipykernel_53436/1428392064.py:19: RuntimeWarning: invalid value encountered in divide\n",
            "/tmp/ipykernel_53436/1428392064.py:9: RuntimeWarning: divide by zero encountered in divide\n",
            "/tmp/ipykernel_53436/1428392064.py:9: RuntimeWarning: divide by zero encountered in divide\n",
            "/tmp/ipykernel_53436/1428392064.py:9: RuntimeWarning: divide by zero encountered in divide\n",
            "/tmp/ipykernel_53436/1428392064.py:9: RuntimeWarning: divide by zero encountered in divide\n",
            " 58%|█████▊    | 6160/10606 [00:06<00:02, 1806.32it/s]/tmp/ipykernel_53436/1428392064.py:9: RuntimeWarning: divide by zero encountered in divide\n",
            "/tmp/ipykernel_53436/1428392064.py:9: RuntimeWarning: divide by zero encountered in divide\n",
            "/tmp/ipykernel_53436/1428392064.py:9: RuntimeWarning: divide by zero encountered in divide\n",
            "/tmp/ipykernel_53436/1428392064.py:9: RuntimeWarning: divide by zero encountered in divide\n",
            "/tmp/ipykernel_53436/1428392064.py:4: RuntimeWarning: invalid value encountered in divide\n",
            "/tmp/ipykernel_53436/1428392064.py:14: RuntimeWarning: invalid value encountered in divide\n",
            "/tmp/ipykernel_53436/1428392064.py:19: RuntimeWarning: invalid value encountered in divide\n",
            "/tmp/ipykernel_53436/1428392064.py:9: RuntimeWarning: divide by zero encountered in divide\n",
            "/tmp/ipykernel_53436/1428392064.py:9: RuntimeWarning: divide by zero encountered in divide\n",
            "/tmp/ipykernel_53436/1428392064.py:9: RuntimeWarning: divide by zero encountered in divide\n",
            "/tmp/ipykernel_53436/1428392064.py:4: RuntimeWarning: invalid value encountered in divide\n",
            "/tmp/ipykernel_53436/1428392064.py:5: RuntimeWarning: Mean of empty slice\n",
            "/tmp/ipykernel_53436/1428392064.py:14: RuntimeWarning: invalid value encountered in divide\n",
            "/tmp/ipykernel_53436/1428392064.py:15: RuntimeWarning: Mean of empty slice\n",
            "/tmp/ipykernel_53436/1428392064.py:19: RuntimeWarning: invalid value encountered in divide\n",
            "/tmp/ipykernel_53436/1428392064.py:20: RuntimeWarning: Mean of empty slice\n",
            "/tmp/ipykernel_53436/1428392064.py:9: RuntimeWarning: divide by zero encountered in divide\n",
            "/tmp/ipykernel_53436/1428392064.py:9: RuntimeWarning: divide by zero encountered in divide\n",
            "/tmp/ipykernel_53436/1428392064.py:9: RuntimeWarning: divide by zero encountered in divide\n",
            "/tmp/ipykernel_53436/1428392064.py:9: RuntimeWarning: divide by zero encountered in divide\n",
            "/tmp/ipykernel_53436/1428392064.py:9: RuntimeWarning: divide by zero encountered in divide\n",
            "/tmp/ipykernel_53436/1428392064.py:9: RuntimeWarning: divide by zero encountered in divide\n",
            "/tmp/ipykernel_53436/1428392064.py:9: RuntimeWarning: divide by zero encountered in divide\n",
            "/tmp/ipykernel_53436/1428392064.py:4: RuntimeWarning: invalid value encountered in divide\n",
            "/tmp/ipykernel_53436/1428392064.py:14: RuntimeWarning: invalid value encountered in divide\n",
            "/tmp/ipykernel_53436/1428392064.py:19: RuntimeWarning: invalid value encountered in divide\n",
            "/tmp/ipykernel_53436/1428392064.py:9: RuntimeWarning: divide by zero encountered in divide\n",
            "/tmp/ipykernel_53436/1428392064.py:9: RuntimeWarning: divide by zero encountered in divide\n",
            "/tmp/ipykernel_53436/1428392064.py:9: RuntimeWarning: divide by zero encountered in divide\n",
            " 63%|██████▎   | 6672/10606 [00:06<00:02, 1807.62it/s]"
          ]
        },
        {
          "name": "stdout",
          "output_type": "stream",
          "text": [
            "Skipping entry due to missing tif_path for index 5541\n",
            "Skipping entry due to missing tif_path for index 5702\n"
          ]
        },
        {
          "name": "stderr",
          "output_type": "stream",
          "text": [
            "/tmp/ipykernel_53436/1428392064.py:4: RuntimeWarning: invalid value encountered in divide\n",
            "/tmp/ipykernel_53436/1428392064.py:14: RuntimeWarning: invalid value encountered in divide\n",
            "/tmp/ipykernel_53436/1428392064.py:19: RuntimeWarning: invalid value encountered in divide\n",
            "/tmp/ipykernel_53436/1428392064.py:5: RuntimeWarning: Mean of empty slice\n",
            "/tmp/ipykernel_53436/1428392064.py:15: RuntimeWarning: Mean of empty slice\n",
            "/tmp/ipykernel_53436/1428392064.py:20: RuntimeWarning: Mean of empty slice\n",
            "/tmp/ipykernel_53436/1428392064.py:9: RuntimeWarning: divide by zero encountered in divide\n",
            "/tmp/ipykernel_53436/1428392064.py:9: RuntimeWarning: divide by zero encountered in divide\n",
            "/tmp/ipykernel_53436/1428392064.py:9: RuntimeWarning: divide by zero encountered in divide\n",
            "/tmp/ipykernel_53436/1428392064.py:9: RuntimeWarning: divide by zero encountered in divide\n",
            "/tmp/ipykernel_53436/1428392064.py:4: RuntimeWarning: invalid value encountered in divide\n",
            "/tmp/ipykernel_53436/1428392064.py:14: RuntimeWarning: invalid value encountered in divide\n",
            "/tmp/ipykernel_53436/1428392064.py:19: RuntimeWarning: invalid value encountered in divide\n",
            "/tmp/ipykernel_53436/1428392064.py:9: RuntimeWarning: divide by zero encountered in divide\n",
            "/tmp/ipykernel_53436/1428392064.py:9: RuntimeWarning: divide by zero encountered in divide\n",
            "/tmp/ipykernel_53436/1428392064.py:9: RuntimeWarning: divide by zero encountered in divide\n",
            "/tmp/ipykernel_53436/1428392064.py:9: RuntimeWarning: divide by zero encountered in divide\n",
            "/tmp/ipykernel_53436/1428392064.py:4: RuntimeWarning: invalid value encountered in divide\n",
            "/tmp/ipykernel_53436/1428392064.py:14: RuntimeWarning: invalid value encountered in divide\n",
            "/tmp/ipykernel_53436/1428392064.py:19: RuntimeWarning: invalid value encountered in divide\n",
            "/tmp/ipykernel_53436/1428392064.py:9: RuntimeWarning: divide by zero encountered in divide\n",
            "/tmp/ipykernel_53436/1428392064.py:4: RuntimeWarning: invalid value encountered in divide\n",
            "/tmp/ipykernel_53436/1428392064.py:14: RuntimeWarning: invalid value encountered in divide\n",
            "/tmp/ipykernel_53436/1428392064.py:19: RuntimeWarning: invalid value encountered in divide\n",
            "/tmp/ipykernel_53436/1428392064.py:9: RuntimeWarning: divide by zero encountered in divide\n",
            "/tmp/ipykernel_53436/1428392064.py:4: RuntimeWarning: invalid value encountered in divide\n",
            "/tmp/ipykernel_53436/1428392064.py:14: RuntimeWarning: invalid value encountered in divide\n",
            "/tmp/ipykernel_53436/1428392064.py:19: RuntimeWarning: invalid value encountered in divide\n",
            "/tmp/ipykernel_53436/1428392064.py:9: RuntimeWarning: divide by zero encountered in divide\n",
            " 68%|██████▊   | 7184/10606 [00:06<00:01, 1822.33it/s]/tmp/ipykernel_53436/1428392064.py:9: RuntimeWarning: divide by zero encountered in divide\n",
            "/tmp/ipykernel_53436/1428392064.py:9: RuntimeWarning: divide by zero encountered in divide\n",
            "/tmp/ipykernel_53436/1428392064.py:9: RuntimeWarning: divide by zero encountered in divide\n",
            "/tmp/ipykernel_53436/1428392064.py:4: RuntimeWarning: invalid value encountered in divide\n",
            "/tmp/ipykernel_53436/1428392064.py:14: RuntimeWarning: invalid value encountered in divide\n",
            "/tmp/ipykernel_53436/1428392064.py:19: RuntimeWarning: invalid value encountered in divide\n",
            "/tmp/ipykernel_53436/1428392064.py:9: RuntimeWarning: divide by zero encountered in divide\n",
            "/tmp/ipykernel_53436/1428392064.py:5: RuntimeWarning: Mean of empty slice\n",
            "/tmp/ipykernel_53436/1428392064.py:15: RuntimeWarning: Mean of empty slice\n",
            "/tmp/ipykernel_53436/1428392064.py:20: RuntimeWarning: Mean of empty slice\n",
            "/tmp/ipykernel_53436/1428392064.py:4: RuntimeWarning: invalid value encountered in divide\n",
            "/tmp/ipykernel_53436/1428392064.py:14: RuntimeWarning: invalid value encountered in divide\n",
            "/tmp/ipykernel_53436/1428392064.py:19: RuntimeWarning: invalid value encountered in divide\n",
            "/tmp/ipykernel_53436/1428392064.py:9: RuntimeWarning: divide by zero encountered in divide\n",
            "/tmp/ipykernel_53436/1428392064.py:9: RuntimeWarning: divide by zero encountered in divide\n",
            "/tmp/ipykernel_53436/1428392064.py:9: RuntimeWarning: divide by zero encountered in divide\n",
            "/tmp/ipykernel_53436/1428392064.py:9: RuntimeWarning: divide by zero encountered in divide\n",
            "/tmp/ipykernel_53436/1428392064.py:9: RuntimeWarning: divide by zero encountered in divide\n",
            " 73%|███████▎  | 7696/10606 [00:07<00:01, 1837.34it/s]/tmp/ipykernel_53436/1428392064.py:9: RuntimeWarning: divide by zero encountered in divide\n",
            "/tmp/ipykernel_53436/1428392064.py:4: RuntimeWarning: invalid value encountered in divide\n",
            "/tmp/ipykernel_53436/1428392064.py:14: RuntimeWarning: invalid value encountered in divide\n",
            "/tmp/ipykernel_53436/1428392064.py:19: RuntimeWarning: invalid value encountered in divide\n",
            "/tmp/ipykernel_53436/1428392064.py:9: RuntimeWarning: divide by zero encountered in divide\n",
            "/tmp/ipykernel_53436/1428392064.py:9: RuntimeWarning: divide by zero encountered in divide\n",
            "/tmp/ipykernel_53436/1428392064.py:9: RuntimeWarning: divide by zero encountered in divide\n",
            "/tmp/ipykernel_53436/1428392064.py:9: RuntimeWarning: divide by zero encountered in divide\n",
            "/tmp/ipykernel_53436/1428392064.py:4: RuntimeWarning: invalid value encountered in divide\n",
            "/tmp/ipykernel_53436/1428392064.py:14: RuntimeWarning: invalid value encountered in divide\n",
            "/tmp/ipykernel_53436/1428392064.py:19: RuntimeWarning: invalid value encountered in divide\n"
          ]
        },
        {
          "name": "stdout",
          "output_type": "stream",
          "text": [
            "Skipping entry due to missing tif_path for index 7103\n",
            "Skipping entry due to missing tif_path for index 7021\n",
            "Skipping entry due to missing tif_path for index 7118\n"
          ]
        },
        {
          "name": "stderr",
          "output_type": "stream",
          "text": [
            "/tmp/ipykernel_53436/1428392064.py:9: RuntimeWarning: divide by zero encountered in divide\n",
            "/tmp/ipykernel_53436/1428392064.py:9: RuntimeWarning: divide by zero encountered in divide\n",
            " 77%|███████▋  | 8208/10606 [00:07<00:01, 1878.57it/s]/tmp/ipykernel_53436/1428392064.py:9: RuntimeWarning: divide by zero encountered in divide\n",
            "/tmp/ipykernel_53436/1428392064.py:4: RuntimeWarning: invalid value encountered in divide\n",
            "/tmp/ipykernel_53436/1428392064.py:5: RuntimeWarning: Mean of empty slice\n",
            "/tmp/ipykernel_53436/1428392064.py:14: RuntimeWarning: invalid value encountered in divide\n",
            "/tmp/ipykernel_53436/1428392064.py:15: RuntimeWarning: Mean of empty slice\n",
            "/tmp/ipykernel_53436/1428392064.py:19: RuntimeWarning: invalid value encountered in divide\n",
            "/tmp/ipykernel_53436/1428392064.py:20: RuntimeWarning: Mean of empty slice\n",
            "/tmp/ipykernel_53436/1428392064.py:9: RuntimeWarning: divide by zero encountered in divide\n",
            "/tmp/ipykernel_53436/1428392064.py:9: RuntimeWarning: divide by zero encountered in divide\n",
            "/tmp/ipykernel_53436/1428392064.py:9: RuntimeWarning: divide by zero encountered in divide\n",
            "/tmp/ipykernel_53436/1428392064.py:9: RuntimeWarning: divide by zero encountered in divide\n",
            "/tmp/ipykernel_53436/1428392064.py:9: RuntimeWarning: divide by zero encountered in divide\n",
            "/tmp/ipykernel_53436/1428392064.py:9: RuntimeWarning: divide by zero encountered in divide\n",
            "/tmp/ipykernel_53436/1428392064.py:9: RuntimeWarning: divide by zero encountered in divide\n",
            "/tmp/ipykernel_53436/1428392064.py:9: RuntimeWarning: divide by zero encountered in divide\n",
            "/tmp/ipykernel_53436/1428392064.py:4: RuntimeWarning: invalid value encountered in divide\n",
            "/tmp/ipykernel_53436/1428392064.py:14: RuntimeWarning: invalid value encountered in divide\n",
            "/tmp/ipykernel_53436/1428392064.py:19: RuntimeWarning: invalid value encountered in divide\n",
            "/tmp/ipykernel_53436/1428392064.py:9: RuntimeWarning: divide by zero encountered in divide\n",
            "/tmp/ipykernel_53436/1428392064.py:9: RuntimeWarning: divide by zero encountered in divide\n",
            "/tmp/ipykernel_53436/1428392064.py:9: RuntimeWarning: invalid value encountered in divide\n",
            "/tmp/ipykernel_53436/1428392064.py:9: RuntimeWarning: divide by zero encountered in divide\n",
            "/tmp/ipykernel_53436/1428392064.py:4: RuntimeWarning: invalid value encountered in divide\n",
            "/tmp/ipykernel_53436/1428392064.py:14: RuntimeWarning: invalid value encountered in divide\n",
            "/tmp/ipykernel_53436/1428392064.py:19: RuntimeWarning: invalid value encountered in divide\n",
            " 82%|████████▏ | 8720/10606 [00:07<00:01, 1772.90it/s]/tmp/ipykernel_53436/1428392064.py:9: RuntimeWarning: divide by zero encountered in divide\n",
            "/tmp/ipykernel_53436/1428392064.py:9: RuntimeWarning: divide by zero encountered in divide\n",
            "/tmp/ipykernel_53436/1428392064.py:9: RuntimeWarning: divide by zero encountered in divide\n",
            "/tmp/ipykernel_53436/1428392064.py:4: RuntimeWarning: invalid value encountered in divide\n",
            "/tmp/ipykernel_53436/1428392064.py:14: RuntimeWarning: invalid value encountered in divide\n",
            "/tmp/ipykernel_53436/1428392064.py:19: RuntimeWarning: invalid value encountered in divide\n",
            "/tmp/ipykernel_53436/1428392064.py:9: RuntimeWarning: divide by zero encountered in divide\n",
            "/tmp/ipykernel_53436/1428392064.py:9: RuntimeWarning: divide by zero encountered in divide\n",
            "/tmp/ipykernel_53436/1428392064.py:4: RuntimeWarning: invalid value encountered in divide\n",
            "/tmp/ipykernel_53436/1428392064.py:5: RuntimeWarning: Mean of empty slice\n",
            "/tmp/ipykernel_53436/1428392064.py:14: RuntimeWarning: invalid value encountered in divide\n",
            "/tmp/ipykernel_53436/1428392064.py:15: RuntimeWarning: Mean of empty slice\n",
            "/tmp/ipykernel_53436/1428392064.py:19: RuntimeWarning: invalid value encountered in divide\n",
            "/tmp/ipykernel_53436/1428392064.py:20: RuntimeWarning: Mean of empty slice\n",
            "/tmp/ipykernel_53436/1428392064.py:9: RuntimeWarning: divide by zero encountered in divide\n",
            "/tmp/ipykernel_53436/1428392064.py:9: RuntimeWarning: divide by zero encountered in divide\n",
            "/tmp/ipykernel_53436/1428392064.py:4: RuntimeWarning: invalid value encountered in divide\n",
            "/tmp/ipykernel_53436/1428392064.py:14: RuntimeWarning: invalid value encountered in divide\n",
            "/tmp/ipykernel_53436/1428392064.py:19: RuntimeWarning: invalid value encountered in divide\n",
            "/tmp/ipykernel_53436/1428392064.py:9: RuntimeWarning: divide by zero encountered in divide\n",
            "/tmp/ipykernel_53436/1428392064.py:9: RuntimeWarning: divide by zero encountered in divide\n",
            "/tmp/ipykernel_53436/1428392064.py:9: RuntimeWarning: divide by zero encountered in divide\n",
            "/tmp/ipykernel_53436/1428392064.py:9: RuntimeWarning: divide by zero encountered in divide\n",
            "/tmp/ipykernel_53436/1428392064.py:9: RuntimeWarning: divide by zero encountered in divide\n",
            "/tmp/ipykernel_53436/1428392064.py:4: RuntimeWarning: invalid value encountered in divide\n",
            "/tmp/ipykernel_53436/1428392064.py:14: RuntimeWarning: invalid value encountered in divide\n",
            "/tmp/ipykernel_53436/1428392064.py:19: RuntimeWarning: invalid value encountered in divide\n",
            "/tmp/ipykernel_53436/1428392064.py:9: RuntimeWarning: divide by zero encountered in divide\n",
            "/tmp/ipykernel_53436/1428392064.py:9: RuntimeWarning: divide by zero encountered in divide\n",
            "/tmp/ipykernel_53436/1428392064.py:9: RuntimeWarning: divide by zero encountered in divide\n",
            "/tmp/ipykernel_53436/1428392064.py:9: RuntimeWarning: divide by zero encountered in divide\n",
            " 87%|████████▋ | 9232/10606 [00:07<00:00, 1686.03it/s]/tmp/ipykernel_53436/1428392064.py:9: RuntimeWarning: divide by zero encountered in divide\n",
            "/tmp/ipykernel_53436/1428392064.py:9: RuntimeWarning: divide by zero encountered in divide\n",
            "/tmp/ipykernel_53436/1428392064.py:9: RuntimeWarning: divide by zero encountered in divide\n",
            "/tmp/ipykernel_53436/1428392064.py:9: RuntimeWarning: divide by zero encountered in divide\n",
            "/tmp/ipykernel_53436/1428392064.py:9: RuntimeWarning: divide by zero encountered in divide\n",
            "/tmp/ipykernel_53436/1428392064.py:4: RuntimeWarning: invalid value encountered in divide\n",
            "/tmp/ipykernel_53436/1428392064.py:14: RuntimeWarning: invalid value encountered in divide\n",
            "/tmp/ipykernel_53436/1428392064.py:19: RuntimeWarning: invalid value encountered in divide\n",
            "/tmp/ipykernel_53436/1428392064.py:9: RuntimeWarning: divide by zero encountered in divide\n",
            "/tmp/ipykernel_53436/1428392064.py:4: RuntimeWarning: invalid value encountered in divide\n",
            "/tmp/ipykernel_53436/1428392064.py:14: RuntimeWarning: invalid value encountered in divide\n",
            "/tmp/ipykernel_53436/1428392064.py:19: RuntimeWarning: invalid value encountered in divide\n",
            "/tmp/ipykernel_53436/1428392064.py:9: RuntimeWarning: divide by zero encountered in divide\n",
            "/tmp/ipykernel_53436/1428392064.py:9: RuntimeWarning: divide by zero encountered in divide\n",
            "/tmp/ipykernel_53436/1428392064.py:4: RuntimeWarning: invalid value encountered in divide\n",
            "/tmp/ipykernel_53436/1428392064.py:14: RuntimeWarning: invalid value encountered in divide\n",
            "/tmp/ipykernel_53436/1428392064.py:19: RuntimeWarning: invalid value encountered in divide\n",
            "/tmp/ipykernel_53436/1428392064.py:9: RuntimeWarning: divide by zero encountered in divide\n",
            "/tmp/ipykernel_53436/1428392064.py:4: RuntimeWarning: invalid value encountered in divide\n",
            "/tmp/ipykernel_53436/1428392064.py:14: RuntimeWarning: invalid value encountered in divide\n",
            "/tmp/ipykernel_53436/1428392064.py:19: RuntimeWarning: invalid value encountered in divide\n"
          ]
        },
        {
          "name": "stdout",
          "output_type": "stream",
          "text": [
            "Skipping entry due to missing tif_path for index 8328\n",
            "Skipping entry due to missing tif_path for index 8982\n"
          ]
        },
        {
          "name": "stderr",
          "output_type": "stream",
          "text": [
            " 92%|█████████▏| 9744/10606 [00:08<00:00, 1752.23it/s]/tmp/ipykernel_53436/1428392064.py:9: RuntimeWarning: divide by zero encountered in divide\n",
            "/tmp/ipykernel_53436/1428392064.py:9: RuntimeWarning: divide by zero encountered in divide\n",
            "/tmp/ipykernel_53436/1428392064.py:9: RuntimeWarning: divide by zero encountered in divide\n",
            "/tmp/ipykernel_53436/1428392064.py:9: RuntimeWarning: divide by zero encountered in divide\n",
            "/tmp/ipykernel_53436/1428392064.py:9: RuntimeWarning: divide by zero encountered in divide\n",
            "/tmp/ipykernel_53436/1428392064.py:9: RuntimeWarning: divide by zero encountered in divide\n",
            "/tmp/ipykernel_53436/1428392064.py:9: RuntimeWarning: divide by zero encountered in divide\n",
            "/tmp/ipykernel_53436/1428392064.py:4: RuntimeWarning: invalid value encountered in divide\n",
            "/tmp/ipykernel_53436/1428392064.py:14: RuntimeWarning: invalid value encountered in divide\n",
            "/tmp/ipykernel_53436/1428392064.py:19: RuntimeWarning: invalid value encountered in divide\n",
            "/tmp/ipykernel_53436/1428392064.py:4: RuntimeWarning: invalid value encountered in divide\n",
            "/tmp/ipykernel_53436/1428392064.py:14: RuntimeWarning: invalid value encountered in divide\n",
            "/tmp/ipykernel_53436/1428392064.py:19: RuntimeWarning: invalid value encountered in divide\n",
            "/tmp/ipykernel_53436/1428392064.py:9: RuntimeWarning: divide by zero encountered in divide\n",
            "/tmp/ipykernel_53436/1428392064.py:9: RuntimeWarning: divide by zero encountered in divide\n",
            "/tmp/ipykernel_53436/1428392064.py:9: RuntimeWarning: divide by zero encountered in divide\n",
            "/tmp/ipykernel_53436/1428392064.py:9: RuntimeWarning: divide by zero encountered in divide\n",
            "/tmp/ipykernel_53436/1428392064.py:9: RuntimeWarning: divide by zero encountered in divide\n",
            "/tmp/ipykernel_53436/1428392064.py:4: RuntimeWarning: invalid value encountered in divide\n",
            "/tmp/ipykernel_53436/1428392064.py:14: RuntimeWarning: invalid value encountered in divide\n",
            "/tmp/ipykernel_53436/1428392064.py:19: RuntimeWarning: invalid value encountered in divide\n",
            "/tmp/ipykernel_53436/1428392064.py:9: RuntimeWarning: divide by zero encountered in divide\n",
            "/tmp/ipykernel_53436/1428392064.py:9: RuntimeWarning: divide by zero encountered in divide\n",
            "/tmp/ipykernel_53436/1428392064.py:9: RuntimeWarning: divide by zero encountered in divide\n",
            "/tmp/ipykernel_53436/1428392064.py:9: RuntimeWarning: divide by zero encountered in divide\n",
            "/tmp/ipykernel_53436/1428392064.py:9: RuntimeWarning: divide by zero encountered in divide\n",
            "/tmp/ipykernel_53436/1428392064.py:4: RuntimeWarning: invalid value encountered in divide\n",
            "/tmp/ipykernel_53436/1428392064.py:14: RuntimeWarning: invalid value encountered in divide\n",
            "/tmp/ipykernel_53436/1428392064.py:19: RuntimeWarning: invalid value encountered in divide\n"
          ]
        },
        {
          "name": "stdout",
          "output_type": "stream",
          "text": [
            "Skipping entry due to missing tif_path for index 9188\n"
          ]
        },
        {
          "name": "stderr",
          "output_type": "stream",
          "text": [
            "/tmp/ipykernel_53436/1428392064.py:9: RuntimeWarning: divide by zero encountered in divide\n",
            " 97%|█████████▋| 10256/10606 [00:08<00:00, 1746.15it/s]/tmp/ipykernel_53436/1428392064.py:4: RuntimeWarning: invalid value encountered in divide\n",
            "/tmp/ipykernel_53436/1428392064.py:5: RuntimeWarning: Mean of empty slice\n",
            "/tmp/ipykernel_53436/1428392064.py:14: RuntimeWarning: invalid value encountered in divide\n",
            "/tmp/ipykernel_53436/1428392064.py:15: RuntimeWarning: Mean of empty slice\n",
            "/tmp/ipykernel_53436/1428392064.py:19: RuntimeWarning: invalid value encountered in divide\n",
            "/tmp/ipykernel_53436/1428392064.py:20: RuntimeWarning: Mean of empty slice\n",
            "/tmp/ipykernel_53436/1428392064.py:9: RuntimeWarning: divide by zero encountered in divide\n",
            "/tmp/ipykernel_53436/1428392064.py:9: RuntimeWarning: divide by zero encountered in divide\n",
            "100%|██████████| 10606/10606 [00:08<00:00, 1239.03it/s]\n",
            "/tmp/ipykernel_53436/1428392064.py:9: RuntimeWarning: divide by zero encountered in divide\n",
            "/tmp/ipykernel_53436/1428392064.py:4: RuntimeWarning: invalid value encountered in divide\n",
            "/tmp/ipykernel_53436/1428392064.py:14: RuntimeWarning: invalid value encountered in divide\n",
            "/tmp/ipykernel_53436/1428392064.py:19: RuntimeWarning: invalid value encountered in divide\n",
            "/tmp/ipykernel_53436/1428392064.py:9: RuntimeWarning: divide by zero encountered in divide\n",
            "/tmp/ipykernel_53436/1428392064.py:4: RuntimeWarning: invalid value encountered in divide\n",
            "/tmp/ipykernel_53436/1428392064.py:14: RuntimeWarning: invalid value encountered in divide\n",
            "/tmp/ipykernel_53436/1428392064.py:19: RuntimeWarning: invalid value encountered in divide\n",
            "/tmp/ipykernel_53436/1428392064.py:9: RuntimeWarning: divide by zero encountered in divide\n",
            "/tmp/ipykernel_53436/1428392064.py:9: RuntimeWarning: divide by zero encountered in divide\n",
            "/tmp/ipykernel_53436/1428392064.py:9: RuntimeWarning: divide by zero encountered in divide\n",
            "/tmp/ipykernel_53436/1428392064.py:9: RuntimeWarning: divide by zero encountered in divide\n",
            "/tmp/ipykernel_53436/1428392064.py:9: RuntimeWarning: divide by zero encountered in divide\n",
            "/tmp/ipykernel_53436/1428392064.py:9: RuntimeWarning: divide by zero encountered in divide\n",
            "/tmp/ipykernel_53436/1428392064.py:9: RuntimeWarning: divide by zero encountered in divide\n",
            "/tmp/ipykernel_53436/1428392064.py:9: RuntimeWarning: divide by zero encountered in divide\n",
            "/tmp/ipykernel_53436/1428392064.py:9: RuntimeWarning: divide by zero encountered in divide\n",
            "/tmp/ipykernel_53436/1428392064.py:9: RuntimeWarning: divide by zero encountered in divide\n",
            "/tmp/ipykernel_53436/1428392064.py:9: RuntimeWarning: divide by zero encountered in divide\n",
            "/tmp/ipykernel_53436/1428392064.py:9: RuntimeWarning: divide by zero encountered in divide\n",
            "/tmp/ipykernel_53436/1428392064.py:9: RuntimeWarning: divide by zero encountered in divide\n",
            "/tmp/ipykernel_53436/1428392064.py:9: RuntimeWarning: divide by zero encountered in divide\n",
            "/tmp/ipykernel_53436/1428392064.py:9: RuntimeWarning: divide by zero encountered in divide\n",
            "/tmp/ipykernel_53436/1428392064.py:9: RuntimeWarning: divide by zero encountered in divide\n",
            "/tmp/ipykernel_53436/1428392064.py:9: RuntimeWarning: divide by zero encountered in divide\n",
            "/tmp/ipykernel_53436/1428392064.py:9: RuntimeWarning: divide by zero encountered in divide\n",
            "/tmp/ipykernel_53436/1428392064.py:9: RuntimeWarning: divide by zero encountered in divide\n",
            "/tmp/ipykernel_53436/1428392064.py:9: RuntimeWarning: divide by zero encountered in divide\n",
            "/tmp/ipykernel_53436/1428392064.py:9: RuntimeWarning: divide by zero encountered in divide\n",
            "/tmp/ipykernel_53436/1428392064.py:9: RuntimeWarning: divide by zero encountered in divide\n",
            "/tmp/ipykernel_53436/1428392064.py:9: RuntimeWarning: divide by zero encountered in divide\n",
            "/tmp/ipykernel_53436/1428392064.py:9: RuntimeWarning: divide by zero encountered in divide\n",
            "/tmp/ipykernel_53436/1428392064.py:9: RuntimeWarning: divide by zero encountered in divide\n",
            "/tmp/ipykernel_53436/1428392064.py:9: RuntimeWarning: divide by zero encountered in divide\n",
            "/tmp/ipykernel_53436/1428392064.py:9: RuntimeWarning: divide by zero encountered in divide\n",
            "/tmp/ipykernel_53436/1428392064.py:9: RuntimeWarning: divide by zero encountered in divide\n",
            "/tmp/ipykernel_53436/1428392064.py:9: RuntimeWarning: divide by zero encountered in divide\n",
            "/tmp/ipykernel_53436/1428392064.py:9: RuntimeWarning: divide by zero encountered in divide\n",
            "/tmp/ipykernel_53436/1428392064.py:9: RuntimeWarning: divide by zero encountered in divide\n",
            "/tmp/ipykernel_53436/1428392064.py:9: RuntimeWarning: divide by zero encountered in divide\n",
            "/tmp/ipykernel_53436/1428392064.py:9: RuntimeWarning: divide by zero encountered in divide\n",
            "/tmp/ipykernel_53436/1428392064.py:9: RuntimeWarning: divide by zero encountered in divide\n",
            "/tmp/ipykernel_53436/1428392064.py:4: RuntimeWarning: invalid value encountered in divide\n",
            "/tmp/ipykernel_53436/1428392064.py:14: RuntimeWarning: invalid value encountered in divide\n",
            "/tmp/ipykernel_53436/1428392064.py:19: RuntimeWarning: invalid value encountered in divide\n",
            "/tmp/ipykernel_53436/1428392064.py:9: RuntimeWarning: divide by zero encountered in divide\n",
            "/tmp/ipykernel_53436/1428392064.py:9: RuntimeWarning: divide by zero encountered in divide\n"
          ]
        }
      ],
      "source": [
        "# Use parallel processing to calculate features for each row\n",
        "# `tqdm` provides a progress bar to track completion\n",
        "new_features = Parallel(n_jobs=-1)(delayed(process_row_for_features)(index, row)\n",
        "                                   for index, row in tqdm(data.iterrows(), total=len(data)))"
      ]
    },
    {
      "cell_type": "markdown",
      "metadata": {
        "id": "wMc5wyEwlTCx"
      },
      "source": [
        "**Merge New Features with Original Data**\n"
      ]
    },
    {
      "cell_type": "code",
      "execution_count": 63,
      "metadata": {
        "colab": {
          "base_uri": "https://localhost:8080/",
          "height": 17
        },
        "id": "in-pNAYFl79k",
        "outputId": "bfd24cf5-abdb-4a93-b37d-5ee74cef936e"
      },
      "outputs": [
        {
          "data": {
            "text/html": [
              "\n",
              "            <style>\n",
              "                .geemap-dark {\n",
              "                    --jp-widgets-color: white;\n",
              "                    --jp-widgets-label-color: white;\n",
              "                    --jp-ui-font-color1: white;\n",
              "                    --jp-layout-color2: #454545;\n",
              "                    background-color: #383838;\n",
              "                }\n",
              "\n",
              "                .geemap-dark .jupyter-button {\n",
              "                    --jp-layout-color3: #383838;\n",
              "                }\n",
              "\n",
              "                .geemap-colab {\n",
              "                    background-color: var(--colab-primary-surface-color, white);\n",
              "                }\n",
              "\n",
              "                .geemap-colab .jupyter-button {\n",
              "                    --jp-layout-color3: var(--colab-primary-surface-color, white);\n",
              "                }\n",
              "            </style>\n",
              "            "
            ],
            "text/plain": [
              "<IPython.core.display.HTML object>"
            ]
          },
          "metadata": {},
          "output_type": "display_data"
        },
        {
          "ename": "ValueError",
          "evalue": "columns overlap but no suffix specified: Index(['ndvi', 'evi', 'ndwi', 'gndvi', 'savi', 'msavi'], dtype='object')",
          "output_type": "error",
          "traceback": [
            "\u001b[0;31m---------------------------------------------------------------------------\u001b[0m",
            "\u001b[0;31mValueError\u001b[0m                                Traceback (most recent call last)",
            "Cell \u001b[0;32mIn[63], line 3\u001b[0m\n\u001b[1;32m      1\u001b[0m \u001b[38;5;66;03m# Convert list of features to a DataFrame and merge with the original data\u001b[39;00m\n\u001b[1;32m      2\u001b[0m new_features_df \u001b[38;5;241m=\u001b[39m pd\u001b[38;5;241m.\u001b[39mDataFrame(new_features)\u001b[38;5;241m.\u001b[39mset_index(\u001b[38;5;124m'\u001b[39m\u001b[38;5;124mindex\u001b[39m\u001b[38;5;124m'\u001b[39m)\n\u001b[0;32m----> 3\u001b[0m data \u001b[38;5;241m=\u001b[39m \u001b[43mdata\u001b[49m\u001b[38;5;241;43m.\u001b[39;49m\u001b[43mjoin\u001b[49m\u001b[43m(\u001b[49m\u001b[43mnew_features_df\u001b[49m\u001b[43m)\u001b[49m\n",
            "File \u001b[0;32m~/.cache/pypoetry/virtualenvs/telangana-crop-health-challenge-PcT64ZZf-py3.12/lib/python3.12/site-packages/pandas/core/frame.py:10757\u001b[0m, in \u001b[0;36mDataFrame.join\u001b[0;34m(self, other, on, how, lsuffix, rsuffix, sort, validate)\u001b[0m\n\u001b[1;32m  10747\u001b[0m     \u001b[38;5;28;01mif\u001b[39;00m how \u001b[38;5;241m==\u001b[39m \u001b[38;5;124m\"\u001b[39m\u001b[38;5;124mcross\u001b[39m\u001b[38;5;124m\"\u001b[39m:\n\u001b[1;32m  10748\u001b[0m         \u001b[38;5;28;01mreturn\u001b[39;00m merge(\n\u001b[1;32m  10749\u001b[0m             \u001b[38;5;28mself\u001b[39m,\n\u001b[1;32m  10750\u001b[0m             other,\n\u001b[0;32m   (...)\u001b[0m\n\u001b[1;32m  10755\u001b[0m             validate\u001b[38;5;241m=\u001b[39mvalidate,\n\u001b[1;32m  10756\u001b[0m         )\n\u001b[0;32m> 10757\u001b[0m     \u001b[38;5;28;01mreturn\u001b[39;00m \u001b[43mmerge\u001b[49m\u001b[43m(\u001b[49m\n\u001b[1;32m  10758\u001b[0m \u001b[43m        \u001b[49m\u001b[38;5;28;43mself\u001b[39;49m\u001b[43m,\u001b[49m\n\u001b[1;32m  10759\u001b[0m \u001b[43m        \u001b[49m\u001b[43mother\u001b[49m\u001b[43m,\u001b[49m\n\u001b[1;32m  10760\u001b[0m \u001b[43m        \u001b[49m\u001b[43mleft_on\u001b[49m\u001b[38;5;241;43m=\u001b[39;49m\u001b[43mon\u001b[49m\u001b[43m,\u001b[49m\n\u001b[1;32m  10761\u001b[0m \u001b[43m        \u001b[49m\u001b[43mhow\u001b[49m\u001b[38;5;241;43m=\u001b[39;49m\u001b[43mhow\u001b[49m\u001b[43m,\u001b[49m\n\u001b[1;32m  10762\u001b[0m \u001b[43m        \u001b[49m\u001b[43mleft_index\u001b[49m\u001b[38;5;241;43m=\u001b[39;49m\u001b[43mon\u001b[49m\u001b[43m \u001b[49m\u001b[38;5;129;43;01mis\u001b[39;49;00m\u001b[43m \u001b[49m\u001b[38;5;28;43;01mNone\u001b[39;49;00m\u001b[43m,\u001b[49m\n\u001b[1;32m  10763\u001b[0m \u001b[43m        \u001b[49m\u001b[43mright_index\u001b[49m\u001b[38;5;241;43m=\u001b[39;49m\u001b[38;5;28;43;01mTrue\u001b[39;49;00m\u001b[43m,\u001b[49m\n\u001b[1;32m  10764\u001b[0m \u001b[43m        \u001b[49m\u001b[43msuffixes\u001b[49m\u001b[38;5;241;43m=\u001b[39;49m\u001b[43m(\u001b[49m\u001b[43mlsuffix\u001b[49m\u001b[43m,\u001b[49m\u001b[43m \u001b[49m\u001b[43mrsuffix\u001b[49m\u001b[43m)\u001b[49m\u001b[43m,\u001b[49m\n\u001b[1;32m  10765\u001b[0m \u001b[43m        \u001b[49m\u001b[43msort\u001b[49m\u001b[38;5;241;43m=\u001b[39;49m\u001b[43msort\u001b[49m\u001b[43m,\u001b[49m\n\u001b[1;32m  10766\u001b[0m \u001b[43m        \u001b[49m\u001b[43mvalidate\u001b[49m\u001b[38;5;241;43m=\u001b[39;49m\u001b[43mvalidate\u001b[49m\u001b[43m,\u001b[49m\n\u001b[1;32m  10767\u001b[0m \u001b[43m    \u001b[49m\u001b[43m)\u001b[49m\n\u001b[1;32m  10768\u001b[0m \u001b[38;5;28;01melse\u001b[39;00m:\n\u001b[1;32m  10769\u001b[0m     \u001b[38;5;28;01mif\u001b[39;00m on \u001b[38;5;129;01mis\u001b[39;00m \u001b[38;5;129;01mnot\u001b[39;00m \u001b[38;5;28;01mNone\u001b[39;00m:\n",
            "File \u001b[0;32m~/.cache/pypoetry/virtualenvs/telangana-crop-health-challenge-PcT64ZZf-py3.12/lib/python3.12/site-packages/pandas/core/reshape/merge.py:184\u001b[0m, in \u001b[0;36mmerge\u001b[0;34m(left, right, how, on, left_on, right_on, left_index, right_index, sort, suffixes, copy, indicator, validate)\u001b[0m\n\u001b[1;32m    169\u001b[0m \u001b[38;5;28;01melse\u001b[39;00m:\n\u001b[1;32m    170\u001b[0m     op \u001b[38;5;241m=\u001b[39m _MergeOperation(\n\u001b[1;32m    171\u001b[0m         left_df,\n\u001b[1;32m    172\u001b[0m         right_df,\n\u001b[0;32m   (...)\u001b[0m\n\u001b[1;32m    182\u001b[0m         validate\u001b[38;5;241m=\u001b[39mvalidate,\n\u001b[1;32m    183\u001b[0m     )\n\u001b[0;32m--> 184\u001b[0m     \u001b[38;5;28;01mreturn\u001b[39;00m \u001b[43mop\u001b[49m\u001b[38;5;241;43m.\u001b[39;49m\u001b[43mget_result\u001b[49m\u001b[43m(\u001b[49m\u001b[43mcopy\u001b[49m\u001b[38;5;241;43m=\u001b[39;49m\u001b[43mcopy\u001b[49m\u001b[43m)\u001b[49m\n",
            "File \u001b[0;32m~/.cache/pypoetry/virtualenvs/telangana-crop-health-challenge-PcT64ZZf-py3.12/lib/python3.12/site-packages/pandas/core/reshape/merge.py:888\u001b[0m, in \u001b[0;36m_MergeOperation.get_result\u001b[0;34m(self, copy)\u001b[0m\n\u001b[1;32m    884\u001b[0m     \u001b[38;5;28mself\u001b[39m\u001b[38;5;241m.\u001b[39mleft, \u001b[38;5;28mself\u001b[39m\u001b[38;5;241m.\u001b[39mright \u001b[38;5;241m=\u001b[39m \u001b[38;5;28mself\u001b[39m\u001b[38;5;241m.\u001b[39m_indicator_pre_merge(\u001b[38;5;28mself\u001b[39m\u001b[38;5;241m.\u001b[39mleft, \u001b[38;5;28mself\u001b[39m\u001b[38;5;241m.\u001b[39mright)\n\u001b[1;32m    886\u001b[0m join_index, left_indexer, right_indexer \u001b[38;5;241m=\u001b[39m \u001b[38;5;28mself\u001b[39m\u001b[38;5;241m.\u001b[39m_get_join_info()\n\u001b[0;32m--> 888\u001b[0m result \u001b[38;5;241m=\u001b[39m \u001b[38;5;28;43mself\u001b[39;49m\u001b[38;5;241;43m.\u001b[39;49m\u001b[43m_reindex_and_concat\u001b[49m\u001b[43m(\u001b[49m\n\u001b[1;32m    889\u001b[0m \u001b[43m    \u001b[49m\u001b[43mjoin_index\u001b[49m\u001b[43m,\u001b[49m\u001b[43m \u001b[49m\u001b[43mleft_indexer\u001b[49m\u001b[43m,\u001b[49m\u001b[43m \u001b[49m\u001b[43mright_indexer\u001b[49m\u001b[43m,\u001b[49m\u001b[43m \u001b[49m\u001b[43mcopy\u001b[49m\u001b[38;5;241;43m=\u001b[39;49m\u001b[43mcopy\u001b[49m\n\u001b[1;32m    890\u001b[0m \u001b[43m\u001b[49m\u001b[43m)\u001b[49m\n\u001b[1;32m    891\u001b[0m result \u001b[38;5;241m=\u001b[39m result\u001b[38;5;241m.\u001b[39m__finalize__(\u001b[38;5;28mself\u001b[39m, method\u001b[38;5;241m=\u001b[39m\u001b[38;5;28mself\u001b[39m\u001b[38;5;241m.\u001b[39m_merge_type)\n\u001b[1;32m    893\u001b[0m \u001b[38;5;28;01mif\u001b[39;00m \u001b[38;5;28mself\u001b[39m\u001b[38;5;241m.\u001b[39mindicator:\n",
            "File \u001b[0;32m~/.cache/pypoetry/virtualenvs/telangana-crop-health-challenge-PcT64ZZf-py3.12/lib/python3.12/site-packages/pandas/core/reshape/merge.py:840\u001b[0m, in \u001b[0;36m_MergeOperation._reindex_and_concat\u001b[0;34m(self, join_index, left_indexer, right_indexer, copy)\u001b[0m\n\u001b[1;32m    837\u001b[0m left \u001b[38;5;241m=\u001b[39m \u001b[38;5;28mself\u001b[39m\u001b[38;5;241m.\u001b[39mleft[:]\n\u001b[1;32m    838\u001b[0m right \u001b[38;5;241m=\u001b[39m \u001b[38;5;28mself\u001b[39m\u001b[38;5;241m.\u001b[39mright[:]\n\u001b[0;32m--> 840\u001b[0m llabels, rlabels \u001b[38;5;241m=\u001b[39m \u001b[43m_items_overlap_with_suffix\u001b[49m\u001b[43m(\u001b[49m\n\u001b[1;32m    841\u001b[0m \u001b[43m    \u001b[49m\u001b[38;5;28;43mself\u001b[39;49m\u001b[38;5;241;43m.\u001b[39;49m\u001b[43mleft\u001b[49m\u001b[38;5;241;43m.\u001b[39;49m\u001b[43m_info_axis\u001b[49m\u001b[43m,\u001b[49m\u001b[43m \u001b[49m\u001b[38;5;28;43mself\u001b[39;49m\u001b[38;5;241;43m.\u001b[39;49m\u001b[43mright\u001b[49m\u001b[38;5;241;43m.\u001b[39;49m\u001b[43m_info_axis\u001b[49m\u001b[43m,\u001b[49m\u001b[43m \u001b[49m\u001b[38;5;28;43mself\u001b[39;49m\u001b[38;5;241;43m.\u001b[39;49m\u001b[43msuffixes\u001b[49m\n\u001b[1;32m    842\u001b[0m \u001b[43m\u001b[49m\u001b[43m)\u001b[49m\n\u001b[1;32m    844\u001b[0m \u001b[38;5;28;01mif\u001b[39;00m left_indexer \u001b[38;5;129;01mis\u001b[39;00m \u001b[38;5;129;01mnot\u001b[39;00m \u001b[38;5;28;01mNone\u001b[39;00m \u001b[38;5;129;01mand\u001b[39;00m \u001b[38;5;129;01mnot\u001b[39;00m is_range_indexer(left_indexer, \u001b[38;5;28mlen\u001b[39m(left)):\n\u001b[1;32m    845\u001b[0m     \u001b[38;5;66;03m# Pinning the index here (and in the right code just below) is not\u001b[39;00m\n\u001b[1;32m    846\u001b[0m     \u001b[38;5;66;03m#  necessary, but makes the `.take` more performant if we have e.g.\u001b[39;00m\n\u001b[1;32m    847\u001b[0m     \u001b[38;5;66;03m#  a MultiIndex for left.index.\u001b[39;00m\n\u001b[1;32m    848\u001b[0m     lmgr \u001b[38;5;241m=\u001b[39m left\u001b[38;5;241m.\u001b[39m_mgr\u001b[38;5;241m.\u001b[39mreindex_indexer(\n\u001b[1;32m    849\u001b[0m         join_index,\n\u001b[1;32m    850\u001b[0m         left_indexer,\n\u001b[0;32m   (...)\u001b[0m\n\u001b[1;32m    855\u001b[0m         use_na_proxy\u001b[38;5;241m=\u001b[39m\u001b[38;5;28;01mTrue\u001b[39;00m,\n\u001b[1;32m    856\u001b[0m     )\n",
            "File \u001b[0;32m~/.cache/pypoetry/virtualenvs/telangana-crop-health-challenge-PcT64ZZf-py3.12/lib/python3.12/site-packages/pandas/core/reshape/merge.py:2721\u001b[0m, in \u001b[0;36m_items_overlap_with_suffix\u001b[0;34m(left, right, suffixes)\u001b[0m\n\u001b[1;32m   2718\u001b[0m lsuffix, rsuffix \u001b[38;5;241m=\u001b[39m suffixes\n\u001b[1;32m   2720\u001b[0m \u001b[38;5;28;01mif\u001b[39;00m \u001b[38;5;129;01mnot\u001b[39;00m lsuffix \u001b[38;5;129;01mand\u001b[39;00m \u001b[38;5;129;01mnot\u001b[39;00m rsuffix:\n\u001b[0;32m-> 2721\u001b[0m     \u001b[38;5;28;01mraise\u001b[39;00m \u001b[38;5;167;01mValueError\u001b[39;00m(\u001b[38;5;124mf\u001b[39m\u001b[38;5;124m\"\u001b[39m\u001b[38;5;124mcolumns overlap but no suffix specified: \u001b[39m\u001b[38;5;132;01m{\u001b[39;00mto_rename\u001b[38;5;132;01m}\u001b[39;00m\u001b[38;5;124m\"\u001b[39m)\n\u001b[1;32m   2723\u001b[0m \u001b[38;5;28;01mdef\u001b[39;00m \u001b[38;5;21mrenamer\u001b[39m(x, suffix: \u001b[38;5;28mstr\u001b[39m \u001b[38;5;241m|\u001b[39m \u001b[38;5;28;01mNone\u001b[39;00m):\n\u001b[1;32m   2724\u001b[0m \u001b[38;5;250m    \u001b[39m\u001b[38;5;124;03m\"\"\"\u001b[39;00m\n\u001b[1;32m   2725\u001b[0m \u001b[38;5;124;03m    Rename the left and right indices.\u001b[39;00m\n\u001b[1;32m   2726\u001b[0m \n\u001b[0;32m   (...)\u001b[0m\n\u001b[1;32m   2737\u001b[0m \u001b[38;5;124;03m    x : renamed column name\u001b[39;00m\n\u001b[1;32m   2738\u001b[0m \u001b[38;5;124;03m    \"\"\"\u001b[39;00m\n",
            "\u001b[0;31mValueError\u001b[0m: columns overlap but no suffix specified: Index(['ndvi', 'evi', 'ndwi', 'gndvi', 'savi', 'msavi'], dtype='object')"
          ]
        }
      ],
      "source": [
        "# Convert list of features to a DataFrame and merge with the original data\n",
        "new_features_df = pd.DataFrame(new_features).set_index('index')\n",
        "data = data.join(new_features_df)"
      ]
    },
    {
      "cell_type": "code",
      "execution_count": 55,
      "metadata": {
        "colab": {
          "base_uri": "https://localhost:8080/",
          "height": 446
        },
        "id": "wNpABxfTl2Kq",
        "outputId": "ce46f25b-cecb-4808-c7e4-292246d84f30"
      },
      "outputs": [
        {
          "data": {
            "text/html": [
              "\n",
              "            <style>\n",
              "                .geemap-dark {\n",
              "                    --jp-widgets-color: white;\n",
              "                    --jp-widgets-label-color: white;\n",
              "                    --jp-ui-font-color1: white;\n",
              "                    --jp-layout-color2: #454545;\n",
              "                    background-color: #383838;\n",
              "                }\n",
              "\n",
              "                .geemap-dark .jupyter-button {\n",
              "                    --jp-layout-color3: #383838;\n",
              "                }\n",
              "\n",
              "                .geemap-colab {\n",
              "                    background-color: var(--colab-primary-surface-color, white);\n",
              "                }\n",
              "\n",
              "                .geemap-colab .jupyter-button {\n",
              "                    --jp-layout-color3: var(--colab-primary-surface-color, white);\n",
              "                }\n",
              "            </style>\n",
              "            "
            ],
            "text/plain": [
              "<IPython.core.display.HTML object>"
            ]
          },
          "metadata": {},
          "output_type": "display_data"
        },
        {
          "data": {
            "text/html": [
              "<div>\n",
              "<style scoped>\n",
              "    .dataframe tbody tr th:only-of-type {\n",
              "        vertical-align: middle;\n",
              "    }\n",
              "\n",
              "    .dataframe tbody tr th {\n",
              "        vertical-align: top;\n",
              "    }\n",
              "\n",
              "    .dataframe thead th {\n",
              "        text-align: right;\n",
              "    }\n",
              "</style>\n",
              "<table border=\"1\" class=\"dataframe\">\n",
              "  <thead>\n",
              "    <tr style=\"text-align: right;\">\n",
              "      <th></th>\n",
              "      <th>FarmID</th>\n",
              "      <th>category</th>\n",
              "      <th>Crop</th>\n",
              "      <th>State</th>\n",
              "      <th>District</th>\n",
              "      <th>Sub-District</th>\n",
              "      <th>SDate</th>\n",
              "      <th>HDate</th>\n",
              "      <th>CropCoveredArea</th>\n",
              "      <th>CHeight</th>\n",
              "      <th>...</th>\n",
              "      <th>Season</th>\n",
              "      <th>geometry</th>\n",
              "      <th>dataset</th>\n",
              "      <th>tif_path</th>\n",
              "      <th>ndvi</th>\n",
              "      <th>evi</th>\n",
              "      <th>ndwi</th>\n",
              "      <th>gndvi</th>\n",
              "      <th>savi</th>\n",
              "      <th>msavi</th>\n",
              "    </tr>\n",
              "  </thead>\n",
              "  <tbody>\n",
              "    <tr>\n",
              "      <th>0</th>\n",
              "      <td>1326576</td>\n",
              "      <td>Healthy</td>\n",
              "      <td>Paddy</td>\n",
              "      <td>Telangana</td>\n",
              "      <td>Medak</td>\n",
              "      <td>Kulcharam</td>\n",
              "      <td>2023-11-25 0:00:00</td>\n",
              "      <td>2024-04-14 0:00:00</td>\n",
              "      <td>97</td>\n",
              "      <td>54</td>\n",
              "      <td>...</td>\n",
              "      <td>Rabi</td>\n",
              "      <td>POLYGON ((78.18079 17.97897, 78.1811 17.97948,...</td>\n",
              "      <td>train</td>\n",
              "      <td>downloads/20240412T050649_20240412T051727_T43Q...</td>\n",
              "      <td>0.100756</td>\n",
              "      <td>-0.793684</td>\n",
              "      <td>8.488031</td>\n",
              "      <td>0.127153</td>\n",
              "      <td>0.151125</td>\n",
              "      <td>4232.596191</td>\n",
              "    </tr>\n",
              "    <tr>\n",
              "      <th>1</th>\n",
              "      <td>1326577</td>\n",
              "      <td>Healthy</td>\n",
              "      <td>Paddy</td>\n",
              "      <td>Telangana</td>\n",
              "      <td>Medak</td>\n",
              "      <td>Kulcharam</td>\n",
              "      <td>2023-11-13 0:00:00</td>\n",
              "      <td>2024-04-26 0:00:00</td>\n",
              "      <td>82</td>\n",
              "      <td>58</td>\n",
              "      <td>...</td>\n",
              "      <td>Rabi</td>\n",
              "      <td>POLYGON ((78.17483 17.98151, 78.17649 17.98136...</td>\n",
              "      <td>train</td>\n",
              "      <td>downloads/20240425T051649_20240425T052817_T43Q...</td>\n",
              "      <td>0.188090</td>\n",
              "      <td>0.564248</td>\n",
              "      <td>11.493762</td>\n",
              "      <td>0.187815</td>\n",
              "      <td>0.282110</td>\n",
              "      <td>3249.392822</td>\n",
              "    </tr>\n",
              "    <tr>\n",
              "      <th>2</th>\n",
              "      <td>1326578</td>\n",
              "      <td>Healthy</td>\n",
              "      <td>Paddy</td>\n",
              "      <td>Telangana</td>\n",
              "      <td>Medak</td>\n",
              "      <td>Kulcharam</td>\n",
              "      <td>2023-12-19 0:00:00</td>\n",
              "      <td>2024-04-28 0:00:00</td>\n",
              "      <td>92</td>\n",
              "      <td>91</td>\n",
              "      <td>...</td>\n",
              "      <td>Rabi</td>\n",
              "      <td>POLYGON ((78.16888 17.97673, 78.16968 17.97661...</td>\n",
              "      <td>train</td>\n",
              "      <td>downloads/20240427T050651_20240427T051439_T43Q...</td>\n",
              "      <td>0.206596</td>\n",
              "      <td>-1.456745</td>\n",
              "      <td>10.166884</td>\n",
              "      <td>0.206553</td>\n",
              "      <td>0.309869</td>\n",
              "      <td>3741.956055</td>\n",
              "    </tr>\n",
              "    <tr>\n",
              "      <th>3</th>\n",
              "      <td>1331836</td>\n",
              "      <td>Diseased</td>\n",
              "      <td>Paddy</td>\n",
              "      <td>Telangana</td>\n",
              "      <td>Medak</td>\n",
              "      <td>Kulcharam</td>\n",
              "      <td>2023-02-11 0:00:00</td>\n",
              "      <td>2024-11-04 0:00:00</td>\n",
              "      <td>91</td>\n",
              "      <td>52</td>\n",
              "      <td>...</td>\n",
              "      <td>Rabi</td>\n",
              "      <td>POLYGON ((78.16822 17.97469, 78.16955 17.97522...</td>\n",
              "      <td>train</td>\n",
              "      <td>downloads/20241103T050951_20241103T052004_T43Q...</td>\n",
              "      <td>0.206250</td>\n",
              "      <td>2.206184</td>\n",
              "      <td>10.446196</td>\n",
              "      <td>0.220995</td>\n",
              "      <td>0.309350</td>\n",
              "      <td>3673.396729</td>\n",
              "    </tr>\n",
              "    <tr>\n",
              "      <th>4</th>\n",
              "      <td>1326579</td>\n",
              "      <td>Diseased</td>\n",
              "      <td>Paddy</td>\n",
              "      <td>Telangana</td>\n",
              "      <td>Medak</td>\n",
              "      <td>Kulcharam</td>\n",
              "      <td>2023-12-12 0:00:00</td>\n",
              "      <td>2024-05-19 0:00:00</td>\n",
              "      <td>94</td>\n",
              "      <td>55</td>\n",
              "      <td>...</td>\n",
              "      <td>Rabi</td>\n",
              "      <td>POLYGON ((78.17244 17.96962, 78.17303 17.96964...</td>\n",
              "      <td>train</td>\n",
              "      <td>downloads/20240517T050651_20240517T051655_T43Q...</td>\n",
              "      <td>0.179721</td>\n",
              "      <td>-0.743638</td>\n",
              "      <td>8.665929</td>\n",
              "      <td>0.160657</td>\n",
              "      <td>0.269563</td>\n",
              "      <td>4227.338379</td>\n",
              "    </tr>\n",
              "  </tbody>\n",
              "</table>\n",
              "<p>5 rows × 28 columns</p>\n",
              "</div>"
            ],
            "text/plain": [
              "    FarmID  category   Crop      State District Sub-District  \\\n",
              "0  1326576   Healthy  Paddy  Telangana    Medak    Kulcharam   \n",
              "1  1326577   Healthy  Paddy  Telangana    Medak    Kulcharam   \n",
              "2  1326578   Healthy  Paddy  Telangana    Medak    Kulcharam   \n",
              "3  1331836  Diseased  Paddy  Telangana    Medak    Kulcharam   \n",
              "4  1326579  Diseased  Paddy  Telangana    Medak    Kulcharam   \n",
              "\n",
              "                SDate               HDate  CropCoveredArea  CHeight  ...  \\\n",
              "0  2023-11-25 0:00:00  2024-04-14 0:00:00               97       54  ...   \n",
              "1  2023-11-13 0:00:00  2024-04-26 0:00:00               82       58  ...   \n",
              "2  2023-12-19 0:00:00  2024-04-28 0:00:00               92       91  ...   \n",
              "3  2023-02-11 0:00:00  2024-11-04 0:00:00               91       52  ...   \n",
              "4  2023-12-12 0:00:00  2024-05-19 0:00:00               94       55  ...   \n",
              "\n",
              "  Season                                           geometry dataset  \\\n",
              "0   Rabi  POLYGON ((78.18079 17.97897, 78.1811 17.97948,...   train   \n",
              "1   Rabi  POLYGON ((78.17483 17.98151, 78.17649 17.98136...   train   \n",
              "2   Rabi  POLYGON ((78.16888 17.97673, 78.16968 17.97661...   train   \n",
              "3   Rabi  POLYGON ((78.16822 17.97469, 78.16955 17.97522...   train   \n",
              "4   Rabi  POLYGON ((78.17244 17.96962, 78.17303 17.96964...   train   \n",
              "\n",
              "                                            tif_path      ndvi       evi  \\\n",
              "0  downloads/20240412T050649_20240412T051727_T43Q...  0.100756 -0.793684   \n",
              "1  downloads/20240425T051649_20240425T052817_T43Q...  0.188090  0.564248   \n",
              "2  downloads/20240427T050651_20240427T051439_T43Q...  0.206596 -1.456745   \n",
              "3  downloads/20241103T050951_20241103T052004_T43Q...  0.206250  2.206184   \n",
              "4  downloads/20240517T050651_20240517T051655_T43Q...  0.179721 -0.743638   \n",
              "\n",
              "        ndwi     gndvi      savi        msavi  \n",
              "0   8.488031  0.127153  0.151125  4232.596191  \n",
              "1  11.493762  0.187815  0.282110  3249.392822  \n",
              "2  10.166884  0.206553  0.309869  3741.956055  \n",
              "3  10.446196  0.220995  0.309350  3673.396729  \n",
              "4   8.665929  0.160657  0.269563  4227.338379  \n",
              "\n",
              "[5 rows x 28 columns]"
            ]
          },
          "execution_count": 55,
          "metadata": {},
          "output_type": "execute_result"
        }
      ],
      "source": [
        "data.head()"
      ]
    },
    {
      "cell_type": "markdown",
      "metadata": {
        "id": "tRez593rlu-V"
      },
      "source": [
        "**Split Dataset into Train and Test**\n"
      ]
    },
    {
      "cell_type": "code",
      "execution_count": 56,
      "metadata": {
        "colab": {
          "base_uri": "https://localhost:8080/",
          "height": 17
        },
        "id": "xMla6m7nlDJM",
        "outputId": "591a3f61-d4a9-4ace-918a-addbe0136ac3"
      },
      "outputs": [
        {
          "data": {
            "text/html": [
              "\n",
              "            <style>\n",
              "                .geemap-dark {\n",
              "                    --jp-widgets-color: white;\n",
              "                    --jp-widgets-label-color: white;\n",
              "                    --jp-ui-font-color1: white;\n",
              "                    --jp-layout-color2: #454545;\n",
              "                    background-color: #383838;\n",
              "                }\n",
              "\n",
              "                .geemap-dark .jupyter-button {\n",
              "                    --jp-layout-color3: #383838;\n",
              "                }\n",
              "\n",
              "                .geemap-colab {\n",
              "                    background-color: var(--colab-primary-surface-color, white);\n",
              "                }\n",
              "\n",
              "                .geemap-colab .jupyter-button {\n",
              "                    --jp-layout-color3: var(--colab-primary-surface-color, white);\n",
              "                }\n",
              "            </style>\n",
              "            "
            ],
            "text/plain": [
              "<IPython.core.display.HTML object>"
            ]
          },
          "metadata": {},
          "output_type": "display_data"
        }
      ],
      "source": [
        "# Split the data into train and test sets based on the 'dataset' column\n",
        "train = data[data.dataset == 'train'].reset_index(drop=True)\n",
        "test = data[data.dataset == 'test'].reset_index(drop=True)"
      ]
    },
    {
      "cell_type": "code",
      "execution_count": 57,
      "metadata": {
        "colab": {
          "base_uri": "https://localhost:8080/",
          "height": 17
        },
        "id": "-gc_qNgflxrA",
        "outputId": "482166fd-44c1-4997-e5c5-1ccc6533bd85"
      },
      "outputs": [
        {
          "data": {
            "text/html": [
              "\n",
              "            <style>\n",
              "                .geemap-dark {\n",
              "                    --jp-widgets-color: white;\n",
              "                    --jp-widgets-label-color: white;\n",
              "                    --jp-ui-font-color1: white;\n",
              "                    --jp-layout-color2: #454545;\n",
              "                    background-color: #383838;\n",
              "                }\n",
              "\n",
              "                .geemap-dark .jupyter-button {\n",
              "                    --jp-layout-color3: #383838;\n",
              "                }\n",
              "\n",
              "                .geemap-colab {\n",
              "                    background-color: var(--colab-primary-surface-color, white);\n",
              "                }\n",
              "\n",
              "                .geemap-colab .jupyter-button {\n",
              "                    --jp-layout-color3: var(--colab-primary-surface-color, white);\n",
              "                }\n",
              "            </style>\n",
              "            "
            ],
            "text/plain": [
              "<IPython.core.display.HTML object>"
            ]
          },
          "metadata": {},
          "output_type": "display_data"
        }
      ],
      "source": [
        "# Define columns to drop before encoding and training\n",
        "to_drop = [\n",
        "    'geometry', 'tif_path',  # Spatial and file path information\n",
        "    'dataset', 'FarmID',     # Columns that are not needed for modeling\n",
        "]\n",
        "\n",
        "# Drop the specified columns from train and test sets\n",
        "train.drop(columns=to_drop, inplace=True)\n",
        "test.drop(columns=to_drop, inplace=True)"
      ]
    },
    {
      "cell_type": "code",
      "execution_count": 58,
      "metadata": {
        "colab": {
          "base_uri": "https://localhost:8080/",
          "height": 17
        },
        "id": "On7vWlemlxoU",
        "outputId": "1f57b297-cb1a-421a-b379-f7430783676e"
      },
      "outputs": [
        {
          "data": {
            "text/html": [
              "\n",
              "            <style>\n",
              "                .geemap-dark {\n",
              "                    --jp-widgets-color: white;\n",
              "                    --jp-widgets-label-color: white;\n",
              "                    --jp-ui-font-color1: white;\n",
              "                    --jp-layout-color2: #454545;\n",
              "                    background-color: #383838;\n",
              "                }\n",
              "\n",
              "                .geemap-dark .jupyter-button {\n",
              "                    --jp-layout-color3: #383838;\n",
              "                }\n",
              "\n",
              "                .geemap-colab {\n",
              "                    background-color: var(--colab-primary-surface-color, white);\n",
              "                }\n",
              "\n",
              "                .geemap-colab .jupyter-button {\n",
              "                    --jp-layout-color3: var(--colab-primary-surface-color, white);\n",
              "                }\n",
              "            </style>\n",
              "            "
            ],
            "text/plain": [
              "<IPython.core.display.HTML object>"
            ]
          },
          "metadata": {},
          "output_type": "display_data"
        }
      ],
      "source": [
        "# Concatenate train and test datasets for uniform encoding of categorical columns\n",
        "data_combined = pd.concat([train, test], ignore_index=True)"
      ]
    },
    {
      "cell_type": "code",
      "execution_count": 59,
      "metadata": {
        "colab": {
          "base_uri": "https://localhost:8080/",
          "height": 17
        },
        "id": "r7i-Tz-ulxmI",
        "outputId": "242b3b67-3b1d-4edf-f756-68a8279914ac"
      },
      "outputs": [
        {
          "data": {
            "text/html": [
              "\n",
              "            <style>\n",
              "                .geemap-dark {\n",
              "                    --jp-widgets-color: white;\n",
              "                    --jp-widgets-label-color: white;\n",
              "                    --jp-ui-font-color1: white;\n",
              "                    --jp-layout-color2: #454545;\n",
              "                    background-color: #383838;\n",
              "                }\n",
              "\n",
              "                .geemap-dark .jupyter-button {\n",
              "                    --jp-layout-color3: #383838;\n",
              "                }\n",
              "\n",
              "                .geemap-colab {\n",
              "                    background-color: var(--colab-primary-surface-color, white);\n",
              "                }\n",
              "\n",
              "                .geemap-colab .jupyter-button {\n",
              "                    --jp-layout-color3: var(--colab-primary-surface-color, white);\n",
              "                }\n",
              "            </style>\n",
              "            "
            ],
            "text/plain": [
              "<IPython.core.display.HTML object>"
            ]
          },
          "metadata": {},
          "output_type": "display_data"
        }
      ],
      "source": [
        "# Create a mapping for the target variable 'category' to numeric labels, excluding NaN values\n",
        "category_mapper = {label: idx for idx, label in enumerate(\n",
        "    data_combined['category'].unique()) if pd.notna(label)}\n",
        "idx_to_category_mapper = {idx: label for idx, label in enumerate(\n",
        "    data_combined['category'].unique()) if pd.notna(label)}\n",
        "\n",
        "# Map the 'category' column to the new 'target' column using the mapping, handling NaN values as needed\n",
        "data_combined['target'] = data_combined['category'].map(category_mapper)\n",
        "\n",
        "# Drop the original 'category' column now that we have the 'target' column\n",
        "data_combined.drop(columns=['category'], inplace=True)"
      ]
    },
    {
      "cell_type": "code",
      "execution_count": 60,
      "metadata": {
        "colab": {
          "base_uri": "https://localhost:8080/",
          "height": 17
        },
        "id": "W_Te72bxlbyB",
        "outputId": "caf22bbb-b4c2-4dd9-fefc-eb8787d04a7a"
      },
      "outputs": [
        {
          "data": {
            "text/html": [
              "\n",
              "            <style>\n",
              "                .geemap-dark {\n",
              "                    --jp-widgets-color: white;\n",
              "                    --jp-widgets-label-color: white;\n",
              "                    --jp-ui-font-color1: white;\n",
              "                    --jp-layout-color2: #454545;\n",
              "                    background-color: #383838;\n",
              "                }\n",
              "\n",
              "                .geemap-dark .jupyter-button {\n",
              "                    --jp-layout-color3: #383838;\n",
              "                }\n",
              "\n",
              "                .geemap-colab {\n",
              "                    background-color: var(--colab-primary-surface-color, white);\n",
              "                }\n",
              "\n",
              "                .geemap-colab .jupyter-button {\n",
              "                    --jp-layout-color3: var(--colab-primary-surface-color, white);\n",
              "                }\n",
              "            </style>\n",
              "            "
            ],
            "text/plain": [
              "<IPython.core.display.HTML object>"
            ]
          },
          "metadata": {},
          "output_type": "display_data"
        }
      ],
      "source": [
        "# Identify categorical columns to encode\n",
        "categorical_cols = data_combined.select_dtypes(include=['object']).columns\n",
        "\n",
        "# Apply Label Encoding for all categorical columns\n",
        "for col in categorical_cols:\n",
        "    encoder = LabelEncoder()\n",
        "    data_combined[col] = encoder.fit_transform(data_combined[col])"
      ]
    },
    {
      "cell_type": "code",
      "execution_count": 61,
      "metadata": {
        "colab": {
          "base_uri": "https://localhost:8080/",
          "height": 17
        },
        "id": "BivNfRRKmSQP",
        "outputId": "e407e211-220b-4044-f58c-6ced7913ff13"
      },
      "outputs": [
        {
          "data": {
            "text/html": [
              "\n",
              "            <style>\n",
              "                .geemap-dark {\n",
              "                    --jp-widgets-color: white;\n",
              "                    --jp-widgets-label-color: white;\n",
              "                    --jp-ui-font-color1: white;\n",
              "                    --jp-layout-color2: #454545;\n",
              "                    background-color: #383838;\n",
              "                }\n",
              "\n",
              "                .geemap-dark .jupyter-button {\n",
              "                    --jp-layout-color3: #383838;\n",
              "                }\n",
              "\n",
              "                .geemap-colab {\n",
              "                    background-color: var(--colab-primary-surface-color, white);\n",
              "                }\n",
              "\n",
              "                .geemap-colab .jupyter-button {\n",
              "                    --jp-layout-color3: var(--colab-primary-surface-color, white);\n",
              "                }\n",
              "            </style>\n",
              "            "
            ],
            "text/plain": [
              "<IPython.core.display.HTML object>"
            ]
          },
          "metadata": {},
          "output_type": "display_data"
        }
      ],
      "source": [
        "# Split the combined encoded data back into train and test\n",
        "train_encoded = data_combined[data_combined.index <\n",
        "                              len(train)].reset_index(drop=True)\n",
        "test_encoded = data_combined[data_combined.index >=\n",
        "                             len(train)].reset_index(drop=True)"
      ]
    },
    {
      "cell_type": "markdown",
      "metadata": {
        "id": "T1EjPJNWlp-R"
      },
      "source": [
        "# Model Training\n"
      ]
    },
    {
      "cell_type": "code",
      "execution_count": 62,
      "metadata": {
        "colab": {
          "base_uri": "https://localhost:8080/",
          "height": 17
        },
        "id": "tCP5_9HqmIEL",
        "outputId": "38dbc5da-da88-4fe6-b445-6c6ee717a0fc"
      },
      "outputs": [
        {
          "data": {
            "text/html": [
              "\n",
              "            <style>\n",
              "                .geemap-dark {\n",
              "                    --jp-widgets-color: white;\n",
              "                    --jp-widgets-label-color: white;\n",
              "                    --jp-ui-font-color1: white;\n",
              "                    --jp-layout-color2: #454545;\n",
              "                    background-color: #383838;\n",
              "                }\n",
              "\n",
              "                .geemap-dark .jupyter-button {\n",
              "                    --jp-layout-color3: #383838;\n",
              "                }\n",
              "\n",
              "                .geemap-colab {\n",
              "                    background-color: var(--colab-primary-surface-color, white);\n",
              "                }\n",
              "\n",
              "                .geemap-colab .jupyter-button {\n",
              "                    --jp-layout-color3: var(--colab-primary-surface-color, white);\n",
              "                }\n",
              "            </style>\n",
              "            "
            ],
            "text/plain": [
              "<IPython.core.display.HTML object>"
            ]
          },
          "metadata": {},
          "output_type": "display_data"
        }
      ],
      "source": [
        "# Separate features and target variable in the train set\n",
        "X = train_encoded.drop(columns=['target'])\n",
        "y = train_encoded['target'].astype(int)"
      ]
    },
    {
      "cell_type": "code",
      "execution_count": 63,
      "metadata": {
        "colab": {
          "base_uri": "https://localhost:8080/",
          "height": 17
        },
        "id": "qSqjFoyCnkB9",
        "outputId": "17551cf1-f374-435b-83ca-3ca9628bf013"
      },
      "outputs": [
        {
          "data": {
            "text/html": [
              "\n",
              "            <style>\n",
              "                .geemap-dark {\n",
              "                    --jp-widgets-color: white;\n",
              "                    --jp-widgets-label-color: white;\n",
              "                    --jp-ui-font-color1: white;\n",
              "                    --jp-layout-color2: #454545;\n",
              "                    background-color: #383838;\n",
              "                }\n",
              "\n",
              "                .geemap-dark .jupyter-button {\n",
              "                    --jp-layout-color3: #383838;\n",
              "                }\n",
              "\n",
              "                .geemap-colab {\n",
              "                    background-color: var(--colab-primary-surface-color, white);\n",
              "                }\n",
              "\n",
              "                .geemap-colab .jupyter-button {\n",
              "                    --jp-layout-color3: var(--colab-primary-surface-color, white);\n",
              "                }\n",
              "            </style>\n",
              "            "
            ],
            "text/plain": [
              "<IPython.core.display.HTML object>"
            ]
          },
          "metadata": {},
          "output_type": "display_data"
        }
      ],
      "source": [
        "# Stratified split based on 'target' for training and validation\n",
        "X_train, X_valid, y_train, y_valid = train_test_split(\n",
        "    X, y, test_size=0.2, stratify=y, random_state=42)"
      ]
    },
    {
      "cell_type": "code",
      "execution_count": 64,
      "metadata": {
        "colab": {
          "base_uri": "https://localhost:8080/",
          "height": 218
        },
        "id": "i9gQWi-tmqdM",
        "outputId": "d917f37a-511c-4469-bfc3-7f715a72b57a"
      },
      "outputs": [
        {
          "data": {
            "text/html": [
              "\n",
              "            <style>\n",
              "                .geemap-dark {\n",
              "                    --jp-widgets-color: white;\n",
              "                    --jp-widgets-label-color: white;\n",
              "                    --jp-ui-font-color1: white;\n",
              "                    --jp-layout-color2: #454545;\n",
              "                    background-color: #383838;\n",
              "                }\n",
              "\n",
              "                .geemap-dark .jupyter-button {\n",
              "                    --jp-layout-color3: #383838;\n",
              "                }\n",
              "\n",
              "                .geemap-colab {\n",
              "                    background-color: var(--colab-primary-surface-color, white);\n",
              "                }\n",
              "\n",
              "                .geemap-colab .jupyter-button {\n",
              "                    --jp-layout-color3: var(--colab-primary-surface-color, white);\n",
              "                }\n",
              "            </style>\n",
              "            "
            ],
            "text/plain": [
              "<IPython.core.display.HTML object>"
            ]
          },
          "metadata": {},
          "output_type": "display_data"
        },
        {
          "ename": "LightGBMError",
          "evalue": "scikit-learn is required for lightgbm.sklearn. You must install scikit-learn and restart your session to use this module.",
          "output_type": "error",
          "traceback": [
            "\u001b[0;31m---------------------------------------------------------------------------\u001b[0m",
            "\u001b[0;31mLightGBMError\u001b[0m                             Traceback (most recent call last)",
            "Cell \u001b[0;32mIn[64], line 15\u001b[0m\n\u001b[1;32m      2\u001b[0m config_dict \u001b[38;5;241m=\u001b[39m {\n\u001b[1;32m      3\u001b[0m     \u001b[38;5;124m'\u001b[39m\u001b[38;5;124mboosting_type\u001b[39m\u001b[38;5;124m'\u001b[39m: \u001b[38;5;124m'\u001b[39m\u001b[38;5;124mgbdt\u001b[39m\u001b[38;5;124m'\u001b[39m,\n\u001b[1;32m      4\u001b[0m     \u001b[38;5;124m'\u001b[39m\u001b[38;5;124mobjective\u001b[39m\u001b[38;5;124m'\u001b[39m: \u001b[38;5;124m'\u001b[39m\u001b[38;5;124mmulticlass\u001b[39m\u001b[38;5;124m'\u001b[39m,\n\u001b[0;32m   (...)\u001b[0m\n\u001b[1;32m     11\u001b[0m     \u001b[38;5;124m'\u001b[39m\u001b[38;5;124mforce_row_wise\u001b[39m\u001b[38;5;124m'\u001b[39m: \u001b[38;5;124m'\u001b[39m\u001b[38;5;124mtrue\u001b[39m\u001b[38;5;124m'\u001b[39m\n\u001b[1;32m     12\u001b[0m }\n\u001b[1;32m     14\u001b[0m \u001b[38;5;66;03m# Initialize LightGBM classifier with config_dict parameters\u001b[39;00m\n\u001b[0;32m---> 15\u001b[0m model \u001b[38;5;241m=\u001b[39m \u001b[43mLGBMClassifier\u001b[49m\u001b[43m(\u001b[49m\u001b[38;5;241;43m*\u001b[39;49m\u001b[38;5;241;43m*\u001b[39;49m\u001b[43mconfig_dict\u001b[49m\u001b[43m)\u001b[49m\n\u001b[1;32m     17\u001b[0m \u001b[38;5;66;03m# Fit the model with an evaluation set for early stopping and progress tracking\u001b[39;00m\n\u001b[1;32m     18\u001b[0m model\u001b[38;5;241m.\u001b[39mfit(\n\u001b[1;32m     19\u001b[0m     X_train, y_train,\n\u001b[1;32m     20\u001b[0m     eval_set\u001b[38;5;241m=\u001b[39m[(X_train, y_train), (X_valid, y_valid)],\n\u001b[1;32m     21\u001b[0m )\n",
            "File \u001b[0;32m~/.cache/pypoetry/virtualenvs/telangana-crop-health-challenge-PcT64ZZf-py3.12/lib/python3.12/site-packages/lightgbm/sklearn.py:627\u001b[0m, in \u001b[0;36mLGBMModel.__init__\u001b[0;34m(self, boosting_type, num_leaves, max_depth, learning_rate, n_estimators, subsample_for_bin, objective, class_weight, min_split_gain, min_child_weight, min_child_samples, subsample, subsample_freq, colsample_bytree, reg_alpha, reg_lambda, random_state, n_jobs, importance_type, **kwargs)\u001b[0m\n\u001b[1;32m    508\u001b[0m \u001b[38;5;250m\u001b[39m\u001b[38;5;124mr\u001b[39m\u001b[38;5;124;03m\"\"\"Construct a gradient boosting model.\u001b[39;00m\n\u001b[1;32m    509\u001b[0m \n\u001b[1;32m    510\u001b[0m \u001b[38;5;124;03mParameters\u001b[39;00m\n\u001b[0;32m   (...)\u001b[0m\n\u001b[1;32m    624\u001b[0m \u001b[38;5;124;03mand grad and hess should be returned in the same format.\u001b[39;00m\n\u001b[1;32m    625\u001b[0m \u001b[38;5;124;03m\"\"\"\u001b[39;00m\n\u001b[1;32m    626\u001b[0m \u001b[38;5;28;01mif\u001b[39;00m \u001b[38;5;129;01mnot\u001b[39;00m SKLEARN_INSTALLED:\n\u001b[0;32m--> 627\u001b[0m     \u001b[38;5;28;01mraise\u001b[39;00m LightGBMError(\n\u001b[1;32m    628\u001b[0m         \u001b[38;5;124m\"\u001b[39m\u001b[38;5;124mscikit-learn is required for lightgbm.sklearn. \u001b[39m\u001b[38;5;124m\"\u001b[39m\n\u001b[1;32m    629\u001b[0m         \u001b[38;5;124m\"\u001b[39m\u001b[38;5;124mYou must install scikit-learn and restart your session to use this module.\u001b[39m\u001b[38;5;124m\"\u001b[39m\n\u001b[1;32m    630\u001b[0m     )\n\u001b[1;32m    632\u001b[0m \u001b[38;5;28mself\u001b[39m\u001b[38;5;241m.\u001b[39mboosting_type \u001b[38;5;241m=\u001b[39m boosting_type\n\u001b[1;32m    633\u001b[0m \u001b[38;5;28mself\u001b[39m\u001b[38;5;241m.\u001b[39mobjective \u001b[38;5;241m=\u001b[39m objective\n",
            "\u001b[0;31mLightGBMError\u001b[0m: scikit-learn is required for lightgbm.sklearn. You must install scikit-learn and restart your session to use this module."
          ]
        }
      ],
      "source": [
        "# Configuration dictionary for LightGBM parameters\n",
        "config_dict = {\n",
        "    'boosting_type': 'gbdt',\n",
        "    'objective': 'multiclass',\n",
        "    'metric': 'multi_logloss',\n",
        "    'num_class': len(category_mapper),  # Number of classes in the target\n",
        "    'num_leaves': 81,\n",
        "    'learning_rate': 0.01,\n",
        "    'n_estimators': 500,\n",
        "    'random_state': 42,\n",
        "    'force_row_wise': 'true'\n",
        "}\n",
        "\n",
        "# Initialize LightGBM classifier with config_dict parameters\n",
        "model = LGBMClassifier(**config_dict)\n",
        "\n",
        "# Fit the model with an evaluation set for early stopping and progress tracking\n",
        "model.fit(\n",
        "    X_train, y_train,\n",
        "    eval_set=[(X_train, y_train), (X_valid, y_valid)],\n",
        ")"
      ]
    },
    {
      "cell_type": "code",
      "execution_count": 36,
      "metadata": {
        "colab": {
          "base_uri": "https://localhost:8080/",
          "height": 260
        },
        "id": "FHBx31JfmeGc",
        "outputId": "0132e4f0-dcb4-4858-8108-4c2bc1b5f434"
      },
      "outputs": [
        {
          "data": {
            "text/html": [
              "\n",
              "            <style>\n",
              "                .geemap-dark {\n",
              "                    --jp-widgets-color: white;\n",
              "                    --jp-widgets-label-color: white;\n",
              "                    --jp-ui-font-color1: white;\n",
              "                    --jp-layout-color2: #454545;\n",
              "                    background-color: #383838;\n",
              "                }\n",
              "\n",
              "                .geemap-dark .jupyter-button {\n",
              "                    --jp-layout-color3: #383838;\n",
              "                }\n",
              "\n",
              "                .geemap-colab {\n",
              "                    background-color: var(--colab-primary-surface-color, white);\n",
              "                }\n",
              "\n",
              "                .geemap-colab .jupyter-button {\n",
              "                    --jp-layout-color3: var(--colab-primary-surface-color, white);\n",
              "                }\n",
              "            </style>\n",
              "            "
            ],
            "text/plain": [
              "<IPython.core.display.HTML object>"
            ]
          },
          "metadata": {},
          "output_type": "display_data"
        },
        {
          "name": "stdout",
          "output_type": "stream",
          "text": [
            "Classification Report:\n",
            "               precision    recall  f1-score   support\n",
            "\n",
            "     Healthy       0.82      1.00      0.90      1443\n",
            "    Diseased       0.50      0.01      0.02       107\n",
            "       Pests       0.00      0.00      0.00       107\n",
            "    Stressed       0.00      0.00      0.00        98\n",
            "\n",
            "    accuracy                           0.82      1755\n",
            "   macro avg       0.33      0.25      0.23      1755\n",
            "weighted avg       0.71      0.82      0.74      1755\n",
            "\n",
            "\n",
            "Weighted F1 Score: 0.743073912831982\n"
          ]
        }
      ],
      "source": [
        "# Predict on the validation set\n",
        "y_pred = model.predict(X_valid)\n",
        "\n",
        "# Generate classification report and weighted F1 score\n",
        "classification_rep = classification_report(\n",
        "    y_valid, y_pred, target_names=list(category_mapper.keys()))\n",
        "f1 = f1_score(y_valid, y_pred, average='weighted')\n",
        "\n",
        "# Print model evaluation metrics\n",
        "print(\"Classification Report:\\n\", classification_rep)\n",
        "print(\"\\nWeighted F1 Score:\", f1)"
      ]
    },
    {
      "cell_type": "markdown",
      "metadata": {
        "id": "0YZwddCUm42T"
      },
      "source": [
        "# Submit\n"
      ]
    },
    {
      "cell_type": "code",
      "execution_count": 37,
      "metadata": {
        "colab": {
          "base_uri": "https://localhost:8080/",
          "height": 17
        },
        "id": "uz-a90EvqbcR",
        "outputId": "1df03297-2b70-424c-8396-9639700b0af6"
      },
      "outputs": [
        {
          "data": {
            "text/html": [
              "\n",
              "            <style>\n",
              "                .geemap-dark {\n",
              "                    --jp-widgets-color: white;\n",
              "                    --jp-widgets-label-color: white;\n",
              "                    --jp-ui-font-color1: white;\n",
              "                    --jp-layout-color2: #454545;\n",
              "                    background-color: #383838;\n",
              "                }\n",
              "\n",
              "                .geemap-dark .jupyter-button {\n",
              "                    --jp-layout-color3: #383838;\n",
              "                }\n",
              "\n",
              "                .geemap-colab {\n",
              "                    background-color: var(--colab-primary-surface-color, white);\n",
              "                }\n",
              "\n",
              "                .geemap-colab .jupyter-button {\n",
              "                    --jp-layout-color3: var(--colab-primary-surface-color, white);\n",
              "                }\n",
              "            </style>\n",
              "            "
            ],
            "text/plain": [
              "<IPython.core.display.HTML object>"
            ]
          },
          "metadata": {},
          "output_type": "display_data"
        }
      ],
      "source": [
        "# Load submission file\n",
        "sample_submission = pd.read_csv(root_path / \"SampleSubmission.csv\")\n",
        "\n",
        "# Predict on the test set\n",
        "# Drop 'FarmID' if it exists in test_encoded\n",
        "test_predictions = model.predict(test_encoded.drop(columns=['target']))\n",
        "\n",
        "# Fill sample_submission.csv & Save\n",
        "sample_submission['Target'] = test_predictions\n",
        "sample_submission['Target'] = sample_submission['Target'].astype(\n",
        "    int).map(idx_to_category_mapper)\n",
        "sample_submission.to_csv('submission.csv', index=False)"
      ]
    },
    {
      "cell_type": "code",
      "execution_count": 40,
      "metadata": {
        "colab": {
          "base_uri": "https://localhost:8080/",
          "height": 206
        },
        "id": "zO5nbTFeK1dk",
        "outputId": "c744b19e-a439-4285-c20f-f734a2903c92"
      },
      "outputs": [
        {
          "data": {
            "text/html": [
              "\n",
              "            <style>\n",
              "                .geemap-dark {\n",
              "                    --jp-widgets-color: white;\n",
              "                    --jp-widgets-label-color: white;\n",
              "                    --jp-ui-font-color1: white;\n",
              "                    --jp-layout-color2: #454545;\n",
              "                    background-color: #383838;\n",
              "                }\n",
              "\n",
              "                .geemap-dark .jupyter-button {\n",
              "                    --jp-layout-color3: #383838;\n",
              "                }\n",
              "\n",
              "                .geemap-colab {\n",
              "                    background-color: var(--colab-primary-surface-color, white);\n",
              "                }\n",
              "\n",
              "                .geemap-colab .jupyter-button {\n",
              "                    --jp-layout-color3: var(--colab-primary-surface-color, white);\n",
              "                }\n",
              "            </style>\n",
              "            "
            ],
            "text/plain": [
              "<IPython.core.display.HTML object>"
            ]
          },
          "metadata": {},
          "output_type": "display_data"
        },
        {
          "data": {
            "application/vnd.google.colaboratory.intrinsic+json": {
              "summary": "{\n  \"name\": \"sample_submission\",\n  \"rows\": 3016,\n  \"fields\": [\n    {\n      \"column\": \"ID\",\n      \"properties\": {\n        \"dtype\": \"number\",\n        \"std\": 227013,\n        \"min\": 16314,\n        \"max\": 1332142,\n        \"num_unique_values\": 3016,\n        \"samples\": [\n          1326789,\n          1324573,\n          1326890\n        ],\n        \"semantic_type\": \"\",\n        \"description\": \"\"\n      }\n    },\n    {\n      \"column\": \"Target\",\n      \"properties\": {\n        \"dtype\": \"category\",\n        \"num_unique_values\": 2,\n        \"samples\": [\n          \"Diseased\",\n          \"Healthy\"\n        ],\n        \"semantic_type\": \"\",\n        \"description\": \"\"\n      }\n    }\n  ]\n}",
              "type": "dataframe",
              "variable_name": "sample_submission"
            },
            "text/html": [
              "\n",
              "  <div id=\"df-e564b233-ad29-4732-b872-b4b7fd160bb0\" class=\"colab-df-container\">\n",
              "    <div>\n",
              "<style scoped>\n",
              "    .dataframe tbody tr th:only-of-type {\n",
              "        vertical-align: middle;\n",
              "    }\n",
              "\n",
              "    .dataframe tbody tr th {\n",
              "        vertical-align: top;\n",
              "    }\n",
              "\n",
              "    .dataframe thead th {\n",
              "        text-align: right;\n",
              "    }\n",
              "</style>\n",
              "<table border=\"1\" class=\"dataframe\">\n",
              "  <thead>\n",
              "    <tr style=\"text-align: right;\">\n",
              "      <th></th>\n",
              "      <th>ID</th>\n",
              "      <th>Target</th>\n",
              "    </tr>\n",
              "  </thead>\n",
              "  <tbody>\n",
              "    <tr>\n",
              "      <th>0</th>\n",
              "      <td>85197</td>\n",
              "      <td>Healthy</td>\n",
              "    </tr>\n",
              "    <tr>\n",
              "      <th>1</th>\n",
              "      <td>779677</td>\n",
              "      <td>Healthy</td>\n",
              "    </tr>\n",
              "    <tr>\n",
              "      <th>2</th>\n",
              "      <td>1331840</td>\n",
              "      <td>Healthy</td>\n",
              "    </tr>\n",
              "    <tr>\n",
              "      <th>3</th>\n",
              "      <td>483053</td>\n",
              "      <td>Healthy</td>\n",
              "    </tr>\n",
              "    <tr>\n",
              "      <th>4</th>\n",
              "      <td>542945</td>\n",
              "      <td>Healthy</td>\n",
              "    </tr>\n",
              "  </tbody>\n",
              "</table>\n",
              "</div>\n",
              "    <div class=\"colab-df-buttons\">\n",
              "\n",
              "  <div class=\"colab-df-container\">\n",
              "    <button class=\"colab-df-convert\" onclick=\"convertToInteractive('df-e564b233-ad29-4732-b872-b4b7fd160bb0')\"\n",
              "            title=\"Convert this dataframe to an interactive table.\"\n",
              "            style=\"display:none;\">\n",
              "\n",
              "  <svg xmlns=\"http://www.w3.org/2000/svg\" height=\"24px\" viewBox=\"0 -960 960 960\">\n",
              "    <path d=\"M120-120v-720h720v720H120Zm60-500h600v-160H180v160Zm220 220h160v-160H400v160Zm0 220h160v-160H400v160ZM180-400h160v-160H180v160Zm440 0h160v-160H620v160ZM180-180h160v-160H180v160Zm440 0h160v-160H620v160Z\"/>\n",
              "  </svg>\n",
              "    </button>\n",
              "\n",
              "  <style>\n",
              "    .colab-df-container {\n",
              "      display:flex;\n",
              "      gap: 12px;\n",
              "    }\n",
              "\n",
              "    .colab-df-convert {\n",
              "      background-color: #E8F0FE;\n",
              "      border: none;\n",
              "      border-radius: 50%;\n",
              "      cursor: pointer;\n",
              "      display: none;\n",
              "      fill: #1967D2;\n",
              "      height: 32px;\n",
              "      padding: 0 0 0 0;\n",
              "      width: 32px;\n",
              "    }\n",
              "\n",
              "    .colab-df-convert:hover {\n",
              "      background-color: #E2EBFA;\n",
              "      box-shadow: 0px 1px 2px rgba(60, 64, 67, 0.3), 0px 1px 3px 1px rgba(60, 64, 67, 0.15);\n",
              "      fill: #174EA6;\n",
              "    }\n",
              "\n",
              "    .colab-df-buttons div {\n",
              "      margin-bottom: 4px;\n",
              "    }\n",
              "\n",
              "    [theme=dark] .colab-df-convert {\n",
              "      background-color: #3B4455;\n",
              "      fill: #D2E3FC;\n",
              "    }\n",
              "\n",
              "    [theme=dark] .colab-df-convert:hover {\n",
              "      background-color: #434B5C;\n",
              "      box-shadow: 0px 1px 3px 1px rgba(0, 0, 0, 0.15);\n",
              "      filter: drop-shadow(0px 1px 2px rgba(0, 0, 0, 0.3));\n",
              "      fill: #FFFFFF;\n",
              "    }\n",
              "  </style>\n",
              "\n",
              "    <script>\n",
              "      const buttonEl =\n",
              "        document.querySelector('#df-e564b233-ad29-4732-b872-b4b7fd160bb0 button.colab-df-convert');\n",
              "      buttonEl.style.display =\n",
              "        google.colab.kernel.accessAllowed ? 'block' : 'none';\n",
              "\n",
              "      async function convertToInteractive(key) {\n",
              "        const element = document.querySelector('#df-e564b233-ad29-4732-b872-b4b7fd160bb0');\n",
              "        const dataTable =\n",
              "          await google.colab.kernel.invokeFunction('convertToInteractive',\n",
              "                                                    [key], {});\n",
              "        if (!dataTable) return;\n",
              "\n",
              "        const docLinkHtml = 'Like what you see? Visit the ' +\n",
              "          '<a target=\"_blank\" href=https://colab.research.google.com/notebooks/data_table.ipynb>data table notebook</a>'\n",
              "          + ' to learn more about interactive tables.';\n",
              "        element.innerHTML = '';\n",
              "        dataTable['output_type'] = 'display_data';\n",
              "        await google.colab.output.renderOutput(dataTable, element);\n",
              "        const docLink = document.createElement('div');\n",
              "        docLink.innerHTML = docLinkHtml;\n",
              "        element.appendChild(docLink);\n",
              "      }\n",
              "    </script>\n",
              "  </div>\n",
              "\n",
              "\n",
              "<div id=\"df-c8d5e1c8-18b0-46be-a46b-997efb4de0bc\">\n",
              "  <button class=\"colab-df-quickchart\" onclick=\"quickchart('df-c8d5e1c8-18b0-46be-a46b-997efb4de0bc')\"\n",
              "            title=\"Suggest charts\"\n",
              "            style=\"display:none;\">\n",
              "\n",
              "<svg xmlns=\"http://www.w3.org/2000/svg\" height=\"24px\"viewBox=\"0 0 24 24\"\n",
              "     width=\"24px\">\n",
              "    <g>\n",
              "        <path d=\"M19 3H5c-1.1 0-2 .9-2 2v14c0 1.1.9 2 2 2h14c1.1 0 2-.9 2-2V5c0-1.1-.9-2-2-2zM9 17H7v-7h2v7zm4 0h-2V7h2v10zm4 0h-2v-4h2v4z\"/>\n",
              "    </g>\n",
              "</svg>\n",
              "  </button>\n",
              "\n",
              "<style>\n",
              "  .colab-df-quickchart {\n",
              "      --bg-color: #E8F0FE;\n",
              "      --fill-color: #1967D2;\n",
              "      --hover-bg-color: #E2EBFA;\n",
              "      --hover-fill-color: #174EA6;\n",
              "      --disabled-fill-color: #AAA;\n",
              "      --disabled-bg-color: #DDD;\n",
              "  }\n",
              "\n",
              "  [theme=dark] .colab-df-quickchart {\n",
              "      --bg-color: #3B4455;\n",
              "      --fill-color: #D2E3FC;\n",
              "      --hover-bg-color: #434B5C;\n",
              "      --hover-fill-color: #FFFFFF;\n",
              "      --disabled-bg-color: #3B4455;\n",
              "      --disabled-fill-color: #666;\n",
              "  }\n",
              "\n",
              "  .colab-df-quickchart {\n",
              "    background-color: var(--bg-color);\n",
              "    border: none;\n",
              "    border-radius: 50%;\n",
              "    cursor: pointer;\n",
              "    display: none;\n",
              "    fill: var(--fill-color);\n",
              "    height: 32px;\n",
              "    padding: 0;\n",
              "    width: 32px;\n",
              "  }\n",
              "\n",
              "  .colab-df-quickchart:hover {\n",
              "    background-color: var(--hover-bg-color);\n",
              "    box-shadow: 0 1px 2px rgba(60, 64, 67, 0.3), 0 1px 3px 1px rgba(60, 64, 67, 0.15);\n",
              "    fill: var(--button-hover-fill-color);\n",
              "  }\n",
              "\n",
              "  .colab-df-quickchart-complete:disabled,\n",
              "  .colab-df-quickchart-complete:disabled:hover {\n",
              "    background-color: var(--disabled-bg-color);\n",
              "    fill: var(--disabled-fill-color);\n",
              "    box-shadow: none;\n",
              "  }\n",
              "\n",
              "  .colab-df-spinner {\n",
              "    border: 2px solid var(--fill-color);\n",
              "    border-color: transparent;\n",
              "    border-bottom-color: var(--fill-color);\n",
              "    animation:\n",
              "      spin 1s steps(1) infinite;\n",
              "  }\n",
              "\n",
              "  @keyframes spin {\n",
              "    0% {\n",
              "      border-color: transparent;\n",
              "      border-bottom-color: var(--fill-color);\n",
              "      border-left-color: var(--fill-color);\n",
              "    }\n",
              "    20% {\n",
              "      border-color: transparent;\n",
              "      border-left-color: var(--fill-color);\n",
              "      border-top-color: var(--fill-color);\n",
              "    }\n",
              "    30% {\n",
              "      border-color: transparent;\n",
              "      border-left-color: var(--fill-color);\n",
              "      border-top-color: var(--fill-color);\n",
              "      border-right-color: var(--fill-color);\n",
              "    }\n",
              "    40% {\n",
              "      border-color: transparent;\n",
              "      border-right-color: var(--fill-color);\n",
              "      border-top-color: var(--fill-color);\n",
              "    }\n",
              "    60% {\n",
              "      border-color: transparent;\n",
              "      border-right-color: var(--fill-color);\n",
              "    }\n",
              "    80% {\n",
              "      border-color: transparent;\n",
              "      border-right-color: var(--fill-color);\n",
              "      border-bottom-color: var(--fill-color);\n",
              "    }\n",
              "    90% {\n",
              "      border-color: transparent;\n",
              "      border-bottom-color: var(--fill-color);\n",
              "    }\n",
              "  }\n",
              "</style>\n",
              "\n",
              "  <script>\n",
              "    async function quickchart(key) {\n",
              "      const quickchartButtonEl =\n",
              "        document.querySelector('#' + key + ' button');\n",
              "      quickchartButtonEl.disabled = true;  // To prevent multiple clicks.\n",
              "      quickchartButtonEl.classList.add('colab-df-spinner');\n",
              "      try {\n",
              "        const charts = await google.colab.kernel.invokeFunction(\n",
              "            'suggestCharts', [key], {});\n",
              "      } catch (error) {\n",
              "        console.error('Error during call to suggestCharts:', error);\n",
              "      }\n",
              "      quickchartButtonEl.classList.remove('colab-df-spinner');\n",
              "      quickchartButtonEl.classList.add('colab-df-quickchart-complete');\n",
              "    }\n",
              "    (() => {\n",
              "      let quickchartButtonEl =\n",
              "        document.querySelector('#df-c8d5e1c8-18b0-46be-a46b-997efb4de0bc button');\n",
              "      quickchartButtonEl.style.display =\n",
              "        google.colab.kernel.accessAllowed ? 'block' : 'none';\n",
              "    })();\n",
              "  </script>\n",
              "</div>\n",
              "\n",
              "    </div>\n",
              "  </div>\n"
            ],
            "text/plain": [
              "        ID   Target\n",
              "0    85197  Healthy\n",
              "1   779677  Healthy\n",
              "2  1331840  Healthy\n",
              "3   483053  Healthy\n",
              "4   542945  Healthy"
            ]
          },
          "execution_count": 40,
          "metadata": {},
          "output_type": "execute_result"
        }
      ],
      "source": [
        "sample_submission.head()"
      ]
    }
  ],
  "metadata": {
    "colab": {
      "provenance": []
    },
    "kernelspec": {
      "display_name": "telangana-crop-health-challenge-PcT64ZZf-py3.12",
      "language": "python",
      "name": "python3"
    },
    "language_info": {
      "codemirror_mode": {
        "name": "ipython",
        "version": 3
      },
      "file_extension": ".py",
      "mimetype": "text/x-python",
      "name": "python",
      "nbconvert_exporter": "python",
      "pygments_lexer": "ipython3",
      "version": "3.12.3"
    }
  },
  "nbformat": 4,
  "nbformat_minor": 0
}
