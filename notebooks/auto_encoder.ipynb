{
 "cells": [
  {
   "cell_type": "code",
   "execution_count": 1,
   "metadata": {},
   "outputs": [],
   "source": [
    "\n",
    "import sys\n",
    "import os\n",
    "sys.path.append(os.path.abspath(os.path.join(os.getcwd(), os.pardir)))"
   ]
  },
  {
   "cell_type": "code",
   "execution_count": 107,
   "metadata": {},
   "outputs": [],
   "source": [
    "import torch\n",
    "import pandas as pd\n",
    "from src.tools.preprocess import preprocess_data\n",
    "import matplotlib.pyplot as plt\n",
    "import rasterio\n",
    "from skimage import exposure\n",
    "from sklearn.model_selection import  train_test_split\n",
    "from sklearn.preprocessing import LabelEncoder\n",
    "import numpy as np\n",
    "from sklearn import preprocessing\n",
    "from sklearn.model_selection import  cross_val_score, GridSearchCV\n",
    "from sklearn.preprocessing import StandardScaler\n",
    "from sklearn.svm import SVC\n",
    "import joblib"
   ]
  },
  {
   "cell_type": "code",
   "execution_count": 3,
   "metadata": {},
   "outputs": [
    {
     "data": {
      "text/plain": [
       "'cuda'"
      ]
     },
     "execution_count": 3,
     "metadata": {},
     "output_type": "execute_result"
    }
   ],
   "source": [
    "device = \"cuda\" if torch.cuda.is_available() else \"cpu\"\n",
    "device"
   ]
  },
  {
   "cell_type": "code",
   "execution_count": 4,
   "metadata": {},
   "outputs": [
    {
     "name": "stdout",
     "output_type": "stream",
     "text": [
      "tif_path     8\n",
      "ndvi        17\n",
      "evi          8\n",
      "ndwi        17\n",
      "gndvi       17\n",
      "savi         8\n",
      "msavi        8\n",
      "dtype: int64\n"
     ]
    },
    {
     "data": {
      "text/html": [
       "<div>\n",
       "<style scoped>\n",
       "    .dataframe tbody tr th:only-of-type {\n",
       "        vertical-align: middle;\n",
       "    }\n",
       "\n",
       "    .dataframe tbody tr th {\n",
       "        vertical-align: top;\n",
       "    }\n",
       "\n",
       "    .dataframe thead th {\n",
       "        text-align: right;\n",
       "    }\n",
       "</style>\n",
       "<table border=\"1\" class=\"dataframe\">\n",
       "  <thead>\n",
       "    <tr style=\"text-align: right;\">\n",
       "      <th></th>\n",
       "      <th>Unnamed: 0</th>\n",
       "      <th>FarmID</th>\n",
       "      <th>category</th>\n",
       "      <th>Crop</th>\n",
       "      <th>State</th>\n",
       "      <th>District</th>\n",
       "      <th>Sub-District</th>\n",
       "      <th>SDate</th>\n",
       "      <th>HDate</th>\n",
       "      <th>CropCoveredArea</th>\n",
       "      <th>...</th>\n",
       "      <th>ndwi</th>\n",
       "      <th>gndvi</th>\n",
       "      <th>savi</th>\n",
       "      <th>msavi</th>\n",
       "      <th>SDate_year</th>\n",
       "      <th>SDate_month</th>\n",
       "      <th>SDate_day</th>\n",
       "      <th>HDate_year</th>\n",
       "      <th>HDate_month</th>\n",
       "      <th>HDate_day</th>\n",
       "    </tr>\n",
       "  </thead>\n",
       "  <tbody>\n",
       "    <tr>\n",
       "      <th>0</th>\n",
       "      <td>0</td>\n",
       "      <td>1326576</td>\n",
       "      <td>Healthy</td>\n",
       "      <td>Paddy</td>\n",
       "      <td>Telangana</td>\n",
       "      <td>Medak</td>\n",
       "      <td>Kulcharam</td>\n",
       "      <td>2023-11-25</td>\n",
       "      <td>2024-04-14</td>\n",
       "      <td>97</td>\n",
       "      <td>...</td>\n",
       "      <td>8.488031</td>\n",
       "      <td>0.127153</td>\n",
       "      <td>0.151125</td>\n",
       "      <td>4232.596191</td>\n",
       "      <td>2023</td>\n",
       "      <td>11</td>\n",
       "      <td>25</td>\n",
       "      <td>2024</td>\n",
       "      <td>4</td>\n",
       "      <td>14</td>\n",
       "    </tr>\n",
       "    <tr>\n",
       "      <th>1</th>\n",
       "      <td>1</td>\n",
       "      <td>1326577</td>\n",
       "      <td>Healthy</td>\n",
       "      <td>Paddy</td>\n",
       "      <td>Telangana</td>\n",
       "      <td>Medak</td>\n",
       "      <td>Kulcharam</td>\n",
       "      <td>2023-11-13</td>\n",
       "      <td>2024-04-26</td>\n",
       "      <td>82</td>\n",
       "      <td>...</td>\n",
       "      <td>11.493762</td>\n",
       "      <td>0.187815</td>\n",
       "      <td>0.282110</td>\n",
       "      <td>3249.392822</td>\n",
       "      <td>2023</td>\n",
       "      <td>11</td>\n",
       "      <td>13</td>\n",
       "      <td>2024</td>\n",
       "      <td>4</td>\n",
       "      <td>26</td>\n",
       "    </tr>\n",
       "    <tr>\n",
       "      <th>2</th>\n",
       "      <td>2</td>\n",
       "      <td>1326578</td>\n",
       "      <td>Healthy</td>\n",
       "      <td>Paddy</td>\n",
       "      <td>Telangana</td>\n",
       "      <td>Medak</td>\n",
       "      <td>Kulcharam</td>\n",
       "      <td>2023-12-19</td>\n",
       "      <td>2024-04-28</td>\n",
       "      <td>92</td>\n",
       "      <td>...</td>\n",
       "      <td>10.166884</td>\n",
       "      <td>0.206553</td>\n",
       "      <td>0.309869</td>\n",
       "      <td>3741.956055</td>\n",
       "      <td>2023</td>\n",
       "      <td>12</td>\n",
       "      <td>19</td>\n",
       "      <td>2024</td>\n",
       "      <td>4</td>\n",
       "      <td>28</td>\n",
       "    </tr>\n",
       "    <tr>\n",
       "      <th>3</th>\n",
       "      <td>3</td>\n",
       "      <td>1331836</td>\n",
       "      <td>Diseased</td>\n",
       "      <td>Paddy</td>\n",
       "      <td>Telangana</td>\n",
       "      <td>Medak</td>\n",
       "      <td>Kulcharam</td>\n",
       "      <td>2023-02-11</td>\n",
       "      <td>2024-11-04</td>\n",
       "      <td>91</td>\n",
       "      <td>...</td>\n",
       "      <td>10.446196</td>\n",
       "      <td>0.220995</td>\n",
       "      <td>0.309350</td>\n",
       "      <td>3673.396729</td>\n",
       "      <td>2023</td>\n",
       "      <td>2</td>\n",
       "      <td>11</td>\n",
       "      <td>2024</td>\n",
       "      <td>11</td>\n",
       "      <td>4</td>\n",
       "    </tr>\n",
       "    <tr>\n",
       "      <th>4</th>\n",
       "      <td>4</td>\n",
       "      <td>1326579</td>\n",
       "      <td>Diseased</td>\n",
       "      <td>Paddy</td>\n",
       "      <td>Telangana</td>\n",
       "      <td>Medak</td>\n",
       "      <td>Kulcharam</td>\n",
       "      <td>2023-12-12</td>\n",
       "      <td>2024-05-19</td>\n",
       "      <td>94</td>\n",
       "      <td>...</td>\n",
       "      <td>8.665929</td>\n",
       "      <td>0.160657</td>\n",
       "      <td>0.269563</td>\n",
       "      <td>4227.338379</td>\n",
       "      <td>2023</td>\n",
       "      <td>12</td>\n",
       "      <td>12</td>\n",
       "      <td>2024</td>\n",
       "      <td>5</td>\n",
       "      <td>19</td>\n",
       "    </tr>\n",
       "  </tbody>\n",
       "</table>\n",
       "<p>5 rows × 35 columns</p>\n",
       "</div>"
      ],
      "text/plain": [
       "   Unnamed: 0   FarmID  category   Crop      State District Sub-District  \\\n",
       "0           0  1326576   Healthy  Paddy  Telangana    Medak    Kulcharam   \n",
       "1           1  1326577   Healthy  Paddy  Telangana    Medak    Kulcharam   \n",
       "2           2  1326578   Healthy  Paddy  Telangana    Medak    Kulcharam   \n",
       "3           3  1331836  Diseased  Paddy  Telangana    Medak    Kulcharam   \n",
       "4           4  1326579  Diseased  Paddy  Telangana    Medak    Kulcharam   \n",
       "\n",
       "       SDate      HDate  CropCoveredArea  ...       ndwi     gndvi      savi  \\\n",
       "0 2023-11-25 2024-04-14               97  ...   8.488031  0.127153  0.151125   \n",
       "1 2023-11-13 2024-04-26               82  ...  11.493762  0.187815  0.282110   \n",
       "2 2023-12-19 2024-04-28               92  ...  10.166884  0.206553  0.309869   \n",
       "3 2023-02-11 2024-11-04               91  ...  10.446196  0.220995  0.309350   \n",
       "4 2023-12-12 2024-05-19               94  ...   8.665929  0.160657  0.269563   \n",
       "\n",
       "         msavi SDate_year SDate_month  SDate_day  HDate_year  HDate_month  \\\n",
       "0  4232.596191       2023          11         25        2024            4   \n",
       "1  3249.392822       2023          11         13        2024            4   \n",
       "2  3741.956055       2023          12         19        2024            4   \n",
       "3  3673.396729       2023           2         11        2024           11   \n",
       "4  4227.338379       2023          12         12        2024            5   \n",
       "\n",
       "  HDate_day  \n",
       "0        14  \n",
       "1        26  \n",
       "2        28  \n",
       "3         4  \n",
       "4        19  \n",
       "\n",
       "[5 rows x 35 columns]"
      ]
     },
     "execution_count": 71,
     "metadata": {},
     "output_type": "execute_result"
    }
   ],
   "source": [
    "data = pd.read_csv('../data/processed/data.csv')\n",
    "data_clean = preprocess_data(data[data[\"dataset\"]==\"train\"])\n",
    "data_clean.head()"
   ]
  },
  {
   "cell_type": "code",
   "execution_count": 47,
   "metadata": {},
   "outputs": [],
   "source": [
    "import os\n",
    "from torchvision import transforms\n",
    "from torch.utils.data import Dataset, DataLoader\n",
    "import torch\n",
    "from PIL import Image\n",
    "\n",
    "\n",
    "def scale_band(band):\n",
    "    \"\"\"Scale band data to 0-255.\"\"\"\n",
    "    band_min = np.min(band)\n",
    "    band_max = np.max(band)\n",
    "    return ((band - band_min) / (band_max - band_min) * 255).astype(np.uint8)\n",
    "\n",
    "\n",
    "class TiffDataset(Dataset):\n",
    "    def __init__(self, directory, data, type=\"train\", transform=None, gamma=0.6, contrast_stretch=True):\n",
    "        self.directory = directory\n",
    "        self.transform = transform\n",
    "        self.gamma = gamma\n",
    "        self.contrast_stretch = contrast_stretch\n",
    "        self.images = data.loc[(data[\"tif_path\"].str.endswith('.tif')) & (data[\"dataset\"] == type),\n",
    "                               \"tif_path\"\n",
    "                               ].tolist()\n",
    "\n",
    "    def __len__(self):\n",
    "        return len(self.images)\n",
    "\n",
    "    def __getitem__(self, idx):\n",
    "        img_path = os.path.join(self.directory, self.images[idx])\n",
    "\n",
    "        # Open the image file\n",
    "        with rasterio.open(img_path) as src:\n",
    "            # Read RGB bands (assuming Sentinel-2 band order: Red=B4, Green=B3, Blue=B2)\n",
    "            red = src.read(3)\n",
    "            green = src.read(2)\n",
    "            blue = src.read(1)\n",
    "\n",
    "            # Scale each band to the 0–255 range for better visualization\n",
    "            red_scaled = scale_band(red)\n",
    "            green_scaled = scale_band(green)\n",
    "            blue_scaled = scale_band(blue)\n",
    "\n",
    "            # Stack the scaled RGB bands into a single image\n",
    "            rgb = np.dstack((red_scaled, green_scaled,\n",
    "                            blue_scaled)).astype(np.uint8)\n",
    "\n",
    "            # Apply contrast stretching if specified\n",
    "            if self.contrast_stretch:\n",
    "                p2, p98 = np.percentile(rgb, (2, 98))\n",
    "                rgb = exposure.rescale_intensity(rgb, in_range=(p2, p98))\n",
    "\n",
    "            # Apply gamma correction to adjust brightness\n",
    "            rgb = exposure.adjust_gamma(rgb, gamma=self.gamma)\n",
    "\n",
    "            # Convert NumPy array to PIL Image\n",
    "            rgb = Image.fromarray(rgb)\n",
    "\n",
    "            if self.transform:\n",
    "                rgb = self.transform(rgb)\n",
    "\n",
    "        return rgb"
   ]
  },
  {
   "cell_type": "code",
   "execution_count": 48,
   "metadata": {},
   "outputs": [],
   "source": [
    "transform = transforms.Compose([\n",
    "    transforms.Resize((32, 32)),\n",
    "    transforms.RandomRotation(degrees=30),  \n",
    "    transforms.RandomAffine(translate=(0.1, 0.1), degrees=20),  \n",
    "    transforms.ToTensor()\n",
    "])"
   ]
  },
  {
   "cell_type": "code",
   "execution_count": 77,
   "metadata": {},
   "outputs": [],
   "source": [
    "\n",
    "train_dataset = TiffDataset(directory=\"../data\", data=data_clean, type=\"train\", transform=transform)\n",
    "train_dataloader = DataLoader(train_dataset, batch_size=32, shuffle=True)\n",
    "\n",
    "test_dataset = TiffDataset(directory=\"../data\", data=data_clean, type=\"test\", transform=transform)\n",
    "test_dataloader = DataLoader(train_dataset, batch_size=32, shuffle=True)"
   ]
  },
  {
   "cell_type": "code",
   "execution_count": 78,
   "metadata": {},
   "outputs": [],
   "source": [
    "import torch\n",
    "\n",
    "\n",
    "import torch\n",
    "\n",
    "class Autoencoder(torch.nn.Module):\n",
    "    def __init__(self):\n",
    "        super(Autoencoder, self).__init__()\n",
    "\n",
    "        # Encoder\n",
    "        self.encoder = torch.nn.Sequential(\n",
    "            torch.nn.Conv2d(3, 64, 3, stride=2, padding=1),  # 32x32 -> 16x16\n",
    "            torch.nn.ReLU(),\n",
    "            torch.nn.BatchNorm2d(64),\n",
    "            torch.nn.Dropout(0.2),\n",
    "\n",
    "            torch.nn.Conv2d(64, 128, 3, stride=2, padding=1),  # 16x16 -> 8x8\n",
    "            torch.nn.ReLU(),\n",
    "            torch.nn.BatchNorm2d(128),\n",
    "            torch.nn.Dropout(0.2),\n",
    "\n",
    "            torch.nn.Conv2d(128, 256, 3, stride=2, padding=1),  # 8x8 -> 4x4\n",
    "            torch.nn.ReLU(),\n",
    "            torch.nn.BatchNorm2d(256),\n",
    "            torch.nn.Flatten(),\n",
    "\n",
    "            torch.nn.Linear(256 * 4 * 4, 64),\n",
    "            torch.nn.ReLU(),\n",
    "            torch.nn.Dropout(0.2),\n",
    "\n",
    "            torch.nn.Linear(64, 5)  # Code latent réduit à 4\n",
    "        )\n",
    "\n",
    "        self.decoder = torch.nn.Sequential(\n",
    "            torch.nn.Linear(5, 64), \n",
    "            torch.nn.ReLU(),\n",
    "            torch.nn.Dropout(0.3),\n",
    "\n",
    "            torch.nn.Linear(64, 256 * 4 * 4),\n",
    "            torch.nn.ReLU(),\n",
    "            torch.nn.BatchNorm1d(256 * 4 * 4),\n",
    "\n",
    "            torch.nn.Unflatten(1, (256, 4, 4)),\n",
    "            torch.nn.ConvTranspose2d(256, 128, 3, stride=2, padding=1, output_padding=1),  # 4x4 -> 8x8\n",
    "            torch.nn.ReLU(),\n",
    "            torch.nn.BatchNorm2d(128),\n",
    "\n",
    "            torch.nn.ConvTranspose2d(128, 64, 3, stride=2, padding=1, output_padding=1),   # 8x8 -> 16x16\n",
    "            torch.nn.ReLU(),\n",
    "            torch.nn.BatchNorm2d(64),\n",
    "\n",
    "            torch.nn.ConvTranspose2d(64, 3, 3, stride=2, padding=1, output_padding=1),    # 16x16 -> 32x32\n",
    "            torch.nn.Sigmoid() \n",
    "        )\n",
    "\n",
    "    def forward(self, x):\n",
    "        encoded = self.encoder(x)\n",
    "        decoded = self.decoder(encoded)\n",
    "        return decoded\n"
   ]
  },
  {
   "cell_type": "code",
   "execution_count": 79,
   "metadata": {},
   "outputs": [],
   "source": [
    "autoencoder = Autoencoder().to(device)"
   ]
  },
  {
   "cell_type": "code",
   "execution_count": 81,
   "metadata": {},
   "outputs": [],
   "source": [
    "def train_dataset(autoencoder, train_loader, num_epochs=10, learning_rate=1e-4):\n",
    "    autoencoder = Autoencoder().to(device)\n",
    "    criterion = torch.nn.MSELoss()\n",
    "    optimizer = torch.optim.Adam(autoencoder.parameters(), lr=learning_rate)\n",
    "    train_loss = []\n",
    "    test_loss = []\n",
    "\n",
    "    for epoch in range(num_epochs):\n",
    "        total_loss = 0\n",
    "        for batch_idx, data in enumerate(train_loader):\n",
    "            autoencoder.train()\n",
    "            # Normaliser les données entre 0 et 1\n",
    "            data = data.to(device)\n",
    "            optimizer.zero_grad()\n",
    "            output = autoencoder(data)\n",
    "            output = output.float()\n",
    "            loss = criterion(output, data)\n",
    "            loss.backward()\n",
    "            optimizer.step()\n",
    "            total_loss += loss.item()\n",
    "\n",
    "\n",
    "        else:\n",
    "            autoencoder.eval()\n",
    "            total_loss_test = 0\n",
    "            for batch_idx, data in enumerate(test_dataloader):\n",
    "                with torch.no_grad():\n",
    "                    data = data.to(device)\n",
    "                    output = autoencoder(data)\n",
    "                    output = output.float()\n",
    "                    loss = criterion(output, data)\n",
    "                    total_loss_test += loss.item()\n",
    "        avg_loss_test = total_loss_test / len(test_dataloader)\n",
    "        avg_loss = total_loss / len(train_loader)\n",
    "        train_loss.append(avg_loss)\n",
    "        test_loss.append(avg_loss_test)\n",
    "        print(f'Epoch {epoch}: Average Loss = {avg_loss:.4f}',\n",
    "              f'Average Loss Test = {avg_loss_test:.4f}')\n",
    "\n",
    "    return autoencoder, train_loss, test_loss"
   ]
  },
  {
   "cell_type": "code",
   "execution_count": 82,
   "metadata": {},
   "outputs": [
    {
     "name": "stdout",
     "output_type": "stream",
     "text": [
      "Epoch 0: Average Loss = 0.0910 Average Loss Test = 0.0578\n",
      "Epoch 1: Average Loss = 0.0579 Average Loss Test = 0.0488\n",
      "Epoch 2: Average Loss = 0.0518 Average Loss Test = 0.0455\n",
      "Epoch 3: Average Loss = 0.0492 Average Loss Test = 0.0444\n",
      "Epoch 4: Average Loss = 0.0479 Average Loss Test = 0.0432\n",
      "Epoch 5: Average Loss = 0.0470 Average Loss Test = 0.0427\n",
      "Epoch 6: Average Loss = 0.0465 Average Loss Test = 0.0424\n",
      "Epoch 7: Average Loss = 0.0458 Average Loss Test = 0.0422\n",
      "Epoch 8: Average Loss = 0.0454 Average Loss Test = 0.0417\n",
      "Epoch 9: Average Loss = 0.0453 Average Loss Test = 0.0414\n"
     ]
    }
   ],
   "source": [
    "autoencoder, train_loss, test_loss = train_dataset(autoencoder, train_dataloader)"
   ]
  },
  {
   "cell_type": "code",
   "execution_count": 83,
   "metadata": {},
   "outputs": [
    {
     "data": {
      "text/plain": [
       "<matplotlib.legend.Legend at 0x7f8b64df47d0>"
      ]
     },
     "execution_count": 83,
     "metadata": {},
     "output_type": "execute_result"
    },
    {
     "data": {
      "image/png": "[encoded data removed]",
      "text/plain": [
       "<Figure size 1000x600 with 1 Axes>"
      ]
     },
     "metadata": {},
     "output_type": "display_data"
    }
   ],
   "source": [
    "plt.figure(figsize=(10, 6))\n",
    "plt.plot(train_loss, label=\"Train Loss\")\n",
    "plt.plot(test_loss, label=\"Test Loss\")\n",
    "plt.xlabel(\"Epoch\")\n",
    "plt.ylabel(\"Loss\")\n",
    "plt.legend()"
   ]
  },
  {
   "cell_type": "code",
   "execution_count": 55,
   "metadata": {},
   "outputs": [
    {
     "name": "stdout",
     "output_type": "stream",
     "text": [
      "tensor([[15.9482, -9.7721,  5.6004,  2.6929]], device='cuda:0')\n"
     ]
    }
   ],
   "source": [
    "for batch_idx, data in enumerate(test_dataloader):\n",
    "    with torch.no_grad():\n",
    "        data = data.to(device)[0]\n",
    "        output = autoencoder.encoder(data.unsqueeze(0))\n",
    "        print(output)\n",
    "        break"
   ]
  },
  {
   "cell_type": "code",
   "execution_count": 86,
   "metadata": {},
   "outputs": [],
   "source": [
    "feature_columns = [\n",
    "    'CropCoveredArea', 'CHeight', 'IrriCount', 'WaterCov', 'ExpYield',\n",
    "    'ndvi', 'evi', 'ndwi', 'gndvi', 'savi', 'msavi', 'SDate_year', 'SDate_month',\n",
    "       'SDate_day', 'HDate_year', 'HDate_month', 'HDate_day'\n",
    "]\n",
    "X = data_clean[feature_columns]\n",
    "y = data_clean['category']"
   ]
  },
  {
   "cell_type": "code",
   "execution_count": 102,
   "metadata": {},
   "outputs": [],
   "source": [
    "X = []\n",
    "y = []\n",
    "for index, row in data_clean.iterrows():\n",
    "    img_path = os.path.join(\"../data\", row[\"tif_path\"])\n",
    "    x = list(row[feature_columns])\n",
    "    y.append(row['category'])\n",
    "    with rasterio.open(img_path) as src:\n",
    "        red = src.read(3)\n",
    "        green = src.read(2)\n",
    "        blue = src.read(1)\n",
    "        red_scaled = scale_band(red)\n",
    "        green_scaled = scale_band(green)\n",
    "        blue_scaled = scale_band(blue)\n",
    "        rgb = np.dstack((red_scaled, green_scaled,\n",
    "                        blue_scaled)).astype(np.uint8)\n",
    "        p2, p98 = np.percentile(rgb, (2, 98))\n",
    "        rgb = exposure.rescale_intensity(rgb, in_range=(p2, p98))\n",
    "        rgb = exposure.adjust_gamma(rgb, gamma=0.6)\n",
    "        rgb = Image.fromarray(rgb)\n",
    "        rgb = transform(rgb).unsqueeze(0).to(device)\n",
    "        output = autoencoder.encoder(rgb)\n",
    "        output = output.cpu().detach().numpy().squeeze()\n",
    "        output = [float(x) for x in output]\n",
    "        x.extend(output)\n",
    "        X.append(x)"
   ]
  },
  {
   "cell_type": "code",
   "execution_count": 108,
   "metadata": {},
   "outputs": [],
   "source": [
    "X = np.array(X)\n",
    "y = np.array(y)\n",
    "le = LabelEncoder()\n",
    "y = le.fit_transform(y)"
   ]
  },
  {
   "cell_type": "code",
   "execution_count": 109,
   "metadata": {},
   "outputs": [
    {
     "data": {
      "text/plain": [
       "((6874, 22), (6874,))"
      ]
     },
     "execution_count": 109,
     "metadata": {},
     "output_type": "execute_result"
    }
   ],
   "source": [
    "X.shape, y.shape"
   ]
  },
  {
   "cell_type": "code",
   "execution_count": 110,
   "metadata": {},
   "outputs": [],
   "source": [
    "X_train, X_test, y_train, y_test = train_test_split(X, y, test_size=0.2, random_state=42)"
   ]
  },
  {
   "cell_type": "code",
   "execution_count": 111,
   "metadata": {},
   "outputs": [],
   "source": [
    "\n",
    "scaler = StandardScaler()\n",
    "X_train = scaler.fit_transform(X_train)\n",
    "X_test = scaler.transform(X_test)"
   ]
  },
  {
   "cell_type": "code",
   "execution_count": 112,
   "metadata": {},
   "outputs": [
    {
     "name": "stdout",
     "output_type": "stream",
     "text": [
      "Fitting 5 folds for each of 64 candidates, totalling 320 fits\n"
     ]
    }
   ],
   "source": [
    "load_model = False\n",
    "if load_model:\n",
    "    best_lenear_model = joblib.load('best_svm_model_with_encoder_decoder.joblib')\n",
    "else:\n",
    "    param_grid = {\n",
    "        'C': [0.1, 1, 10, 100],\n",
    "        'kernel': ['rbf', 'linear', \"sigmoid\",\"poly\"],\n",
    "        'gamma': ['scale', 'auto', 0.1, 0.01]\n",
    "    }\n",
    "    svm = SVC(random_state=42)\n",
    "    grid_search = GridSearchCV(\n",
    "        svm, param_grid, cv=5, scoring='f1_macro', n_jobs=-1, verbose=1\n",
    "    )\n",
    "    grid_search.fit(X_train, y_train)\n",
    "    best_lenear_model = grid_search.best_estimator_\n",
    "    cv_scores = cross_val_score(\n",
    "        best_lenear_model, X_train, y_train, cv=5, scoring='f1_macro'\n",
    "    )\n",
    "    cv_scores"
   ]
  },
  {
   "cell_type": "code",
   "execution_count": 113,
   "metadata": {},
   "outputs": [
    {
     "name": "stdout",
     "output_type": "stream",
     "text": [
      "              precision    recall  f1-score   support\n",
      "\n",
      "           0       0.07      0.06      0.06        81\n",
      "           1       0.82      0.90      0.86      1134\n",
      "           2       0.10      0.04      0.06        95\n",
      "           3       0.00      0.00      0.00        65\n",
      "\n",
      "    accuracy                           0.75      1375\n",
      "   macro avg       0.25      0.25      0.25      1375\n",
      "weighted avg       0.69      0.75      0.72      1375\n",
      "\n"
     ]
    }
   ],
   "source": [
    "y_pred =  best_lenear_model.predict(X_test)\n",
    "\n",
    "from sklearn.metrics import classification_report\n",
    "print(classification_report(y_test, y_pred))"
   ]
  },
  {
   "cell_type": "code",
   "execution_count": 114,
   "metadata": {},
   "outputs": [
    {
     "data": {
      "text/plain": [
       "['best_svm_model_with_encoder_decoder.joblib']"
      ]
     },
     "execution_count": 114,
     "metadata": {},
     "output_type": "execute_result"
    }
   ],
   "source": [
    "#save model\n",
    "joblib.dump(best_lenear_model, 'best_svm_model_with_encoder_decoder.joblib')"
   ]
  },
  {
   "cell_type": "code",
   "execution_count": null,
   "metadata": {},
   "outputs": [],
   "source": []
  }
 ],
 "metadata": {
  "kernelspec": {
   "display_name": "telangana-crop-health-challenge-hF4Pj6u_-py3.12",
   "language": "python",
   "name": "python3"
  },
  "language_info": {
   "codemirror_mode": {
    "name": "ipython",
    "version": 3
   },
   "file_extension": ".py",
   "mimetype": "text/x-python",
   "name": "python",
   "nbconvert_exporter": "python",
   "pygments_lexer": "ipython3",
   "version": "3.12.3"
  }
 },
 "nbformat": 4,
 "nbformat_minor": 2
}
